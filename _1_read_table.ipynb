{
 "cells": [
  {
   "cell_type": "markdown",
   "metadata": {},
   "source": [
    "### https://tianchi.aliyun.com/competition/information.htm?spm=5176.100067.5678.2.f9ac455879N4xR&raceId=231647"
   ]
  },
  {
   "cell_type": "code",
   "execution_count": 1,
   "metadata": {
    "collapsed": true
   },
   "outputs": [],
   "source": [
    "import pandas as pd\n",
    "import numpy as np\n",
    "import os\n",
    "import matplotlib.pyplot as plt\n",
    "from scipy.stats import chi2_contingency #方差检验\n",
    "import seaborn as sns\n",
    "%matplotlib inline\n",
    "plt.style.use(\"ggplot\")"
   ]
  },
  {
   "cell_type": "code",
   "execution_count": 2,
   "metadata": {
    "collapsed": false
   },
   "outputs": [
    {
     "data": {
      "text/plain": [
       "['ads_0.pickle',\n",
       " 'round1_ijcai_18_result_demo_20180301.txt',\n",
       " 'round1_ijcai_18_test_a_20180301.txt',\n",
       " 'round1_ijcai_18_test_a_20180301.zip',\n",
       " 'round1_ijcai_18_train_20180301.txt',\n",
       " 'round1_ijcai_18_train_20180301.zip',\n",
       " 'train_0.pickle',\n",
       " 'user_0.pickle']"
      ]
     },
     "execution_count": 2,
     "metadata": {},
     "output_type": "execute_result"
    }
   ],
   "source": [
    "os.listdir(\"../数据\")"
   ]
  },
  {
   "cell_type": "code",
   "execution_count": 3,
   "metadata": {
    "collapsed": false
   },
   "outputs": [
    {
     "name": "stdout",
     "output_type": "stream",
     "text": [
      "CPU times: user 11.7 s, sys: 676 ms, total: 12.4 s\n",
      "Wall time: 19.1 s\n"
     ]
    }
   ],
   "source": [
    "%%time\n",
    "train = pd.read_csv(\"../数据/round1_ijcai_18_train_20180301.txt\",delimiter=\" \")\n",
    "train = train.drop_duplicates()"
   ]
  },
  {
   "cell_type": "code",
   "execution_count": 4,
   "metadata": {
    "collapsed": false
   },
   "outputs": [
    {
     "name": "stdout",
     "output_type": "stream",
     "text": [
      "CPU times: user 4 ms, sys: 0 ns, total: 4 ms\n",
      "Wall time: 12.8 ms\n"
     ]
    }
   ],
   "source": [
    "%%time\n",
    "demo = pd.read_csv(\"../数据/round1_ijcai_18_result_demo_20180301.txt\",delimiter=\" \")"
   ]
  },
  {
   "cell_type": "code",
   "execution_count": 3,
   "metadata": {
    "collapsed": false
   },
   "outputs": [
    {
     "data": {
      "text/html": [
       "<div>\n",
       "<style scoped>\n",
       "    .dataframe tbody tr th:only-of-type {\n",
       "        vertical-align: middle;\n",
       "    }\n",
       "\n",
       "    .dataframe tbody tr th {\n",
       "        vertical-align: top;\n",
       "    }\n",
       "\n",
       "    .dataframe thead th {\n",
       "        text-align: right;\n",
       "    }\n",
       "</style>\n",
       "<table border=\"1\" class=\"dataframe\">\n",
       "  <thead>\n",
       "    <tr style=\"text-align: right;\">\n",
       "      <th></th>\n",
       "      <th>instance_id</th>\n",
       "      <th>item_id</th>\n",
       "      <th>item_category_list</th>\n",
       "      <th>item_property_list</th>\n",
       "      <th>item_brand_id</th>\n",
       "      <th>item_city_id</th>\n",
       "      <th>item_price_level</th>\n",
       "      <th>item_sales_level</th>\n",
       "      <th>item_collected_level</th>\n",
       "      <th>item_pv_level</th>\n",
       "      <th>...</th>\n",
       "      <th>context_timestamp</th>\n",
       "      <th>context_page_id</th>\n",
       "      <th>predict_category_property</th>\n",
       "      <th>shop_id</th>\n",
       "      <th>shop_review_num_level</th>\n",
       "      <th>shop_review_positive_rate</th>\n",
       "      <th>shop_star_level</th>\n",
       "      <th>shop_score_service</th>\n",
       "      <th>shop_score_delivery</th>\n",
       "      <th>shop_score_description</th>\n",
       "    </tr>\n",
       "  </thead>\n",
       "  <tbody>\n",
       "    <tr>\n",
       "      <th>0</th>\n",
       "      <td>2475218615076601065</td>\n",
       "      <td>2275895163219263378</td>\n",
       "      <td>7908382889764677758;8277336076276184272</td>\n",
       "      <td>2636395404473730413;7515802706813700848;302719...</td>\n",
       "      <td>7838285046767229711</td>\n",
       "      <td>7534238860363577544</td>\n",
       "      <td>7</td>\n",
       "      <td>6</td>\n",
       "      <td>8</td>\n",
       "      <td>14</td>\n",
       "      <td>...</td>\n",
       "      <td>1537885700</td>\n",
       "      <td>4005</td>\n",
       "      <td>8277336076276184272:-1;5799347067982556520:-1;...</td>\n",
       "      <td>5275548996133547595</td>\n",
       "      <td>13</td>\n",
       "      <td>0.985244</td>\n",
       "      <td>5011</td>\n",
       "      <td>0.964023</td>\n",
       "      <td>0.966550</td>\n",
       "      <td>0.955378</td>\n",
       "    </tr>\n",
       "    <tr>\n",
       "      <th>1</th>\n",
       "      <td>398316874173557226</td>\n",
       "      <td>7096238490711246967</td>\n",
       "      <td>7908382889764677758;5755694407684602296</td>\n",
       "      <td>5131280576272319091;2636395404473730413;734498...</td>\n",
       "      <td>8126195666233054089</td>\n",
       "      <td>3948283326616421003</td>\n",
       "      <td>6</td>\n",
       "      <td>9</td>\n",
       "      <td>8</td>\n",
       "      <td>16</td>\n",
       "      <td>...</td>\n",
       "      <td>1537862843</td>\n",
       "      <td>4001</td>\n",
       "      <td>5755694407684602296:216555019471416386,2636395...</td>\n",
       "      <td>329470548383752413</td>\n",
       "      <td>14</td>\n",
       "      <td>0.989068</td>\n",
       "      <td>5012</td>\n",
       "      <td>0.963794</td>\n",
       "      <td>0.964225</td>\n",
       "      <td>0.959134</td>\n",
       "    </tr>\n",
       "    <tr>\n",
       "      <th>2</th>\n",
       "      <td>6586402638209028583</td>\n",
       "      <td>7096238490711246967</td>\n",
       "      <td>7908382889764677758;5755694407684602296</td>\n",
       "      <td>5131280576272319091;2636395404473730413;734498...</td>\n",
       "      <td>8126195666233054089</td>\n",
       "      <td>3948283326616421003</td>\n",
       "      <td>6</td>\n",
       "      <td>9</td>\n",
       "      <td>8</td>\n",
       "      <td>16</td>\n",
       "      <td>...</td>\n",
       "      <td>1537858222</td>\n",
       "      <td>4011</td>\n",
       "      <td>5755694407684602296:2636395404473730413;871073...</td>\n",
       "      <td>329470548383752413</td>\n",
       "      <td>14</td>\n",
       "      <td>0.989068</td>\n",
       "      <td>5012</td>\n",
       "      <td>0.963794</td>\n",
       "      <td>0.964225</td>\n",
       "      <td>0.959134</td>\n",
       "    </tr>\n",
       "    <tr>\n",
       "      <th>3</th>\n",
       "      <td>1040996105851528465</td>\n",
       "      <td>7096238490711246967</td>\n",
       "      <td>7908382889764677758;5755694407684602296</td>\n",
       "      <td>5131280576272319091;2636395404473730413;734498...</td>\n",
       "      <td>8126195666233054089</td>\n",
       "      <td>3948283326616421003</td>\n",
       "      <td>6</td>\n",
       "      <td>9</td>\n",
       "      <td>8</td>\n",
       "      <td>16</td>\n",
       "      <td>...</td>\n",
       "      <td>1537860915</td>\n",
       "      <td>4001</td>\n",
       "      <td>8710739180200009128:-1;5755694407684602296:263...</td>\n",
       "      <td>329470548383752413</td>\n",
       "      <td>14</td>\n",
       "      <td>0.989068</td>\n",
       "      <td>5012</td>\n",
       "      <td>0.963794</td>\n",
       "      <td>0.964225</td>\n",
       "      <td>0.959134</td>\n",
       "    </tr>\n",
       "    <tr>\n",
       "      <th>4</th>\n",
       "      <td>6316278569655873454</td>\n",
       "      <td>7096238490711246967</td>\n",
       "      <td>7908382889764677758;5755694407684602296</td>\n",
       "      <td>5131280576272319091;2636395404473730413;734498...</td>\n",
       "      <td>8126195666233054089</td>\n",
       "      <td>3948283326616421003</td>\n",
       "      <td>6</td>\n",
       "      <td>9</td>\n",
       "      <td>8</td>\n",
       "      <td>16</td>\n",
       "      <td>...</td>\n",
       "      <td>1537859074</td>\n",
       "      <td>4001</td>\n",
       "      <td>5755694407684602296:5131280576272319091;871073...</td>\n",
       "      <td>329470548383752413</td>\n",
       "      <td>14</td>\n",
       "      <td>0.989068</td>\n",
       "      <td>5012</td>\n",
       "      <td>0.963794</td>\n",
       "      <td>0.964225</td>\n",
       "      <td>0.959134</td>\n",
       "    </tr>\n",
       "  </tbody>\n",
       "</table>\n",
       "<p>5 rows × 26 columns</p>\n",
       "</div>"
      ],
      "text/plain": [
       "           instance_id              item_id  \\\n",
       "0  2475218615076601065  2275895163219263378   \n",
       "1   398316874173557226  7096238490711246967   \n",
       "2  6586402638209028583  7096238490711246967   \n",
       "3  1040996105851528465  7096238490711246967   \n",
       "4  6316278569655873454  7096238490711246967   \n",
       "\n",
       "                        item_category_list  \\\n",
       "0  7908382889764677758;8277336076276184272   \n",
       "1  7908382889764677758;5755694407684602296   \n",
       "2  7908382889764677758;5755694407684602296   \n",
       "3  7908382889764677758;5755694407684602296   \n",
       "4  7908382889764677758;5755694407684602296   \n",
       "\n",
       "                                  item_property_list        item_brand_id  \\\n",
       "0  2636395404473730413;7515802706813700848;302719...  7838285046767229711   \n",
       "1  5131280576272319091;2636395404473730413;734498...  8126195666233054089   \n",
       "2  5131280576272319091;2636395404473730413;734498...  8126195666233054089   \n",
       "3  5131280576272319091;2636395404473730413;734498...  8126195666233054089   \n",
       "4  5131280576272319091;2636395404473730413;734498...  8126195666233054089   \n",
       "\n",
       "          item_city_id  item_price_level  item_sales_level  \\\n",
       "0  7534238860363577544                 7                 6   \n",
       "1  3948283326616421003                 6                 9   \n",
       "2  3948283326616421003                 6                 9   \n",
       "3  3948283326616421003                 6                 9   \n",
       "4  3948283326616421003                 6                 9   \n",
       "\n",
       "   item_collected_level  item_pv_level           ...            \\\n",
       "0                     8             14           ...             \n",
       "1                     8             16           ...             \n",
       "2                     8             16           ...             \n",
       "3                     8             16           ...             \n",
       "4                     8             16           ...             \n",
       "\n",
       "   context_timestamp  context_page_id  \\\n",
       "0         1537885700             4005   \n",
       "1         1537862843             4001   \n",
       "2         1537858222             4011   \n",
       "3         1537860915             4001   \n",
       "4         1537859074             4001   \n",
       "\n",
       "                           predict_category_property              shop_id  \\\n",
       "0  8277336076276184272:-1;5799347067982556520:-1;...  5275548996133547595   \n",
       "1  5755694407684602296:216555019471416386,2636395...   329470548383752413   \n",
       "2  5755694407684602296:2636395404473730413;871073...   329470548383752413   \n",
       "3  8710739180200009128:-1;5755694407684602296:263...   329470548383752413   \n",
       "4  5755694407684602296:5131280576272319091;871073...   329470548383752413   \n",
       "\n",
       "   shop_review_num_level  shop_review_positive_rate  shop_star_level  \\\n",
       "0                     13                   0.985244             5011   \n",
       "1                     14                   0.989068             5012   \n",
       "2                     14                   0.989068             5012   \n",
       "3                     14                   0.989068             5012   \n",
       "4                     14                   0.989068             5012   \n",
       "\n",
       "   shop_score_service shop_score_delivery  shop_score_description  \n",
       "0            0.964023            0.966550                0.955378  \n",
       "1            0.963794            0.964225                0.959134  \n",
       "2            0.963794            0.964225                0.959134  \n",
       "3            0.963794            0.964225                0.959134  \n",
       "4            0.963794            0.964225                0.959134  \n",
       "\n",
       "[5 rows x 26 columns]"
      ]
     },
     "execution_count": 3,
     "metadata": {},
     "output_type": "execute_result"
    }
   ],
   "source": [
    "test = pd.read_csv(\"../数据/round1_ijcai_18_test_a_20180301.txt\",delimiter=\" \")\n",
    "test.head()"
   ]
  },
  {
   "cell_type": "code",
   "execution_count": 14,
   "metadata": {
    "collapsed": false
   },
   "outputs": [],
   "source": [
    "tr_item_id = train[[\"item_id\"]].drop_duplicates()\n",
    "ts_item_id = test[[\"item_id\"]].drop_duplicates()\n",
    "ts_item_id.columns=[\"ts_item_id\"]\n",
    "a = pd.merge(tr_item_id,ts_item_id,how=\"left\",left_on=\"item_id\",right_on=\"ts_item_id\")"
   ]
  },
  {
   "cell_type": "code",
   "execution_count": 19,
   "metadata": {
    "collapsed": false
   },
   "outputs": [
    {
     "data": {
      "text/plain": [
       "3534"
      ]
     },
     "execution_count": 19,
     "metadata": {},
     "output_type": "execute_result"
    }
   ],
   "source": [
    "a[a[\"ts_item_id\"].notnull()].shape[0]"
   ]
  },
  {
   "cell_type": "code",
   "execution_count": 20,
   "metadata": {
    "collapsed": false
   },
   "outputs": [
    {
     "data": {
      "text/plain": [
       "3695"
      ]
     },
     "execution_count": 20,
     "metadata": {},
     "output_type": "execute_result"
    }
   ],
   "source": [
    "ts_item_id.shape[0]"
   ]
  },
  {
   "cell_type": "code",
   "execution_count": null,
   "metadata": {
    "collapsed": false
   },
   "outputs": [],
   "source": [
    "set(train[\"item_id\"].to_list()) & set(test)"
   ]
  },
  {
   "cell_type": "code",
   "execution_count": 6,
   "metadata": {
    "collapsed": false
   },
   "outputs": [
    {
     "data": {
      "text/html": [
       "<div>\n",
       "<style>\n",
       "    .dataframe thead tr:only-child th {\n",
       "        text-align: right;\n",
       "    }\n",
       "\n",
       "    .dataframe thead th {\n",
       "        text-align: left;\n",
       "    }\n",
       "\n",
       "    .dataframe tbody tr th {\n",
       "        vertical-align: top;\n",
       "    }\n",
       "</style>\n",
       "<table border=\"1\" class=\"dataframe\">\n",
       "  <thead>\n",
       "    <tr style=\"text-align: right;\">\n",
       "      <th></th>\n",
       "      <th>instance_id</th>\n",
       "      <th>predicted_score</th>\n",
       "    </tr>\n",
       "  </thead>\n",
       "  <tbody>\n",
       "    <tr>\n",
       "      <th>0</th>\n",
       "      <td>2475218615076601065</td>\n",
       "      <td>0.9</td>\n",
       "    </tr>\n",
       "    <tr>\n",
       "      <th>1</th>\n",
       "      <td>398316874173557226</td>\n",
       "      <td>0.7</td>\n",
       "    </tr>\n",
       "    <tr>\n",
       "      <th>2</th>\n",
       "      <td>6586402638209028583</td>\n",
       "      <td>0.5</td>\n",
       "    </tr>\n",
       "    <tr>\n",
       "      <th>3</th>\n",
       "      <td>1040996105851528465</td>\n",
       "      <td>0.3</td>\n",
       "    </tr>\n",
       "    <tr>\n",
       "      <th>4</th>\n",
       "      <td>6316278569655873454</td>\n",
       "      <td>0.1</td>\n",
       "    </tr>\n",
       "  </tbody>\n",
       "</table>\n",
       "</div>"
      ],
      "text/plain": [
       "           instance_id  predicted_score\n",
       "0  2475218615076601065              0.9\n",
       "1   398316874173557226              0.7\n",
       "2  6586402638209028583              0.5\n",
       "3  1040996105851528465              0.3\n",
       "4  6316278569655873454              0.1"
      ]
     },
     "execution_count": 6,
     "metadata": {},
     "output_type": "execute_result"
    }
   ],
   "source": [
    "demo.head()"
   ]
  },
  {
   "cell_type": "code",
   "execution_count": 7,
   "metadata": {
    "collapsed": false
   },
   "outputs": [
    {
     "name": "stdout",
     "output_type": "stream",
     "text": [
      "CPU times: user 408 ms, sys: 72 ms, total: 480 ms\n",
      "Wall time: 1.21 s\n"
     ]
    }
   ],
   "source": [
    "%%time\n",
    "test = pd.read_csv(\"../数据/round1_ijcai_18_test_a_20180301.txt\",delimiter=\" \")"
   ]
  },
  {
   "cell_type": "code",
   "execution_count": 8,
   "metadata": {
    "collapsed": false
   },
   "outputs": [
    {
     "data": {
      "text/plain": [
       "(18371, 26)"
      ]
     },
     "execution_count": 8,
     "metadata": {},
     "output_type": "execute_result"
    }
   ],
   "source": [
    "test.shape"
   ]
  },
  {
   "cell_type": "markdown",
   "metadata": {},
   "source": [
    "## 1.读取数据\n",
    "-----\n",
    "> * 统计每个特征的取值个数\n",
    "> * 空值个数\n",
    "> * 正负样本比例\n",
    "> * 数据类型"
   ]
  },
  {
   "cell_type": "code",
   "execution_count": 9,
   "metadata": {
    "collapsed": false
   },
   "outputs": [
    {
     "data": {
      "text/html": [
       "<div>\n",
       "<style>\n",
       "    .dataframe thead tr:only-child th {\n",
       "        text-align: right;\n",
       "    }\n",
       "\n",
       "    .dataframe thead th {\n",
       "        text-align: left;\n",
       "    }\n",
       "\n",
       "    .dataframe tbody tr th {\n",
       "        vertical-align: top;\n",
       "    }\n",
       "</style>\n",
       "<table border=\"1\" class=\"dataframe\">\n",
       "  <thead>\n",
       "    <tr style=\"text-align: right;\">\n",
       "      <th></th>\n",
       "      <th>instance_id</th>\n",
       "      <th>item_id</th>\n",
       "      <th>item_category_list</th>\n",
       "      <th>item_property_list</th>\n",
       "      <th>item_brand_id</th>\n",
       "      <th>item_city_id</th>\n",
       "      <th>item_price_level</th>\n",
       "      <th>item_sales_level</th>\n",
       "      <th>item_collected_level</th>\n",
       "      <th>item_pv_level</th>\n",
       "      <th>...</th>\n",
       "      <th>context_page_id</th>\n",
       "      <th>predict_category_property</th>\n",
       "      <th>shop_id</th>\n",
       "      <th>shop_review_num_level</th>\n",
       "      <th>shop_review_positive_rate</th>\n",
       "      <th>shop_star_level</th>\n",
       "      <th>shop_score_service</th>\n",
       "      <th>shop_score_delivery</th>\n",
       "      <th>shop_score_description</th>\n",
       "      <th>is_trade</th>\n",
       "    </tr>\n",
       "  </thead>\n",
       "  <tbody>\n",
       "    <tr>\n",
       "      <th>0</th>\n",
       "      <td>108641074714126964</td>\n",
       "      <td>3412720377098676069</td>\n",
       "      <td>7908382889764677758;5799347067982556520</td>\n",
       "      <td>2072967855524022579;5131280576272319091;263639...</td>\n",
       "      <td>1975590437749032870</td>\n",
       "      <td>3948283326616421003</td>\n",
       "      <td>3</td>\n",
       "      <td>3</td>\n",
       "      <td>4</td>\n",
       "      <td>14</td>\n",
       "      <td>...</td>\n",
       "      <td>4006</td>\n",
       "      <td>5799347067982556520:-1;509660095530134768:-1;5...</td>\n",
       "      <td>6765930309048922341</td>\n",
       "      <td>4</td>\n",
       "      <td>1.0</td>\n",
       "      <td>5002</td>\n",
       "      <td>1.0</td>\n",
       "      <td>1.0</td>\n",
       "      <td>1.0</td>\n",
       "      <td>0</td>\n",
       "    </tr>\n",
       "    <tr>\n",
       "      <th>1</th>\n",
       "      <td>5754713551599725161</td>\n",
       "      <td>3412720377098676069</td>\n",
       "      <td>7908382889764677758;5799347067982556520</td>\n",
       "      <td>2072967855524022579;5131280576272319091;263639...</td>\n",
       "      <td>1975590437749032870</td>\n",
       "      <td>3948283326616421003</td>\n",
       "      <td>3</td>\n",
       "      <td>3</td>\n",
       "      <td>4</td>\n",
       "      <td>14</td>\n",
       "      <td>...</td>\n",
       "      <td>4001</td>\n",
       "      <td>5799347067982556520:9172976955054793469;790838...</td>\n",
       "      <td>6765930309048922341</td>\n",
       "      <td>4</td>\n",
       "      <td>1.0</td>\n",
       "      <td>5002</td>\n",
       "      <td>1.0</td>\n",
       "      <td>1.0</td>\n",
       "      <td>1.0</td>\n",
       "      <td>0</td>\n",
       "    </tr>\n",
       "    <tr>\n",
       "      <th>2</th>\n",
       "      <td>842679481291040981</td>\n",
       "      <td>3412720377098676069</td>\n",
       "      <td>7908382889764677758;5799347067982556520</td>\n",
       "      <td>2072967855524022579;5131280576272319091;263639...</td>\n",
       "      <td>1975590437749032870</td>\n",
       "      <td>3948283326616421003</td>\n",
       "      <td>3</td>\n",
       "      <td>3</td>\n",
       "      <td>4</td>\n",
       "      <td>14</td>\n",
       "      <td>...</td>\n",
       "      <td>4001</td>\n",
       "      <td>5799347067982556520:5131280576272319091;725801...</td>\n",
       "      <td>6765930309048922341</td>\n",
       "      <td>4</td>\n",
       "      <td>1.0</td>\n",
       "      <td>5002</td>\n",
       "      <td>1.0</td>\n",
       "      <td>1.0</td>\n",
       "      <td>1.0</td>\n",
       "      <td>0</td>\n",
       "    </tr>\n",
       "    <tr>\n",
       "      <th>3</th>\n",
       "      <td>937088850059189027</td>\n",
       "      <td>3412720377098676069</td>\n",
       "      <td>7908382889764677758;5799347067982556520</td>\n",
       "      <td>2072967855524022579;5131280576272319091;263639...</td>\n",
       "      <td>1975590437749032870</td>\n",
       "      <td>3948283326616421003</td>\n",
       "      <td>3</td>\n",
       "      <td>3</td>\n",
       "      <td>4</td>\n",
       "      <td>14</td>\n",
       "      <td>...</td>\n",
       "      <td>4016</td>\n",
       "      <td>509660095530134768:-1;5799347067982556520:-1;7...</td>\n",
       "      <td>6765930309048922341</td>\n",
       "      <td>4</td>\n",
       "      <td>1.0</td>\n",
       "      <td>5002</td>\n",
       "      <td>1.0</td>\n",
       "      <td>1.0</td>\n",
       "      <td>1.0</td>\n",
       "      <td>0</td>\n",
       "    </tr>\n",
       "    <tr>\n",
       "      <th>4</th>\n",
       "      <td>7975697065017708072</td>\n",
       "      <td>3412720377098676069</td>\n",
       "      <td>7908382889764677758;5799347067982556520</td>\n",
       "      <td>2072967855524022579;5131280576272319091;263639...</td>\n",
       "      <td>1975590437749032870</td>\n",
       "      <td>3948283326616421003</td>\n",
       "      <td>3</td>\n",
       "      <td>3</td>\n",
       "      <td>4</td>\n",
       "      <td>14</td>\n",
       "      <td>...</td>\n",
       "      <td>4001</td>\n",
       "      <td>5799347067982556520:9172976955054793469;790838...</td>\n",
       "      <td>6765930309048922341</td>\n",
       "      <td>4</td>\n",
       "      <td>1.0</td>\n",
       "      <td>5002</td>\n",
       "      <td>1.0</td>\n",
       "      <td>1.0</td>\n",
       "      <td>1.0</td>\n",
       "      <td>0</td>\n",
       "    </tr>\n",
       "  </tbody>\n",
       "</table>\n",
       "<p>5 rows × 27 columns</p>\n",
       "</div>"
      ],
      "text/plain": [
       "           instance_id              item_id  \\\n",
       "0   108641074714126964  3412720377098676069   \n",
       "1  5754713551599725161  3412720377098676069   \n",
       "2   842679481291040981  3412720377098676069   \n",
       "3   937088850059189027  3412720377098676069   \n",
       "4  7975697065017708072  3412720377098676069   \n",
       "\n",
       "                        item_category_list  \\\n",
       "0  7908382889764677758;5799347067982556520   \n",
       "1  7908382889764677758;5799347067982556520   \n",
       "2  7908382889764677758;5799347067982556520   \n",
       "3  7908382889764677758;5799347067982556520   \n",
       "4  7908382889764677758;5799347067982556520   \n",
       "\n",
       "                                  item_property_list        item_brand_id  \\\n",
       "0  2072967855524022579;5131280576272319091;263639...  1975590437749032870   \n",
       "1  2072967855524022579;5131280576272319091;263639...  1975590437749032870   \n",
       "2  2072967855524022579;5131280576272319091;263639...  1975590437749032870   \n",
       "3  2072967855524022579;5131280576272319091;263639...  1975590437749032870   \n",
       "4  2072967855524022579;5131280576272319091;263639...  1975590437749032870   \n",
       "\n",
       "          item_city_id  item_price_level  item_sales_level  \\\n",
       "0  3948283326616421003                 3                 3   \n",
       "1  3948283326616421003                 3                 3   \n",
       "2  3948283326616421003                 3                 3   \n",
       "3  3948283326616421003                 3                 3   \n",
       "4  3948283326616421003                 3                 3   \n",
       "\n",
       "   item_collected_level  item_pv_level    ...     context_page_id  \\\n",
       "0                     4             14    ...                4006   \n",
       "1                     4             14    ...                4001   \n",
       "2                     4             14    ...                4001   \n",
       "3                     4             14    ...                4016   \n",
       "4                     4             14    ...                4001   \n",
       "\n",
       "                           predict_category_property              shop_id  \\\n",
       "0  5799347067982556520:-1;509660095530134768:-1;5...  6765930309048922341   \n",
       "1  5799347067982556520:9172976955054793469;790838...  6765930309048922341   \n",
       "2  5799347067982556520:5131280576272319091;725801...  6765930309048922341   \n",
       "3  509660095530134768:-1;5799347067982556520:-1;7...  6765930309048922341   \n",
       "4  5799347067982556520:9172976955054793469;790838...  6765930309048922341   \n",
       "\n",
       "   shop_review_num_level  shop_review_positive_rate  shop_star_level  \\\n",
       "0                      4                        1.0             5002   \n",
       "1                      4                        1.0             5002   \n",
       "2                      4                        1.0             5002   \n",
       "3                      4                        1.0             5002   \n",
       "4                      4                        1.0             5002   \n",
       "\n",
       "   shop_score_service  shop_score_delivery shop_score_description  is_trade  \n",
       "0                 1.0                  1.0                    1.0         0  \n",
       "1                 1.0                  1.0                    1.0         0  \n",
       "2                 1.0                  1.0                    1.0         0  \n",
       "3                 1.0                  1.0                    1.0         0  \n",
       "4                 1.0                  1.0                    1.0         0  \n",
       "\n",
       "[5 rows x 27 columns]"
      ]
     },
     "execution_count": 9,
     "metadata": {},
     "output_type": "execute_result"
    }
   ],
   "source": [
    "train.head()"
   ]
  },
  {
   "cell_type": "code",
   "execution_count": null,
   "metadata": {
    "collapsed": true
   },
   "outputs": [],
   "source": [
    "train"
   ]
  },
  {
   "cell_type": "code",
   "execution_count": 15,
   "metadata": {
    "collapsed": false
   },
   "outputs": [
    {
     "data": {
      "text/plain": [
       "(478111, 27)"
      ]
     },
     "execution_count": 15,
     "metadata": {},
     "output_type": "execute_result"
    }
   ],
   "source": [
    "train.shape"
   ]
  },
  {
   "cell_type": "markdown",
   "metadata": {},
   "source": [
    "### 1.1 统计每个特征对应的取值个数"
   ]
  },
  {
   "cell_type": "code",
   "execution_count": 10,
   "metadata": {
    "collapsed": false
   },
   "outputs": [
    {
     "data": {
      "text/plain": [
       "(478111, 27)"
      ]
     },
     "execution_count": 10,
     "metadata": {},
     "output_type": "execute_result"
    }
   ],
   "source": [
    "train.shape"
   ]
  },
  {
   "cell_type": "code",
   "execution_count": 11,
   "metadata": {
    "collapsed": false,
    "scrolled": true
   },
   "outputs": [
    {
     "data": {
      "text/plain": [
       "instance_id                  478087\n",
       "item_id                       10075\n",
       "item_category_list               14\n",
       "item_property_list            10908\n",
       "item_brand_id                  2055\n",
       "item_city_id                    128\n",
       "item_price_level                 14\n",
       "item_sales_level                 18\n",
       "item_collected_level             18\n",
       "item_pv_level                    22\n",
       "user_id                      197694\n",
       "user_gender_id                    4\n",
       "user_age_level                    9\n",
       "user_occupation_id                5\n",
       "user_star_level                  12\n",
       "context_id                   478111\n",
       "context_timestamp            281824\n",
       "context_page_id                  20\n",
       "predict_category_property     78796\n",
       "shop_id                        3959\n",
       "shop_review_num_level            25\n",
       "shop_review_positive_rate     11825\n",
       "shop_star_level                  22\n",
       "shop_score_service            16361\n",
       "shop_score_delivery           16423\n",
       "shop_score_description        16463\n",
       "is_trade                          2\n",
       "dtype: int64"
      ]
     },
     "execution_count": 11,
     "metadata": {},
     "output_type": "execute_result"
    }
   ],
   "source": [
    "#统计每个特征的取值个数\n",
    "nunique_cnt = train.nunique()\n",
    "nunique_cnt"
   ]
  },
  {
   "cell_type": "markdown",
   "metadata": {},
   "source": [
    "#####  问题所在\n",
    "----\n",
    "> * 原始数据一共478138行，而样本编码（instance_id)为478087，为什么？\n",
    "> * 检查测试集看instance_id是否为空"
   ]
  },
  {
   "cell_type": "code",
   "execution_count": 12,
   "metadata": {
    "collapsed": false,
    "scrolled": true
   },
   "outputs": [
    {
     "data": {
      "text/plain": [
       "7055671380612717600    1\n",
       "3195686240835722971    1\n",
       "1818164457986282905    1\n",
       "557324981652623607     1\n",
       "7816020961506650153    1\n",
       "4932547166397956445    1\n",
       "2841706222821841608    1\n",
       "1495054868885107395    1\n",
       "1428935501295831614    1\n",
       "4020771236918776293    1\n",
       "8577449422879856484    1\n",
       "9002692419393703299    1\n",
       "5186773674513142916    1\n",
       "7404482430937478083    1\n",
       "8190211489375551485    1\n",
       "7194776423308597621    1\n",
       "3194398481957330634    1\n",
       "1444100388981773856    1\n",
       "4672983701832677886    1\n",
       "8288980414382476586    1\n",
       "1571659358536386870    1\n",
       "8837918254421401904    1\n",
       "9157669017407355747    1\n",
       "3910768229151601062    1\n",
       "6876130707136505063    1\n",
       "5232681213365807371    1\n",
       "6937144296054426237    1\n",
       "1123472121030692105    1\n",
       "4022539315629669884    1\n",
       "7970923563676126906    1\n",
       "                      ..\n",
       "981816372945031993     1\n",
       "2931317077523774927    1\n",
       "6729832655393478526    1\n",
       "8488555215587182092    1\n",
       "9122244226732800315    1\n",
       "252896656277381417     1\n",
       "104553508642102302     1\n",
       "2059431310940235167    1\n",
       "3706241587879710456    1\n",
       "2992687423570963163    1\n",
       "4818171970996068075    1\n",
       "1519630998747536732    1\n",
       "5231627872424067517    1\n",
       "3616933140539544470    1\n",
       "4781690881458508233    1\n",
       "1876520637172632472    1\n",
       "6768727629240608876    1\n",
       "1929659029880299033    1\n",
       "2518360643403977880    1\n",
       "4750788892877807074    1\n",
       "1998147384753928560    1\n",
       "2814985771805356118    1\n",
       "2429599175449637006    1\n",
       "3771537543270297859    1\n",
       "6530341199457690712    1\n",
       "8849428669750039621    1\n",
       "6043180928336090555    1\n",
       "7346594233392967127    1\n",
       "5156439165745690482    1\n",
       "2160722159073017763    1\n",
       "Name: instance_id, Length: 18371, dtype: int64"
      ]
     },
     "execution_count": 12,
     "metadata": {},
     "output_type": "execute_result"
    }
   ],
   "source": [
    "test[\"instance_id\"].value_counts()"
   ]
  },
  {
   "cell_type": "code",
   "execution_count": 13,
   "metadata": {
    "collapsed": false,
    "scrolled": true
   },
   "outputs": [
    {
     "data": {
      "text/plain": [
       "2535273059737073357    2\n",
       "6344363116315363445    2\n",
       "1037061371711078396    2\n",
       "2264716673495444735    2\n",
       "6592583059060882788    2\n",
       "348545486282294646     2\n",
       "2910529267144588090    2\n",
       "191012710137081307     2\n",
       "644690756602987584     2\n",
       "4110443799016068208    2\n",
       "7773970221732336968    2\n",
       "4598693726484786606    2\n",
       "8042010293411636231    2\n",
       "6214707899917303043    2\n",
       "8495813758894672234    2\n",
       "4716737653711059052    2\n",
       "6484429841255256717    2\n",
       "6020113693432894079    2\n",
       "6458098125008270690    2\n",
       "251764820957840061     2\n",
       "4505908068775890459    2\n",
       "2820033257616039272    2\n",
       "6031880284089240838    2\n",
       "7613854672358296887    2\n",
       "7976791347830683894    1\n",
       "5291051777058952190    1\n",
       "4786333317945974262    1\n",
       "7624289353549415715    1\n",
       "1254516543081130071    1\n",
       "1277204676569062031    1\n",
       "                      ..\n",
       "4757241322529199156    1\n",
       "2308215517964350519    1\n",
       "4500579299644989471    1\n",
       "9037510016191738257    1\n",
       "722076614882461939     1\n",
       "7640697350130511938    1\n",
       "5656254692145407091    1\n",
       "2030658619486086662    1\n",
       "3970710612273785990    1\n",
       "4486962042899353779    1\n",
       "4601757846471194522    1\n",
       "3601085423066235557    1\n",
       "9135119873917088643    1\n",
       "887788915048277275     1\n",
       "3174274003329923571    1\n",
       "4659300961363700054    1\n",
       "4679246770231808421    1\n",
       "4408228986487459020    1\n",
       "6605125089835246202    1\n",
       "7437110725906435288    1\n",
       "2404506763107457492    1\n",
       "4847500403422115063    1\n",
       "1681650452247553237    1\n",
       "3836757637917643163    1\n",
       "6620222800746848783    1\n",
       "7686108008974358413    1\n",
       "7234190422928073251    1\n",
       "7107637943936829768    1\n",
       "1204011044917236229    1\n",
       "2872356053194836320    1\n",
       "Name: instance_id, Length: 478087, dtype: int64"
      ]
     },
     "execution_count": 13,
     "metadata": {},
     "output_type": "execute_result"
    }
   ],
   "source": [
    "train[\"instance_id\"].value_counts()"
   ]
  },
  {
   "cell_type": "code",
   "execution_count": 14,
   "metadata": {
    "collapsed": false
   },
   "outputs": [
    {
     "data": {
      "text/plain": [
       "instance_id                  24\n",
       "item_id                      48\n",
       "item_category_list            8\n",
       "item_property_list           48\n",
       "item_brand_id                34\n",
       "item_city_id                 14\n",
       "item_price_level              5\n",
       "item_sales_level             13\n",
       "item_collected_level         14\n",
       "item_pv_level                10\n",
       "user_id                      48\n",
       "user_gender_id                3\n",
       "user_age_level                8\n",
       "user_occupation_id            2\n",
       "user_star_level              10\n",
       "context_id                   48\n",
       "context_timestamp            48\n",
       "context_page_id              11\n",
       "predict_category_property    47\n",
       "shop_id                      47\n",
       "shop_review_num_level        11\n",
       "shop_review_positive_rate    26\n",
       "shop_star_level              10\n",
       "shop_score_service           48\n",
       "shop_score_delivery          48\n",
       "shop_score_description       48\n",
       "is_trade                      1\n",
       "dtype: int64"
      ]
     },
     "execution_count": 14,
     "metadata": {},
     "output_type": "execute_result"
    }
   ],
   "source": [
    "insID_cnt = train[\"instance_id\"].value_counts()\n",
    "train[train[\"instance_id\"].isin(insID_cnt[insID_cnt>1].index)].nunique()"
   ]
  },
  {
   "cell_type": "code",
   "execution_count": 15,
   "metadata": {
    "collapsed": false
   },
   "outputs": [],
   "source": [
    "duplicateItem = train[train[\"instance_id\"].isin(insID_cnt[insID_cnt>1].index)][\"item_id\"].unique()\n",
    "non_duplicateItem = train[train[\"instance_id\"].isin(insID_cnt[insID_cnt==1].index)][\"item_id\"].unique()"
   ]
  },
  {
   "cell_type": "code",
   "execution_count": 16,
   "metadata": {
    "collapsed": false
   },
   "outputs": [
    {
     "data": {
      "text/plain": [
       "47"
      ]
     },
     "execution_count": 16,
     "metadata": {},
     "output_type": "execute_result"
    }
   ],
   "source": [
    "len(list(set(duplicateItem)&set(non_duplicateItem)))"
   ]
  },
  {
   "cell_type": "code",
   "execution_count": 17,
   "metadata": {
    "collapsed": false
   },
   "outputs": [
    {
     "data": {
      "text/plain": [
       "instance_id                  478063\n",
       "item_id                       10074\n",
       "item_category_list               14\n",
       "item_property_list            10907\n",
       "item_brand_id                  2055\n",
       "item_city_id                    128\n",
       "item_price_level                 14\n",
       "item_sales_level                 18\n",
       "item_collected_level             18\n",
       "item_pv_level                    22\n",
       "user_id                      197681\n",
       "user_gender_id                    4\n",
       "user_age_level                    9\n",
       "user_occupation_id                5\n",
       "user_star_level                  12\n",
       "context_id                   478063\n",
       "context_timestamp            281810\n",
       "context_page_id                  20\n",
       "predict_category_property     78793\n",
       "shop_id                        3958\n",
       "shop_review_num_level            25\n",
       "shop_review_positive_rate     11824\n",
       "shop_star_level                  22\n",
       "shop_score_service            16361\n",
       "shop_score_delivery           16422\n",
       "shop_score_description        16462\n",
       "is_trade                          2\n",
       "dtype: int64"
      ]
     },
     "execution_count": 17,
     "metadata": {},
     "output_type": "execute_result"
    }
   ],
   "source": [
    "train[train[\"instance_id\"].isin(insID_cnt[insID_cnt==1].index)].nunique()"
   ]
  },
  {
   "cell_type": "markdown",
   "metadata": {},
   "source": [
    "##### 结论\n",
    "----\n",
    "> * 在训练集中instance_id重复的有48个，而测试集里没有instance_id重复的，故猜测训练集instance_id发生了小小的错误。鉴于分析的方便，建议把训练集instance_id重复的记录删除"
   ]
  },
  {
   "cell_type": "code",
   "execution_count": 18,
   "metadata": {
    "collapsed": false
   },
   "outputs": [
    {
     "data": {
      "text/plain": [
       "(478063, 27)"
      ]
     },
     "execution_count": 18,
     "metadata": {},
     "output_type": "execute_result"
    }
   ],
   "source": [
    "train = train[train[\"instance_id\"].isin(insID_cnt[insID_cnt==1].index)]\n",
    "train.shape"
   ]
  },
  {
   "cell_type": "code",
   "execution_count": 19,
   "metadata": {
    "collapsed": true
   },
   "outputs": [],
   "source": [
    "train = train.to_pickle(\"../数据/train_0.pickle\")"
   ]
  },
  {
   "cell_type": "code",
   "execution_count": 25,
   "metadata": {
    "collapsed": false,
    "scrolled": true
   },
   "outputs": [
    {
     "data": {
      "text/plain": [
       "instance_id                  478063\n",
       "item_id                       10074\n",
       "item_category_list               14\n",
       "item_property_list            10907\n",
       "item_brand_id                  2055\n",
       "item_city_id                    128\n",
       "item_price_level                 14\n",
       "item_sales_level                 18\n",
       "item_collected_level             18\n",
       "item_pv_level                    22\n",
       "user_id                      197681\n",
       "user_gender_id                    4\n",
       "user_age_level                    9\n",
       "user_occupation_id                5\n",
       "user_star_level                  12\n",
       "context_id                   478063\n",
       "context_timestamp            281810\n",
       "context_page_id                  20\n",
       "predict_category_property     78793\n",
       "shop_id                        3958\n",
       "shop_review_num_level            25\n",
       "shop_review_positive_rate     11824\n",
       "shop_star_level                  22\n",
       "shop_score_service            16361\n",
       "shop_score_delivery           16422\n",
       "shop_score_description        16462\n",
       "is_trade                          2\n",
       "dtype: int64"
      ]
     },
     "execution_count": 25,
     "metadata": {},
     "output_type": "execute_result"
    }
   ],
   "source": [
    "nunique_cnt = train.nunique()\n",
    "nunique_cnt"
   ]
  },
  {
   "cell_type": "code",
   "execution_count": 26,
   "metadata": {
    "collapsed": false
   },
   "outputs": [
    {
     "data": {
      "text/plain": [
       "<matplotlib.text.Text at 0x7f6cc6433780>"
      ]
     },
     "execution_count": 26,
     "metadata": {},
     "output_type": "execute_result"
    },
    {
     "data": {
      "image/png": "[encoded data removed]",
      "text/plain": [
       "<matplotlib.figure.Figure at 0x7f6cc3d2c4a8>"
      ]
     },
     "metadata": {},
     "output_type": "display_data"
    }
   ],
   "source": [
    "#画出取值个数占比\n",
    "plt.figure(figsize=(10,4))\n",
    "_ = plt.hist(nunique_cnt/train.shape[0],bins=100)\n",
    "plt.title(\"取值个数占比\")"
   ]
  },
  {
   "cell_type": "markdown",
   "metadata": {},
   "source": [
    "##### 查看占比大于0.8的特征"
   ]
  },
  {
   "cell_type": "code",
   "execution_count": 27,
   "metadata": {
    "collapsed": false
   },
   "outputs": [
    {
     "data": {
      "text/html": [
       "<div>\n",
       "<style>\n",
       "    .dataframe thead tr:only-child th {\n",
       "        text-align: right;\n",
       "    }\n",
       "\n",
       "    .dataframe thead th {\n",
       "        text-align: left;\n",
       "    }\n",
       "\n",
       "    .dataframe tbody tr th {\n",
       "        vertical-align: top;\n",
       "    }\n",
       "</style>\n",
       "<table border=\"1\" class=\"dataframe\">\n",
       "  <thead>\n",
       "    <tr style=\"text-align: right;\">\n",
       "      <th></th>\n",
       "      <th>instance_id</th>\n",
       "      <th>context_id</th>\n",
       "    </tr>\n",
       "  </thead>\n",
       "  <tbody>\n",
       "    <tr>\n",
       "      <th>0</th>\n",
       "      <td>108641074714126964</td>\n",
       "      <td>282924576738839389</td>\n",
       "    </tr>\n",
       "    <tr>\n",
       "      <th>1</th>\n",
       "      <td>5754713551599725161</td>\n",
       "      <td>4007979028023783431</td>\n",
       "    </tr>\n",
       "    <tr>\n",
       "      <th>2</th>\n",
       "      <td>842679481291040981</td>\n",
       "      <td>4884875192608989870</td>\n",
       "    </tr>\n",
       "    <tr>\n",
       "      <th>3</th>\n",
       "      <td>937088850059189027</td>\n",
       "      <td>840119421106178602</td>\n",
       "    </tr>\n",
       "    <tr>\n",
       "      <th>4</th>\n",
       "      <td>7975697065017708072</td>\n",
       "      <td>1736769971710354684</td>\n",
       "    </tr>\n",
       "  </tbody>\n",
       "</table>\n",
       "</div>"
      ],
      "text/plain": [
       "           instance_id           context_id\n",
       "0   108641074714126964   282924576738839389\n",
       "1  5754713551599725161  4007979028023783431\n",
       "2   842679481291040981  4884875192608989870\n",
       "3   937088850059189027   840119421106178602\n",
       "4  7975697065017708072  1736769971710354684"
      ]
     },
     "execution_count": 27,
     "metadata": {},
     "output_type": "execute_result"
    }
   ],
   "source": [
    "nuniqueRate = nunique_cnt/train.shape[0]\n",
    "train[nuniqueRate[nuniqueRate > 0.8].index].head()"
   ]
  },
  {
   "cell_type": "markdown",
   "metadata": {},
   "source": [
    "##### 查看占比在0.1~0.6"
   ]
  },
  {
   "cell_type": "code",
   "execution_count": 28,
   "metadata": {
    "collapsed": false
   },
   "outputs": [
    {
     "data": {
      "text/html": [
       "<div>\n",
       "<style>\n",
       "    .dataframe thead tr:only-child th {\n",
       "        text-align: right;\n",
       "    }\n",
       "\n",
       "    .dataframe thead th {\n",
       "        text-align: left;\n",
       "    }\n",
       "\n",
       "    .dataframe tbody tr th {\n",
       "        vertical-align: top;\n",
       "    }\n",
       "</style>\n",
       "<table border=\"1\" class=\"dataframe\">\n",
       "  <thead>\n",
       "    <tr style=\"text-align: right;\">\n",
       "      <th></th>\n",
       "      <th>user_id</th>\n",
       "      <th>context_timestamp</th>\n",
       "      <th>predict_category_property</th>\n",
       "    </tr>\n",
       "  </thead>\n",
       "  <tbody>\n",
       "    <tr>\n",
       "      <th>0</th>\n",
       "      <td>4505772604969228686</td>\n",
       "      <td>1537236544</td>\n",
       "      <td>5799347067982556520:-1;509660095530134768:-1;5...</td>\n",
       "    </tr>\n",
       "    <tr>\n",
       "      <th>1</th>\n",
       "      <td>2692638157208937547</td>\n",
       "      <td>1537243232</td>\n",
       "      <td>5799347067982556520:9172976955054793469;790838...</td>\n",
       "    </tr>\n",
       "    <tr>\n",
       "      <th>2</th>\n",
       "      <td>5247924392014515924</td>\n",
       "      <td>1537211052</td>\n",
       "      <td>5799347067982556520:5131280576272319091;725801...</td>\n",
       "    </tr>\n",
       "    <tr>\n",
       "      <th>3</th>\n",
       "      <td>2681414445369714628</td>\n",
       "      <td>1537222670</td>\n",
       "      <td>509660095530134768:-1;5799347067982556520:-1;7...</td>\n",
       "    </tr>\n",
       "    <tr>\n",
       "      <th>4</th>\n",
       "      <td>2729475788342039013</td>\n",
       "      <td>1537271320</td>\n",
       "      <td>5799347067982556520:9172976955054793469;790838...</td>\n",
       "    </tr>\n",
       "  </tbody>\n",
       "</table>\n",
       "</div>"
      ],
      "text/plain": [
       "               user_id  context_timestamp  \\\n",
       "0  4505772604969228686         1537236544   \n",
       "1  2692638157208937547         1537243232   \n",
       "2  5247924392014515924         1537211052   \n",
       "3  2681414445369714628         1537222670   \n",
       "4  2729475788342039013         1537271320   \n",
       "\n",
       "                           predict_category_property  \n",
       "0  5799347067982556520:-1;509660095530134768:-1;5...  \n",
       "1  5799347067982556520:9172976955054793469;790838...  \n",
       "2  5799347067982556520:5131280576272319091;725801...  \n",
       "3  509660095530134768:-1;5799347067982556520:-1;7...  \n",
       "4  5799347067982556520:9172976955054793469;790838...  "
      ]
     },
     "execution_count": 28,
     "metadata": {},
     "output_type": "execute_result"
    }
   ],
   "source": [
    "train[nuniqueRate[(nuniqueRate>0.1)&(nuniqueRate<0.6)].index].head()"
   ]
  },
  {
   "cell_type": "markdown",
   "metadata": {},
   "source": [
    "#### 查看占比<0.1"
   ]
  },
  {
   "cell_type": "code",
   "execution_count": 29,
   "metadata": {
    "collapsed": false
   },
   "outputs": [
    {
     "data": {
      "text/html": [
       "<div>\n",
       "<style>\n",
       "    .dataframe thead tr:only-child th {\n",
       "        text-align: right;\n",
       "    }\n",
       "\n",
       "    .dataframe thead th {\n",
       "        text-align: left;\n",
       "    }\n",
       "\n",
       "    .dataframe tbody tr th {\n",
       "        vertical-align: top;\n",
       "    }\n",
       "</style>\n",
       "<table border=\"1\" class=\"dataframe\">\n",
       "  <thead>\n",
       "    <tr style=\"text-align: right;\">\n",
       "      <th></th>\n",
       "      <th>item_id</th>\n",
       "      <th>item_category_list</th>\n",
       "      <th>item_property_list</th>\n",
       "      <th>item_brand_id</th>\n",
       "      <th>item_city_id</th>\n",
       "      <th>item_price_level</th>\n",
       "      <th>item_sales_level</th>\n",
       "      <th>item_collected_level</th>\n",
       "      <th>item_pv_level</th>\n",
       "      <th>user_gender_id</th>\n",
       "      <th>...</th>\n",
       "      <th>user_star_level</th>\n",
       "      <th>context_page_id</th>\n",
       "      <th>shop_id</th>\n",
       "      <th>shop_review_num_level</th>\n",
       "      <th>shop_review_positive_rate</th>\n",
       "      <th>shop_star_level</th>\n",
       "      <th>shop_score_service</th>\n",
       "      <th>shop_score_delivery</th>\n",
       "      <th>shop_score_description</th>\n",
       "      <th>is_trade</th>\n",
       "    </tr>\n",
       "  </thead>\n",
       "  <tbody>\n",
       "    <tr>\n",
       "      <th>0</th>\n",
       "      <td>3412720377098676069</td>\n",
       "      <td>7908382889764677758;5799347067982556520</td>\n",
       "      <td>2072967855524022579;5131280576272319091;263639...</td>\n",
       "      <td>1975590437749032870</td>\n",
       "      <td>3948283326616421003</td>\n",
       "      <td>3</td>\n",
       "      <td>3</td>\n",
       "      <td>4</td>\n",
       "      <td>14</td>\n",
       "      <td>1</td>\n",
       "      <td>...</td>\n",
       "      <td>3003</td>\n",
       "      <td>4006</td>\n",
       "      <td>6765930309048922341</td>\n",
       "      <td>4</td>\n",
       "      <td>1.0</td>\n",
       "      <td>5002</td>\n",
       "      <td>1.0</td>\n",
       "      <td>1.0</td>\n",
       "      <td>1.0</td>\n",
       "      <td>0</td>\n",
       "    </tr>\n",
       "    <tr>\n",
       "      <th>1</th>\n",
       "      <td>3412720377098676069</td>\n",
       "      <td>7908382889764677758;5799347067982556520</td>\n",
       "      <td>2072967855524022579;5131280576272319091;263639...</td>\n",
       "      <td>1975590437749032870</td>\n",
       "      <td>3948283326616421003</td>\n",
       "      <td>3</td>\n",
       "      <td>3</td>\n",
       "      <td>4</td>\n",
       "      <td>14</td>\n",
       "      <td>0</td>\n",
       "      <td>...</td>\n",
       "      <td>3006</td>\n",
       "      <td>4001</td>\n",
       "      <td>6765930309048922341</td>\n",
       "      <td>4</td>\n",
       "      <td>1.0</td>\n",
       "      <td>5002</td>\n",
       "      <td>1.0</td>\n",
       "      <td>1.0</td>\n",
       "      <td>1.0</td>\n",
       "      <td>0</td>\n",
       "    </tr>\n",
       "    <tr>\n",
       "      <th>2</th>\n",
       "      <td>3412720377098676069</td>\n",
       "      <td>7908382889764677758;5799347067982556520</td>\n",
       "      <td>2072967855524022579;5131280576272319091;263639...</td>\n",
       "      <td>1975590437749032870</td>\n",
       "      <td>3948283326616421003</td>\n",
       "      <td>3</td>\n",
       "      <td>3</td>\n",
       "      <td>4</td>\n",
       "      <td>14</td>\n",
       "      <td>0</td>\n",
       "      <td>...</td>\n",
       "      <td>3004</td>\n",
       "      <td>4001</td>\n",
       "      <td>6765930309048922341</td>\n",
       "      <td>4</td>\n",
       "      <td>1.0</td>\n",
       "      <td>5002</td>\n",
       "      <td>1.0</td>\n",
       "      <td>1.0</td>\n",
       "      <td>1.0</td>\n",
       "      <td>0</td>\n",
       "    </tr>\n",
       "    <tr>\n",
       "      <th>3</th>\n",
       "      <td>3412720377098676069</td>\n",
       "      <td>7908382889764677758;5799347067982556520</td>\n",
       "      <td>2072967855524022579;5131280576272319091;263639...</td>\n",
       "      <td>1975590437749032870</td>\n",
       "      <td>3948283326616421003</td>\n",
       "      <td>3</td>\n",
       "      <td>3</td>\n",
       "      <td>4</td>\n",
       "      <td>14</td>\n",
       "      <td>1</td>\n",
       "      <td>...</td>\n",
       "      <td>3006</td>\n",
       "      <td>4016</td>\n",
       "      <td>6765930309048922341</td>\n",
       "      <td>4</td>\n",
       "      <td>1.0</td>\n",
       "      <td>5002</td>\n",
       "      <td>1.0</td>\n",
       "      <td>1.0</td>\n",
       "      <td>1.0</td>\n",
       "      <td>0</td>\n",
       "    </tr>\n",
       "    <tr>\n",
       "      <th>4</th>\n",
       "      <td>3412720377098676069</td>\n",
       "      <td>7908382889764677758;5799347067982556520</td>\n",
       "      <td>2072967855524022579;5131280576272319091;263639...</td>\n",
       "      <td>1975590437749032870</td>\n",
       "      <td>3948283326616421003</td>\n",
       "      <td>3</td>\n",
       "      <td>3</td>\n",
       "      <td>4</td>\n",
       "      <td>14</td>\n",
       "      <td>0</td>\n",
       "      <td>...</td>\n",
       "      <td>3001</td>\n",
       "      <td>4001</td>\n",
       "      <td>6765930309048922341</td>\n",
       "      <td>4</td>\n",
       "      <td>1.0</td>\n",
       "      <td>5002</td>\n",
       "      <td>1.0</td>\n",
       "      <td>1.0</td>\n",
       "      <td>1.0</td>\n",
       "      <td>0</td>\n",
       "    </tr>\n",
       "  </tbody>\n",
       "</table>\n",
       "<p>5 rows × 22 columns</p>\n",
       "</div>"
      ],
      "text/plain": [
       "               item_id                       item_category_list  \\\n",
       "0  3412720377098676069  7908382889764677758;5799347067982556520   \n",
       "1  3412720377098676069  7908382889764677758;5799347067982556520   \n",
       "2  3412720377098676069  7908382889764677758;5799347067982556520   \n",
       "3  3412720377098676069  7908382889764677758;5799347067982556520   \n",
       "4  3412720377098676069  7908382889764677758;5799347067982556520   \n",
       "\n",
       "                                  item_property_list        item_brand_id  \\\n",
       "0  2072967855524022579;5131280576272319091;263639...  1975590437749032870   \n",
       "1  2072967855524022579;5131280576272319091;263639...  1975590437749032870   \n",
       "2  2072967855524022579;5131280576272319091;263639...  1975590437749032870   \n",
       "3  2072967855524022579;5131280576272319091;263639...  1975590437749032870   \n",
       "4  2072967855524022579;5131280576272319091;263639...  1975590437749032870   \n",
       "\n",
       "          item_city_id  item_price_level  item_sales_level  \\\n",
       "0  3948283326616421003                 3                 3   \n",
       "1  3948283326616421003                 3                 3   \n",
       "2  3948283326616421003                 3                 3   \n",
       "3  3948283326616421003                 3                 3   \n",
       "4  3948283326616421003                 3                 3   \n",
       "\n",
       "   item_collected_level  item_pv_level  user_gender_id    ...     \\\n",
       "0                     4             14               1    ...      \n",
       "1                     4             14               0    ...      \n",
       "2                     4             14               0    ...      \n",
       "3                     4             14               1    ...      \n",
       "4                     4             14               0    ...      \n",
       "\n",
       "   user_star_level  context_page_id              shop_id  \\\n",
       "0             3003             4006  6765930309048922341   \n",
       "1             3006             4001  6765930309048922341   \n",
       "2             3004             4001  6765930309048922341   \n",
       "3             3006             4016  6765930309048922341   \n",
       "4             3001             4001  6765930309048922341   \n",
       "\n",
       "   shop_review_num_level  shop_review_positive_rate  shop_star_level  \\\n",
       "0                      4                        1.0             5002   \n",
       "1                      4                        1.0             5002   \n",
       "2                      4                        1.0             5002   \n",
       "3                      4                        1.0             5002   \n",
       "4                      4                        1.0             5002   \n",
       "\n",
       "   shop_score_service  shop_score_delivery  shop_score_description  is_trade  \n",
       "0                 1.0                  1.0                     1.0         0  \n",
       "1                 1.0                  1.0                     1.0         0  \n",
       "2                 1.0                  1.0                     1.0         0  \n",
       "3                 1.0                  1.0                     1.0         0  \n",
       "4                 1.0                  1.0                     1.0         0  \n",
       "\n",
       "[5 rows x 22 columns]"
      ]
     },
     "execution_count": 29,
     "metadata": {},
     "output_type": "execute_result"
    }
   ],
   "source": [
    "train[nuniqueRate[(nuniqueRate<=0.1)].index].head()"
   ]
  },
  {
   "cell_type": "markdown",
   "metadata": {},
   "source": [
    "### 1.2 查看空值比例"
   ]
  },
  {
   "cell_type": "code",
   "execution_count": 30,
   "metadata": {
    "collapsed": false,
    "scrolled": true
   },
   "outputs": [
    {
     "data": {
      "text/plain": [
       "instance_id                  0\n",
       "item_id                      0\n",
       "item_category_list           0\n",
       "item_property_list           0\n",
       "item_brand_id                0\n",
       "item_city_id                 0\n",
       "item_price_level             0\n",
       "item_sales_level             0\n",
       "item_collected_level         0\n",
       "item_pv_level                0\n",
       "user_id                      0\n",
       "user_gender_id               0\n",
       "user_age_level               0\n",
       "user_occupation_id           0\n",
       "user_star_level              0\n",
       "context_id                   0\n",
       "context_timestamp            0\n",
       "context_page_id              0\n",
       "predict_category_property    0\n",
       "shop_id                      0\n",
       "shop_review_num_level        0\n",
       "shop_review_positive_rate    0\n",
       "shop_star_level              0\n",
       "shop_score_service           0\n",
       "shop_score_delivery          0\n",
       "shop_score_description       0\n",
       "is_trade                     0\n",
       "dtype: int64"
      ]
     },
     "execution_count": 30,
     "metadata": {},
     "output_type": "execute_result"
    }
   ],
   "source": [
    "train.isnull().sum(axis=0)"
   ]
  },
  {
   "cell_type": "code",
   "execution_count": 31,
   "metadata": {
    "collapsed": false
   },
   "outputs": [],
   "source": [
    "#统计值等于-1的各特征的取值个数\n",
    "isNull_cnt = pd.DataFrame(index=train.columns)\n",
    "for i in train.columns:\n",
    "    isNull = train[train[i]==-1].shape[0]\n",
    "    isNull_cnt.loc[i,\"空值个数\"] = isNull"
   ]
  },
  {
   "cell_type": "code",
   "execution_count": 32,
   "metadata": {
    "collapsed": false,
    "scrolled": true
   },
   "outputs": [
    {
     "data": {
      "text/html": [
       "<div>\n",
       "<style>\n",
       "    .dataframe thead tr:only-child th {\n",
       "        text-align: right;\n",
       "    }\n",
       "\n",
       "    .dataframe thead th {\n",
       "        text-align: left;\n",
       "    }\n",
       "\n",
       "    .dataframe tbody tr th {\n",
       "        vertical-align: top;\n",
       "    }\n",
       "</style>\n",
       "<table border=\"1\" class=\"dataframe\">\n",
       "  <thead>\n",
       "    <tr style=\"text-align: right;\">\n",
       "      <th></th>\n",
       "      <th>空值个数</th>\n",
       "      <th>空值比率</th>\n",
       "    </tr>\n",
       "  </thead>\n",
       "  <tbody>\n",
       "    <tr>\n",
       "      <th>user_gender_id</th>\n",
       "      <td>12901</td>\n",
       "      <td>2.698598301897449%</td>\n",
       "    </tr>\n",
       "    <tr>\n",
       "      <th>user_occupation_id</th>\n",
       "      <td>964</td>\n",
       "      <td>0.20164706325316956%</td>\n",
       "    </tr>\n",
       "    <tr>\n",
       "      <th>user_age_level</th>\n",
       "      <td>964</td>\n",
       "      <td>0.20164706325316956%</td>\n",
       "    </tr>\n",
       "    <tr>\n",
       "      <th>user_star_level</th>\n",
       "      <td>964</td>\n",
       "      <td>0.20164706325316956%</td>\n",
       "    </tr>\n",
       "    <tr>\n",
       "      <th>item_sales_level</th>\n",
       "      <td>913</td>\n",
       "      <td>0.19097901322629027%</td>\n",
       "    </tr>\n",
       "    <tr>\n",
       "      <th>item_brand_id</th>\n",
       "      <td>472</td>\n",
       "      <td>0.09873175711151042%</td>\n",
       "    </tr>\n",
       "    <tr>\n",
       "      <th>item_city_id</th>\n",
       "      <td>277</td>\n",
       "      <td>0.05794215406756013%</td>\n",
       "    </tr>\n",
       "    <tr>\n",
       "      <th>shop_score_description</th>\n",
       "      <td>59</td>\n",
       "      <td>0.012341469638938802%</td>\n",
       "    </tr>\n",
       "    <tr>\n",
       "      <th>shop_score_delivery</th>\n",
       "      <td>59</td>\n",
       "      <td>0.012341469638938802%</td>\n",
       "    </tr>\n",
       "    <tr>\n",
       "      <th>shop_score_service</th>\n",
       "      <td>59</td>\n",
       "      <td>0.012341469638938802%</td>\n",
       "    </tr>\n",
       "    <tr>\n",
       "      <th>shop_review_positive_rate</th>\n",
       "      <td>7</td>\n",
       "      <td>0.0014642421605520612%</td>\n",
       "    </tr>\n",
       "    <tr>\n",
       "      <th>context_page_id</th>\n",
       "      <td>0</td>\n",
       "      <td>0.0%</td>\n",
       "    </tr>\n",
       "    <tr>\n",
       "      <th>shop_star_level</th>\n",
       "      <td>0</td>\n",
       "      <td>0.0%</td>\n",
       "    </tr>\n",
       "    <tr>\n",
       "      <th>shop_review_num_level</th>\n",
       "      <td>0</td>\n",
       "      <td>0.0%</td>\n",
       "    </tr>\n",
       "    <tr>\n",
       "      <th>shop_id</th>\n",
       "      <td>0</td>\n",
       "      <td>0.0%</td>\n",
       "    </tr>\n",
       "    <tr>\n",
       "      <th>predict_category_property</th>\n",
       "      <td>0</td>\n",
       "      <td>0.0%</td>\n",
       "    </tr>\n",
       "    <tr>\n",
       "      <th>instance_id</th>\n",
       "      <td>0</td>\n",
       "      <td>0.0%</td>\n",
       "    </tr>\n",
       "    <tr>\n",
       "      <th>context_timestamp</th>\n",
       "      <td>0</td>\n",
       "      <td>0.0%</td>\n",
       "    </tr>\n",
       "    <tr>\n",
       "      <th>context_id</th>\n",
       "      <td>0</td>\n",
       "      <td>0.0%</td>\n",
       "    </tr>\n",
       "    <tr>\n",
       "      <th>item_id</th>\n",
       "      <td>0</td>\n",
       "      <td>0.0%</td>\n",
       "    </tr>\n",
       "    <tr>\n",
       "      <th>user_id</th>\n",
       "      <td>0</td>\n",
       "      <td>0.0%</td>\n",
       "    </tr>\n",
       "    <tr>\n",
       "      <th>item_pv_level</th>\n",
       "      <td>0</td>\n",
       "      <td>0.0%</td>\n",
       "    </tr>\n",
       "    <tr>\n",
       "      <th>item_collected_level</th>\n",
       "      <td>0</td>\n",
       "      <td>0.0%</td>\n",
       "    </tr>\n",
       "    <tr>\n",
       "      <th>item_price_level</th>\n",
       "      <td>0</td>\n",
       "      <td>0.0%</td>\n",
       "    </tr>\n",
       "    <tr>\n",
       "      <th>item_property_list</th>\n",
       "      <td>0</td>\n",
       "      <td>0.0%</td>\n",
       "    </tr>\n",
       "    <tr>\n",
       "      <th>item_category_list</th>\n",
       "      <td>0</td>\n",
       "      <td>0.0%</td>\n",
       "    </tr>\n",
       "    <tr>\n",
       "      <th>is_trade</th>\n",
       "      <td>0</td>\n",
       "      <td>0.0%</td>\n",
       "    </tr>\n",
       "  </tbody>\n",
       "</table>\n",
       "</div>"
      ],
      "text/plain": [
       "                            空值个数                    空值比率\n",
       "user_gender_id             12901      2.698598301897449%\n",
       "user_occupation_id           964    0.20164706325316956%\n",
       "user_age_level               964    0.20164706325316956%\n",
       "user_star_level              964    0.20164706325316956%\n",
       "item_sales_level             913    0.19097901322629027%\n",
       "item_brand_id                472    0.09873175711151042%\n",
       "item_city_id                 277    0.05794215406756013%\n",
       "shop_score_description        59   0.012341469638938802%\n",
       "shop_score_delivery           59   0.012341469638938802%\n",
       "shop_score_service            59   0.012341469638938802%\n",
       "shop_review_positive_rate      7  0.0014642421605520612%\n",
       "context_page_id                0                    0.0%\n",
       "shop_star_level                0                    0.0%\n",
       "shop_review_num_level          0                    0.0%\n",
       "shop_id                        0                    0.0%\n",
       "predict_category_property      0                    0.0%\n",
       "instance_id                    0                    0.0%\n",
       "context_timestamp              0                    0.0%\n",
       "context_id                     0                    0.0%\n",
       "item_id                        0                    0.0%\n",
       "user_id                        0                    0.0%\n",
       "item_pv_level                  0                    0.0%\n",
       "item_collected_level           0                    0.0%\n",
       "item_price_level               0                    0.0%\n",
       "item_property_list             0                    0.0%\n",
       "item_category_list             0                    0.0%\n",
       "is_trade                       0                    0.0%"
      ]
     },
     "execution_count": 32,
     "metadata": {},
     "output_type": "execute_result"
    }
   ],
   "source": [
    "isNull_cnt = isNull_cnt.astype(int).sort_values(by=\"空值个数\",ascending=False)\n",
    "isNull_cnt[\"空值比率\"] = (isNull_cnt[\"空值个数\"]/train.shape[0] *100).map(lambda x:str(x)+\"%\")\n",
    "isNull_cnt"
   ]
  },
  {
   "cell_type": "markdown",
   "metadata": {},
   "source": [
    "##### 结论:\n",
    "------\n",
    "训练数据没有空值，但是隐藏的空值是-1，-999之类,总体上来看，各字段的空值比例还不是很高"
   ]
  },
  {
   "cell_type": "markdown",
   "metadata": {},
   "source": [
    "### 1.3 统计正负样本比例"
   ]
  },
  {
   "cell_type": "code",
   "execution_count": 33,
   "metadata": {
    "collapsed": false
   },
   "outputs": [
    {
     "data": {
      "text/plain": [
       "0    469069\n",
       "1      8994\n",
       "Name: is_trade, dtype: int64"
      ]
     },
     "execution_count": 33,
     "metadata": {},
     "output_type": "execute_result"
    }
   ],
   "source": [
    "train[\"is_trade\"].value_counts() #统计正负样本比例"
   ]
  },
  {
   "cell_type": "markdown",
   "metadata": {},
   "source": [
    "##### 正负样本比例为52:1"
   ]
  },
  {
   "cell_type": "markdown",
   "metadata": {},
   "source": [
    "### 1.4 数据类型"
   ]
  },
  {
   "cell_type": "code",
   "execution_count": 34,
   "metadata": {
    "collapsed": false,
    "scrolled": true
   },
   "outputs": [
    {
     "data": {
      "text/plain": [
       "instance_id                    int64\n",
       "item_id                        int64\n",
       "item_category_list            object\n",
       "item_property_list            object\n",
       "item_brand_id                  int64\n",
       "item_city_id                   int64\n",
       "item_price_level               int64\n",
       "item_sales_level               int64\n",
       "item_collected_level           int64\n",
       "item_pv_level                  int64\n",
       "user_id                        int64\n",
       "user_gender_id                 int64\n",
       "user_age_level                 int64\n",
       "user_occupation_id             int64\n",
       "user_star_level                int64\n",
       "context_id                     int64\n",
       "context_timestamp              int64\n",
       "context_page_id                int64\n",
       "predict_category_property     object\n",
       "shop_id                        int64\n",
       "shop_review_num_level          int64\n",
       "shop_review_positive_rate    float64\n",
       "shop_star_level                int64\n",
       "shop_score_service           float64\n",
       "shop_score_delivery          float64\n",
       "shop_score_description       float64\n",
       "is_trade                       int64\n",
       "dtype: object"
      ]
     },
     "execution_count": 34,
     "metadata": {},
     "output_type": "execute_result"
    }
   ],
   "source": [
    "train.dtypes"
   ]
  },
  {
   "cell_type": "markdown",
   "metadata": {},
   "source": [
    "## 2.EDA(数据探索分析)"
   ]
  },
  {
   "cell_type": "markdown",
   "metadata": {},
   "source": [
    "### 2.1 广告商品信息\n",
    "----\n",
    "> * 1.哪种广告商品编号(item_id)的交易率比较高\n",
    "> * 2.哪种广告子类目（item_category_list）的交易率较高\n",
    "> * 3.广告属性(item_property_list)\n",
    "> * 4.广告品牌（item_brand_id）\n",
    "> * 5.广告品牌的城市编码item_city_id\n",
    "> * 6.广告价格等级（item_price_level）\n",
    "> * 7.广告销量等级（item_sales_level）\n",
    "> * 8.被搜藏（item_collected_level）\n",
    "> * 9.被展示(item_pv_level)"
   ]
  },
  {
   "cell_type": "code",
   "execution_count": 35,
   "metadata": {
    "collapsed": false
   },
   "outputs": [],
   "source": [
    "ads = train[[\"instance_id\",\"item_id\",\"item_category_list\",\"item_property_list\",\n",
    "             \"item_brand_id\",\"item_city_id\",\"item_price_level\",\n",
    "            \"item_sales_level\",\"item_collected_level\",\"item_pv_level\",\"is_trade\"]]\n",
    "ads.to_pickle(\"../数据/ads_0.pickle\")"
   ]
  },
  {
   "cell_type": "code",
   "execution_count": 36,
   "metadata": {
    "collapsed": true
   },
   "outputs": [],
   "source": [
    "ads = pd.read_pickle(\"../数据/ads_0.pickle\")"
   ]
  },
  {
   "cell_type": "markdown",
   "metadata": {},
   "source": [
    "##### 看看那个商品的占比多"
   ]
  },
  {
   "cell_type": "code",
   "execution_count": 37,
   "metadata": {
    "collapsed": false
   },
   "outputs": [
    {
     "data": {
      "text/plain": [
       "7571023501622243456    3000\n",
       "2986722878397696833    2836\n",
       "5410526681843914464    2578\n",
       "2079092401639430105    2513\n",
       "2709839111509701702    2448\n",
       "5716046650492250518    2267\n",
       "5467735841796001072    2257\n",
       "2723541945574109807    2020\n",
       "3444647220397515150    1937\n",
       "4817583173619024436    1919\n",
       "Name: item_id, dtype: int64"
      ]
     },
     "execution_count": 37,
     "metadata": {},
     "output_type": "execute_result"
    }
   ],
   "source": [
    "ads[\"item_id\"].value_counts().head(10)"
   ]
  },
  {
   "cell_type": "code",
   "execution_count": 38,
   "metadata": {
    "collapsed": false
   },
   "outputs": [
    {
     "data": {
      "text/plain": [
       "5410526681843914464    111\n",
       "2986722878397696833     96\n",
       "2079092401639430105     93\n",
       "5088920748697829728     88\n",
       "3444647220397515150     88\n",
       "Name: item_id, dtype: int64"
      ]
     },
     "execution_count": 38,
     "metadata": {},
     "output_type": "execute_result"
    }
   ],
   "source": [
    "ads[ads[\"is_trade\"]==1][\"item_id\"].value_counts().head()"
   ]
  },
  {
   "cell_type": "markdown",
   "metadata": {},
   "source": [
    "##### 看看哪个子类别商品占比"
   ]
  },
  {
   "cell_type": "code",
   "execution_count": 39,
   "metadata": {
    "collapsed": false
   },
   "outputs": [
    {
     "data": {
      "text/plain": [
       "2    476034\n",
       "3      2029\n",
       "Name: item_category_list_len, dtype: int64"
      ]
     },
     "execution_count": 39,
     "metadata": {},
     "output_type": "execute_result"
    }
   ],
   "source": [
    "ads[\"item_category_list_len\"] = ads[\"item_category_list\"].map(lambda x:len(x.split(\";\")))\n",
    "ads[\"item_category_list_len\"].value_counts()"
   ]
  },
  {
   "cell_type": "code",
   "execution_count": 40,
   "metadata": {
    "collapsed": false
   },
   "outputs": [
    {
     "data": {
      "text/plain": [
       "<matplotlib.axes._subplots.AxesSubplot at 0x7f6cc6483940>"
      ]
     },
     "execution_count": 40,
     "metadata": {},
     "output_type": "execute_result"
    },
    {
     "data": {
      "image/png": "[encoded data removed]",
      "text/plain": [
       "<matplotlib.figure.Figure at 0x7f6cc3fddc18>"
      ]
     },
     "metadata": {},
     "output_type": "display_data"
    }
   ],
   "source": [
    "sns.countplot(x=\"item_category_list_len\",data=ads,hue=\"is_trade\")"
   ]
  },
  {
   "cell_type": "code",
   "execution_count": 41,
   "metadata": {
    "collapsed": false
   },
   "outputs": [
    {
     "data": {
      "text/html": [
       "<div>\n",
       "<style>\n",
       "    .dataframe thead tr:only-child th {\n",
       "        text-align: right;\n",
       "    }\n",
       "\n",
       "    .dataframe thead th {\n",
       "        text-align: left;\n",
       "    }\n",
       "\n",
       "    .dataframe tbody tr th {\n",
       "        vertical-align: top;\n",
       "    }\n",
       "</style>\n",
       "<table border=\"1\" class=\"dataframe\">\n",
       "  <thead>\n",
       "    <tr style=\"text-align: right;\">\n",
       "      <th>item_category_list_len</th>\n",
       "      <th>2</th>\n",
       "      <th>3</th>\n",
       "    </tr>\n",
       "    <tr>\n",
       "      <th>is_trade</th>\n",
       "      <th></th>\n",
       "      <th></th>\n",
       "    </tr>\n",
       "  </thead>\n",
       "  <tbody>\n",
       "    <tr>\n",
       "      <th>0</th>\n",
       "      <td>467163</td>\n",
       "      <td>1906</td>\n",
       "    </tr>\n",
       "    <tr>\n",
       "      <th>1</th>\n",
       "      <td>8871</td>\n",
       "      <td>123</td>\n",
       "    </tr>\n",
       "  </tbody>\n",
       "</table>\n",
       "</div>"
      ],
      "text/plain": [
       "item_category_list_len       2     3\n",
       "is_trade                            \n",
       "0                       467163  1906\n",
       "1                         8871   123"
      ]
     },
     "execution_count": 41,
     "metadata": {},
     "output_type": "execute_result"
    }
   ],
   "source": [
    "len_cnt = ads.pivot_table(index=\"is_trade\",columns=\"item_category_list_len\",values = \"instance_id\",aggfunc=\"count\")\n",
    "len_cnt"
   ]
  },
  {
   "cell_type": "code",
   "execution_count": 42,
   "metadata": {
    "collapsed": false
   },
   "outputs": [
    {
     "data": {
      "text/plain": [
       "(190.67113102935141,\n",
       " 2.2690233359850312e-43,\n",
       " 1,\n",
       " array([[4.67078172e+05, 1.99082757e+03],\n",
       "        [8.95582757e+03, 3.81724292e+01]]))"
      ]
     },
     "execution_count": 42,
     "metadata": {},
     "output_type": "execute_result"
    }
   ],
   "source": [
    "chi2_contingency(len_cnt)"
   ]
  },
  {
   "cell_type": "markdown",
   "metadata": {},
   "source": [
    "##### 将item_category_list拆分"
   ]
  },
  {
   "cell_type": "code",
   "execution_count": 43,
   "metadata": {
    "collapsed": false
   },
   "outputs": [
    {
     "data": {
      "text/html": [
       "<div>\n",
       "<style>\n",
       "    .dataframe thead tr:only-child th {\n",
       "        text-align: right;\n",
       "    }\n",
       "\n",
       "    .dataframe thead th {\n",
       "        text-align: left;\n",
       "    }\n",
       "\n",
       "    .dataframe tbody tr th {\n",
       "        vertical-align: top;\n",
       "    }\n",
       "</style>\n",
       "<table border=\"1\" class=\"dataframe\">\n",
       "  <thead>\n",
       "    <tr style=\"text-align: right;\">\n",
       "      <th></th>\n",
       "      <th>item_category_list_0</th>\n",
       "      <th>item_category_list_1</th>\n",
       "      <th>item_category_list_2</th>\n",
       "    </tr>\n",
       "  </thead>\n",
       "  <tbody>\n",
       "    <tr>\n",
       "      <th>0</th>\n",
       "      <td>7908382889764677758</td>\n",
       "      <td>5799347067982556520</td>\n",
       "      <td>None</td>\n",
       "    </tr>\n",
       "    <tr>\n",
       "      <th>1</th>\n",
       "      <td>7908382889764677758</td>\n",
       "      <td>5799347067982556520</td>\n",
       "      <td>None</td>\n",
       "    </tr>\n",
       "    <tr>\n",
       "      <th>2</th>\n",
       "      <td>7908382889764677758</td>\n",
       "      <td>5799347067982556520</td>\n",
       "      <td>None</td>\n",
       "    </tr>\n",
       "    <tr>\n",
       "      <th>3</th>\n",
       "      <td>7908382889764677758</td>\n",
       "      <td>5799347067982556520</td>\n",
       "      <td>None</td>\n",
       "    </tr>\n",
       "    <tr>\n",
       "      <th>4</th>\n",
       "      <td>7908382889764677758</td>\n",
       "      <td>5799347067982556520</td>\n",
       "      <td>None</td>\n",
       "    </tr>\n",
       "  </tbody>\n",
       "</table>\n",
       "</div>"
      ],
      "text/plain": [
       "  item_category_list_0 item_category_list_1 item_category_list_2\n",
       "0  7908382889764677758  5799347067982556520                 None\n",
       "1  7908382889764677758  5799347067982556520                 None\n",
       "2  7908382889764677758  5799347067982556520                 None\n",
       "3  7908382889764677758  5799347067982556520                 None\n",
       "4  7908382889764677758  5799347067982556520                 None"
      ]
     },
     "execution_count": 43,
     "metadata": {},
     "output_type": "execute_result"
    }
   ],
   "source": [
    "item_category_list = ads[\"item_category_list\"].str.split(\";\",expand=True)\n",
    "item_category_list.columns = [\"item_category_list_\"+str(i) for i in range(3)]\n",
    "item_category_list.head()"
   ]
  },
  {
   "cell_type": "code",
   "execution_count": 44,
   "metadata": {
    "collapsed": false
   },
   "outputs": [
    {
     "data": {
      "text/html": [
       "<div>\n",
       "<style>\n",
       "    .dataframe thead tr:only-child th {\n",
       "        text-align: right;\n",
       "    }\n",
       "\n",
       "    .dataframe thead th {\n",
       "        text-align: left;\n",
       "    }\n",
       "\n",
       "    .dataframe tbody tr th {\n",
       "        vertical-align: top;\n",
       "    }\n",
       "</style>\n",
       "<table border=\"1\" class=\"dataframe\">\n",
       "  <thead>\n",
       "    <tr style=\"text-align: right;\">\n",
       "      <th></th>\n",
       "      <th>instance_id</th>\n",
       "      <th>item_id</th>\n",
       "      <th>item_category_list</th>\n",
       "      <th>item_property_list</th>\n",
       "      <th>item_brand_id</th>\n",
       "      <th>item_city_id</th>\n",
       "      <th>item_price_level</th>\n",
       "      <th>item_sales_level</th>\n",
       "      <th>item_collected_level</th>\n",
       "      <th>item_pv_level</th>\n",
       "      <th>is_trade</th>\n",
       "      <th>item_category_list_len</th>\n",
       "      <th>item_category_list_0</th>\n",
       "      <th>item_category_list_1</th>\n",
       "      <th>item_category_list_2</th>\n",
       "    </tr>\n",
       "  </thead>\n",
       "  <tbody>\n",
       "    <tr>\n",
       "      <th>0</th>\n",
       "      <td>108641074714126964</td>\n",
       "      <td>3412720377098676069</td>\n",
       "      <td>7908382889764677758;5799347067982556520</td>\n",
       "      <td>2072967855524022579;5131280576272319091;263639...</td>\n",
       "      <td>1975590437749032870</td>\n",
       "      <td>3948283326616421003</td>\n",
       "      <td>3</td>\n",
       "      <td>3</td>\n",
       "      <td>4</td>\n",
       "      <td>14</td>\n",
       "      <td>0</td>\n",
       "      <td>2</td>\n",
       "      <td>7908382889764677758</td>\n",
       "      <td>5799347067982556520</td>\n",
       "      <td>None</td>\n",
       "    </tr>\n",
       "    <tr>\n",
       "      <th>1</th>\n",
       "      <td>5754713551599725161</td>\n",
       "      <td>3412720377098676069</td>\n",
       "      <td>7908382889764677758;5799347067982556520</td>\n",
       "      <td>2072967855524022579;5131280576272319091;263639...</td>\n",
       "      <td>1975590437749032870</td>\n",
       "      <td>3948283326616421003</td>\n",
       "      <td>3</td>\n",
       "      <td>3</td>\n",
       "      <td>4</td>\n",
       "      <td>14</td>\n",
       "      <td>0</td>\n",
       "      <td>2</td>\n",
       "      <td>7908382889764677758</td>\n",
       "      <td>5799347067982556520</td>\n",
       "      <td>None</td>\n",
       "    </tr>\n",
       "    <tr>\n",
       "      <th>2</th>\n",
       "      <td>842679481291040981</td>\n",
       "      <td>3412720377098676069</td>\n",
       "      <td>7908382889764677758;5799347067982556520</td>\n",
       "      <td>2072967855524022579;5131280576272319091;263639...</td>\n",
       "      <td>1975590437749032870</td>\n",
       "      <td>3948283326616421003</td>\n",
       "      <td>3</td>\n",
       "      <td>3</td>\n",
       "      <td>4</td>\n",
       "      <td>14</td>\n",
       "      <td>0</td>\n",
       "      <td>2</td>\n",
       "      <td>7908382889764677758</td>\n",
       "      <td>5799347067982556520</td>\n",
       "      <td>None</td>\n",
       "    </tr>\n",
       "    <tr>\n",
       "      <th>3</th>\n",
       "      <td>937088850059189027</td>\n",
       "      <td>3412720377098676069</td>\n",
       "      <td>7908382889764677758;5799347067982556520</td>\n",
       "      <td>2072967855524022579;5131280576272319091;263639...</td>\n",
       "      <td>1975590437749032870</td>\n",
       "      <td>3948283326616421003</td>\n",
       "      <td>3</td>\n",
       "      <td>3</td>\n",
       "      <td>4</td>\n",
       "      <td>14</td>\n",
       "      <td>0</td>\n",
       "      <td>2</td>\n",
       "      <td>7908382889764677758</td>\n",
       "      <td>5799347067982556520</td>\n",
       "      <td>None</td>\n",
       "    </tr>\n",
       "    <tr>\n",
       "      <th>4</th>\n",
       "      <td>7975697065017708072</td>\n",
       "      <td>3412720377098676069</td>\n",
       "      <td>7908382889764677758;5799347067982556520</td>\n",
       "      <td>2072967855524022579;5131280576272319091;263639...</td>\n",
       "      <td>1975590437749032870</td>\n",
       "      <td>3948283326616421003</td>\n",
       "      <td>3</td>\n",
       "      <td>3</td>\n",
       "      <td>4</td>\n",
       "      <td>14</td>\n",
       "      <td>0</td>\n",
       "      <td>2</td>\n",
       "      <td>7908382889764677758</td>\n",
       "      <td>5799347067982556520</td>\n",
       "      <td>None</td>\n",
       "    </tr>\n",
       "  </tbody>\n",
       "</table>\n",
       "</div>"
      ],
      "text/plain": [
       "           instance_id              item_id  \\\n",
       "0   108641074714126964  3412720377098676069   \n",
       "1  5754713551599725161  3412720377098676069   \n",
       "2   842679481291040981  3412720377098676069   \n",
       "3   937088850059189027  3412720377098676069   \n",
       "4  7975697065017708072  3412720377098676069   \n",
       "\n",
       "                        item_category_list  \\\n",
       "0  7908382889764677758;5799347067982556520   \n",
       "1  7908382889764677758;5799347067982556520   \n",
       "2  7908382889764677758;5799347067982556520   \n",
       "3  7908382889764677758;5799347067982556520   \n",
       "4  7908382889764677758;5799347067982556520   \n",
       "\n",
       "                                  item_property_list        item_brand_id  \\\n",
       "0  2072967855524022579;5131280576272319091;263639...  1975590437749032870   \n",
       "1  2072967855524022579;5131280576272319091;263639...  1975590437749032870   \n",
       "2  2072967855524022579;5131280576272319091;263639...  1975590437749032870   \n",
       "3  2072967855524022579;5131280576272319091;263639...  1975590437749032870   \n",
       "4  2072967855524022579;5131280576272319091;263639...  1975590437749032870   \n",
       "\n",
       "          item_city_id  item_price_level  item_sales_level  \\\n",
       "0  3948283326616421003                 3                 3   \n",
       "1  3948283326616421003                 3                 3   \n",
       "2  3948283326616421003                 3                 3   \n",
       "3  3948283326616421003                 3                 3   \n",
       "4  3948283326616421003                 3                 3   \n",
       "\n",
       "   item_collected_level  item_pv_level  is_trade  item_category_list_len  \\\n",
       "0                     4             14         0                       2   \n",
       "1                     4             14         0                       2   \n",
       "2                     4             14         0                       2   \n",
       "3                     4             14         0                       2   \n",
       "4                     4             14         0                       2   \n",
       "\n",
       "  item_category_list_0 item_category_list_1 item_category_list_2  \n",
       "0  7908382889764677758  5799347067982556520                 None  \n",
       "1  7908382889764677758  5799347067982556520                 None  \n",
       "2  7908382889764677758  5799347067982556520                 None  \n",
       "3  7908382889764677758  5799347067982556520                 None  \n",
       "4  7908382889764677758  5799347067982556520                 None  "
      ]
     },
     "execution_count": 44,
     "metadata": {},
     "output_type": "execute_result"
    }
   ],
   "source": [
    "ads = pd.concat([ads,item_category_list],axis=1)\n",
    "ads.head()"
   ]
  },
  {
   "cell_type": "code",
   "execution_count": 64,
   "metadata": {
    "collapsed": false
   },
   "outputs": [
    {
     "data": {
      "text/plain": [
       "1"
      ]
     },
     "execution_count": 64,
     "metadata": {},
     "output_type": "execute_result"
    }
   ],
   "source": [
    "ads[\"item_category_list_0\"].unique().shape[0]"
   ]
  },
  {
   "cell_type": "code",
   "execution_count": 65,
   "metadata": {
    "collapsed": false
   },
   "outputs": [
    {
     "data": {
      "text/plain": [
       "13"
      ]
     },
     "execution_count": 65,
     "metadata": {},
     "output_type": "execute_result"
    }
   ],
   "source": [
    "ads[\"item_category_list_1\"].unique().shape[0]"
   ]
  },
  {
   "cell_type": "code",
   "execution_count": 66,
   "metadata": {
    "collapsed": false
   },
   "outputs": [
    {
     "data": {
      "text/plain": [
       "<matplotlib.axes._subplots.AxesSubplot at 0x7f6cae35e438>"
      ]
     },
     "execution_count": 66,
     "metadata": {},
     "output_type": "execute_result"
    },
    {
     "data": {
      "image/png": "[encoded data removed]",
      "text/plain": [
       "<matplotlib.figure.Figure at 0x7f6cae2ba7f0>"
      ]
     },
     "metadata": {},
     "output_type": "display_data"
    }
   ],
   "source": [
    "sns.countplot(x=\"item_category_list_1\",data=ads,hue=\"is_trade\")"
   ]
  },
  {
   "cell_type": "code",
   "execution_count": 69,
   "metadata": {
    "collapsed": false
   },
   "outputs": [
    {
     "data": {
      "text/html": [
       "<div>\n",
       "<style>\n",
       "    .dataframe thead tr:only-child th {\n",
       "        text-align: right;\n",
       "    }\n",
       "\n",
       "    .dataframe thead th {\n",
       "        text-align: left;\n",
       "    }\n",
       "\n",
       "    .dataframe tbody tr th {\n",
       "        vertical-align: top;\n",
       "    }\n",
       "</style>\n",
       "<table border=\"1\" class=\"dataframe\">\n",
       "  <thead>\n",
       "    <tr style=\"text-align: right;\">\n",
       "      <th>is_trade</th>\n",
       "      <th>0</th>\n",
       "      <th>1</th>\n",
       "    </tr>\n",
       "    <tr>\n",
       "      <th>item_category_list_1</th>\n",
       "      <th></th>\n",
       "      <th></th>\n",
       "    </tr>\n",
       "  </thead>\n",
       "  <tbody>\n",
       "    <tr>\n",
       "      <th>1968056100269760729</th>\n",
       "      <td>179</td>\n",
       "      <td>7</td>\n",
       "    </tr>\n",
       "    <tr>\n",
       "      <th>2011981573061447208</th>\n",
       "      <td>9411</td>\n",
       "      <td>150</td>\n",
       "    </tr>\n",
       "    <tr>\n",
       "      <th>22731265849056483</th>\n",
       "      <td>87</td>\n",
       "      <td>1</td>\n",
       "    </tr>\n",
       "    <tr>\n",
       "      <th>2436715285093487584</th>\n",
       "      <td>1916</td>\n",
       "      <td>50</td>\n",
       "    </tr>\n",
       "    <tr>\n",
       "      <th>2642175453151805566</th>\n",
       "      <td>1906</td>\n",
       "      <td>123</td>\n",
       "    </tr>\n",
       "    <tr>\n",
       "      <th>3203673979138763595</th>\n",
       "      <td>2165</td>\n",
       "      <td>79</td>\n",
       "    </tr>\n",
       "    <tr>\n",
       "      <th>4879721024980945592</th>\n",
       "      <td>1176</td>\n",
       "      <td>30</td>\n",
       "    </tr>\n",
       "    <tr>\n",
       "      <th>509660095530134768</th>\n",
       "      <td>74148</td>\n",
       "      <td>1264</td>\n",
       "    </tr>\n",
       "    <tr>\n",
       "      <th>5755694407684602296</th>\n",
       "      <td>100757</td>\n",
       "      <td>1726</td>\n",
       "    </tr>\n",
       "    <tr>\n",
       "      <th>5799347067982556520</th>\n",
       "      <td>70736</td>\n",
       "      <td>1269</td>\n",
       "    </tr>\n",
       "    <tr>\n",
       "      <th>7258015885215914736</th>\n",
       "      <td>50912</td>\n",
       "      <td>2124</td>\n",
       "    </tr>\n",
       "    <tr>\n",
       "      <th>8277336076276184272</th>\n",
       "      <td>148818</td>\n",
       "      <td>1945</td>\n",
       "    </tr>\n",
       "    <tr>\n",
       "      <th>8710739180200009128</th>\n",
       "      <td>6858</td>\n",
       "      <td>226</td>\n",
       "    </tr>\n",
       "  </tbody>\n",
       "</table>\n",
       "</div>"
      ],
      "text/plain": [
       "is_trade                   0     1\n",
       "item_category_list_1              \n",
       "1968056100269760729      179     7\n",
       "2011981573061447208     9411   150\n",
       "22731265849056483         87     1\n",
       "2436715285093487584     1916    50\n",
       "2642175453151805566     1906   123\n",
       "3203673979138763595     2165    79\n",
       "4879721024980945592     1176    30\n",
       "509660095530134768     74148  1264\n",
       "5755694407684602296   100757  1726\n",
       "5799347067982556520    70736  1269\n",
       "7258015885215914736    50912  2124\n",
       "8277336076276184272   148818  1945\n",
       "8710739180200009128     6858   226"
      ]
     },
     "execution_count": 69,
     "metadata": {},
     "output_type": "execute_result"
    }
   ],
   "source": [
    "ads.pivot_table(index=\"item_category_list_1\",columns=\"is_trade\",values = \"instance_id\",aggfunc=\"count\")"
   ]
  },
  {
   "cell_type": "code",
   "execution_count": 70,
   "metadata": {
    "collapsed": false
   },
   "outputs": [
    {
     "data": {
      "text/plain": [
       "<matplotlib.axes._subplots.AxesSubplot at 0x7f6cae3d9ef0>"
      ]
     },
     "execution_count": 70,
     "metadata": {},
     "output_type": "execute_result"
    },
    {
     "data": {
      "image/png": "[encoded data removed]",
      "text/plain": [
       "<matplotlib.figure.Figure at 0x7f6ca0cf8a58>"
      ]
     },
     "metadata": {},
     "output_type": "display_data"
    }
   ],
   "source": [
    "sns.countplot(x=\"item_category_list_2\",data=ads,hue=\"is_trade\")"
   ]
  },
  {
   "cell_type": "code",
   "execution_count": 71,
   "metadata": {
    "collapsed": false
   },
   "outputs": [
    {
     "data": {
      "text/html": [
       "<div>\n",
       "<style>\n",
       "    .dataframe thead tr:only-child th {\n",
       "        text-align: right;\n",
       "    }\n",
       "\n",
       "    .dataframe thead th {\n",
       "        text-align: left;\n",
       "    }\n",
       "\n",
       "    .dataframe tbody tr th {\n",
       "        vertical-align: top;\n",
       "    }\n",
       "</style>\n",
       "<table border=\"1\" class=\"dataframe\">\n",
       "  <thead>\n",
       "    <tr style=\"text-align: right;\">\n",
       "      <th>is_trade</th>\n",
       "      <th>0</th>\n",
       "      <th>1</th>\n",
       "    </tr>\n",
       "    <tr>\n",
       "      <th>item_category_list_2</th>\n",
       "      <th></th>\n",
       "      <th></th>\n",
       "    </tr>\n",
       "  </thead>\n",
       "  <tbody>\n",
       "    <tr>\n",
       "      <th>6233669177166538628</th>\n",
       "      <td>118</td>\n",
       "      <td>5</td>\n",
       "    </tr>\n",
       "    <tr>\n",
       "      <th>8868887661186419229</th>\n",
       "      <td>1788</td>\n",
       "      <td>118</td>\n",
       "    </tr>\n",
       "  </tbody>\n",
       "</table>\n",
       "</div>"
      ],
      "text/plain": [
       "is_trade                 0    1\n",
       "item_category_list_2           \n",
       "6233669177166538628    118    5\n",
       "8868887661186419229   1788  118"
      ]
     },
     "execution_count": 71,
     "metadata": {},
     "output_type": "execute_result"
    }
   ],
   "source": [
    "ads.pivot_table(index=\"item_category_list_2\",columns=\"is_trade\",values = \"instance_id\",aggfunc=\"count\")"
   ]
  },
  {
   "cell_type": "markdown",
   "metadata": {},
   "source": [
    "##### 将item_property_list 拆分"
   ]
  },
  {
   "cell_type": "code",
   "execution_count": 45,
   "metadata": {
    "collapsed": true
   },
   "outputs": [],
   "source": [
    "#统计每条记录对应的商品属性个数\n",
    "ads[\"item_property_list_len\"] = ads[\"item_property_list\"].map(lambda x:len(x.split(\";\"))) "
   ]
  },
  {
   "cell_type": "code",
   "execution_count": 46,
   "metadata": {
    "collapsed": false,
    "scrolled": true
   },
   "outputs": [
    {
     "data": {
      "text/plain": [
       "0         22\n",
       "1         22\n",
       "2         22\n",
       "3         22\n",
       "4         22\n",
       "5         22\n",
       "6         50\n",
       "7         50\n",
       "8         46\n",
       "9         50\n",
       "10        50\n",
       "11        46\n",
       "12        50\n",
       "13        50\n",
       "14        50\n",
       "15        50\n",
       "16        46\n",
       "17        46\n",
       "18        50\n",
       "19        50\n",
       "20        50\n",
       "21        50\n",
       "22        46\n",
       "23        46\n",
       "24        46\n",
       "25        46\n",
       "26        50\n",
       "27        46\n",
       "28        50\n",
       "29        30\n",
       "          ..\n",
       "478108    44\n",
       "478109    44\n",
       "478110    44\n",
       "478111    44\n",
       "478112    24\n",
       "478113    21\n",
       "478114    26\n",
       "478115    26\n",
       "478116    37\n",
       "478117    37\n",
       "478118    37\n",
       "478119    35\n",
       "478120    35\n",
       "478121    35\n",
       "478122    23\n",
       "478123    25\n",
       "478124    23\n",
       "478125    25\n",
       "478126    19\n",
       "478127    23\n",
       "478128    23\n",
       "478129    19\n",
       "478130    25\n",
       "478131    48\n",
       "478132    48\n",
       "478133    48\n",
       "478134    48\n",
       "478135    48\n",
       "478136    48\n",
       "478137    26\n",
       "Name: item_property_list_len, Length: 478063, dtype: int64"
      ]
     },
     "execution_count": 46,
     "metadata": {},
     "output_type": "execute_result"
    }
   ],
   "source": [
    "ads[\"item_property_list_len\"] "
   ]
  },
  {
   "cell_type": "code",
   "execution_count": 47,
   "metadata": {
    "collapsed": false
   },
   "outputs": [
    {
     "data": {
      "text/plain": [
       "<matplotlib.axes._subplots.AxesSubplot at 0x7f6cc4b0bbe0>"
      ]
     },
     "execution_count": 47,
     "metadata": {},
     "output_type": "execute_result"
    },
    {
     "data": {
      "image/png": "[encoded data removed]",
      "text/plain": [
       "<matplotlib.figure.Figure at 0x7f6cc65b2e48>"
      ]
     },
     "metadata": {},
     "output_type": "display_data"
    }
   ],
   "source": [
    "#查看一条广告的属性个数与交易率的关系\n",
    "fig,ax = plt.subplots(figsize=(10,5))\n",
    "sns.kdeplot(ads[ads[\"is_trade\"]==1][\"item_property_list_len\"],label = \"is_trade=1\",color = \"r\",ax=ax)\n",
    "sns.kdeplot(ads[ads[\"is_trade\"]==0][\"item_property_list_len\"],label = \"is_trade=0\",color = \"b\",ax=ax)"
   ]
  },
  {
   "cell_type": "markdown",
   "metadata": {},
   "source": [
    "##### 结论\n",
    "----\n",
    "每条记录对应的商品属性个数与是否交易没有明显的关系"
   ]
  },
  {
   "cell_type": "markdown",
   "metadata": {},
   "source": [
    "##### 统计商品属性与是否交易的关系"
   ]
  },
  {
   "cell_type": "code",
   "execution_count": 72,
   "metadata": {
    "collapsed": false
   },
   "outputs": [
    {
     "data": {
      "text/plain": [
       "(10907,)"
      ]
     },
     "execution_count": 72,
     "metadata": {},
     "output_type": "execute_result"
    }
   ],
   "source": [
    "ads[\"item_property_list\"].value_counts()"
   ]
  },
  {
   "cell_type": "code",
   "execution_count": 56,
   "metadata": {
    "collapsed": false,
    "scrolled": true
   },
   "outputs": [],
   "source": [
    "item_property_list = ads[\"item_property_list\"].map(lambda x:\"|\".join(x.split(\";\")))"
   ]
  },
  {
   "cell_type": "code",
   "execution_count": 58,
   "metadata": {
    "collapsed": false
   },
   "outputs": [],
   "source": [
    "item_property_list = \"|\".join(item_property_list.tolist())"
   ]
  },
  {
   "cell_type": "code",
   "execution_count": 59,
   "metadata": {
    "collapsed": true
   },
   "outputs": [],
   "source": [
    "item_property_list = item_property_list.split(\"|\")\n",
    "item_property_list = list(set(item_property_list))"
   ]
  },
  {
   "cell_type": "code",
   "execution_count": 60,
   "metadata": {
    "collapsed": false
   },
   "outputs": [
    {
     "data": {
      "text/plain": [
       "61406"
      ]
     },
     "execution_count": 60,
     "metadata": {},
     "output_type": "execute_result"
    }
   ],
   "source": [
    "len(item_property_list)"
   ]
  },
  {
   "cell_type": "markdown",
   "metadata": {},
   "source": [
    "#### 结论：广告属性有6万个，暂且先不分析"
   ]
  },
  {
   "cell_type": "markdown",
   "metadata": {},
   "source": [
    "##### 广告品牌"
   ]
  },
  {
   "cell_type": "code",
   "execution_count": 79,
   "metadata": {
    "collapsed": false
   },
   "outputs": [
    {
     "data": {
      "text/html": [
       "<div>\n",
       "<style>\n",
       "    .dataframe thead tr:only-child th {\n",
       "        text-align: right;\n",
       "    }\n",
       "\n",
       "    .dataframe thead th {\n",
       "        text-align: left;\n",
       "    }\n",
       "\n",
       "    .dataframe tbody tr th {\n",
       "        vertical-align: top;\n",
       "    }\n",
       "</style>\n",
       "<table border=\"1\" class=\"dataframe\">\n",
       "  <thead>\n",
       "    <tr style=\"text-align: right;\">\n",
       "      <th>is_trade</th>\n",
       "      <th>0</th>\n",
       "      <th>1</th>\n",
       "    </tr>\n",
       "    <tr>\n",
       "      <th>item_brand_id</th>\n",
       "      <th></th>\n",
       "      <th></th>\n",
       "    </tr>\n",
       "  </thead>\n",
       "  <tbody>\n",
       "    <tr>\n",
       "      <th>-1</th>\n",
       "      <td>463.0</td>\n",
       "      <td>9.0</td>\n",
       "    </tr>\n",
       "    <tr>\n",
       "      <th>1519408548701639</th>\n",
       "      <td>2.0</td>\n",
       "      <td>NaN</td>\n",
       "    </tr>\n",
       "    <tr>\n",
       "      <th>2258579918686057</th>\n",
       "      <td>84.0</td>\n",
       "      <td>NaN</td>\n",
       "    </tr>\n",
       "    <tr>\n",
       "      <th>3319198235217144</th>\n",
       "      <td>347.0</td>\n",
       "      <td>9.0</td>\n",
       "    </tr>\n",
       "    <tr>\n",
       "      <th>3718718487310364</th>\n",
       "      <td>45.0</td>\n",
       "      <td>NaN</td>\n",
       "    </tr>\n",
       "    <tr>\n",
       "      <th>4083991695698405</th>\n",
       "      <td>256.0</td>\n",
       "      <td>20.0</td>\n",
       "    </tr>\n",
       "    <tr>\n",
       "      <th>9283961194704687</th>\n",
       "      <td>47.0</td>\n",
       "      <td>NaN</td>\n",
       "    </tr>\n",
       "    <tr>\n",
       "      <th>10179799365659567</th>\n",
       "      <td>9.0</td>\n",
       "      <td>NaN</td>\n",
       "    </tr>\n",
       "    <tr>\n",
       "      <th>12889248311141240</th>\n",
       "      <td>2.0</td>\n",
       "      <td>NaN</td>\n",
       "    </tr>\n",
       "    <tr>\n",
       "      <th>20146860753528028</th>\n",
       "      <td>2.0</td>\n",
       "      <td>NaN</td>\n",
       "    </tr>\n",
       "    <tr>\n",
       "      <th>20994512933250522</th>\n",
       "      <td>534.0</td>\n",
       "      <td>4.0</td>\n",
       "    </tr>\n",
       "    <tr>\n",
       "      <th>24686883552113049</th>\n",
       "      <td>10.0</td>\n",
       "      <td>NaN</td>\n",
       "    </tr>\n",
       "    <tr>\n",
       "      <th>25728712499527633</th>\n",
       "      <td>2.0</td>\n",
       "      <td>NaN</td>\n",
       "    </tr>\n",
       "    <tr>\n",
       "      <th>33199318976360609</th>\n",
       "      <td>2.0</td>\n",
       "      <td>NaN</td>\n",
       "    </tr>\n",
       "    <tr>\n",
       "      <th>34279629232910055</th>\n",
       "      <td>5.0</td>\n",
       "      <td>NaN</td>\n",
       "    </tr>\n",
       "    <tr>\n",
       "      <th>38444166278535506</th>\n",
       "      <td>14.0</td>\n",
       "      <td>NaN</td>\n",
       "    </tr>\n",
       "    <tr>\n",
       "      <th>48560508375696200</th>\n",
       "      <td>1.0</td>\n",
       "      <td>NaN</td>\n",
       "    </tr>\n",
       "    <tr>\n",
       "      <th>50094641739829925</th>\n",
       "      <td>39.0</td>\n",
       "      <td>NaN</td>\n",
       "    </tr>\n",
       "    <tr>\n",
       "      <th>60085468723317312</th>\n",
       "      <td>37.0</td>\n",
       "      <td>1.0</td>\n",
       "    </tr>\n",
       "    <tr>\n",
       "      <th>60741632119970923</th>\n",
       "      <td>19.0</td>\n",
       "      <td>1.0</td>\n",
       "    </tr>\n",
       "    <tr>\n",
       "      <th>63507203778758599</th>\n",
       "      <td>1289.0</td>\n",
       "      <td>88.0</td>\n",
       "    </tr>\n",
       "    <tr>\n",
       "      <th>72082210741361909</th>\n",
       "      <td>119.0</td>\n",
       "      <td>4.0</td>\n",
       "    </tr>\n",
       "    <tr>\n",
       "      <th>89950627625980961</th>\n",
       "      <td>6.0</td>\n",
       "      <td>NaN</td>\n",
       "    </tr>\n",
       "    <tr>\n",
       "      <th>93802507035433851</th>\n",
       "      <td>2.0</td>\n",
       "      <td>NaN</td>\n",
       "    </tr>\n",
       "    <tr>\n",
       "      <th>128437203215538941</th>\n",
       "      <td>1.0</td>\n",
       "      <td>NaN</td>\n",
       "    </tr>\n",
       "    <tr>\n",
       "      <th>132473676516508137</th>\n",
       "      <td>125.0</td>\n",
       "      <td>2.0</td>\n",
       "    </tr>\n",
       "    <tr>\n",
       "      <th>136334200187609148</th>\n",
       "      <td>1.0</td>\n",
       "      <td>NaN</td>\n",
       "    </tr>\n",
       "    <tr>\n",
       "      <th>142762304458833439</th>\n",
       "      <td>24.0</td>\n",
       "      <td>NaN</td>\n",
       "    </tr>\n",
       "    <tr>\n",
       "      <th>154240117998755021</th>\n",
       "      <td>8.0</td>\n",
       "      <td>1.0</td>\n",
       "    </tr>\n",
       "    <tr>\n",
       "      <th>161155666911242476</th>\n",
       "      <td>6.0</td>\n",
       "      <td>NaN</td>\n",
       "    </tr>\n",
       "    <tr>\n",
       "      <th>...</th>\n",
       "      <td>...</td>\n",
       "      <td>...</td>\n",
       "    </tr>\n",
       "    <tr>\n",
       "      <th>9101592800176059445</th>\n",
       "      <td>16.0</td>\n",
       "      <td>NaN</td>\n",
       "    </tr>\n",
       "    <tr>\n",
       "      <th>9101848386338438402</th>\n",
       "      <td>5.0</td>\n",
       "      <td>NaN</td>\n",
       "    </tr>\n",
       "    <tr>\n",
       "      <th>9105823345952927411</th>\n",
       "      <td>1.0</td>\n",
       "      <td>NaN</td>\n",
       "    </tr>\n",
       "    <tr>\n",
       "      <th>9106548870107910138</th>\n",
       "      <td>34.0</td>\n",
       "      <td>NaN</td>\n",
       "    </tr>\n",
       "    <tr>\n",
       "      <th>9114228973189111732</th>\n",
       "      <td>7.0</td>\n",
       "      <td>NaN</td>\n",
       "    </tr>\n",
       "    <tr>\n",
       "      <th>9123723691436546506</th>\n",
       "      <td>271.0</td>\n",
       "      <td>1.0</td>\n",
       "    </tr>\n",
       "    <tr>\n",
       "      <th>9124813535392707761</th>\n",
       "      <td>56.0</td>\n",
       "      <td>2.0</td>\n",
       "    </tr>\n",
       "    <tr>\n",
       "      <th>9128349072395737126</th>\n",
       "      <td>379.0</td>\n",
       "      <td>NaN</td>\n",
       "    </tr>\n",
       "    <tr>\n",
       "      <th>9132883203614799821</th>\n",
       "      <td>28.0</td>\n",
       "      <td>1.0</td>\n",
       "    </tr>\n",
       "    <tr>\n",
       "      <th>9134623115795675134</th>\n",
       "      <td>1.0</td>\n",
       "      <td>NaN</td>\n",
       "    </tr>\n",
       "    <tr>\n",
       "      <th>9135480045424404456</th>\n",
       "      <td>15.0</td>\n",
       "      <td>1.0</td>\n",
       "    </tr>\n",
       "    <tr>\n",
       "      <th>9135746034926852914</th>\n",
       "      <td>12.0</td>\n",
       "      <td>NaN</td>\n",
       "    </tr>\n",
       "    <tr>\n",
       "      <th>9143916258066354406</th>\n",
       "      <td>25.0</td>\n",
       "      <td>NaN</td>\n",
       "    </tr>\n",
       "    <tr>\n",
       "      <th>9147738454065357208</th>\n",
       "      <td>2.0</td>\n",
       "      <td>NaN</td>\n",
       "    </tr>\n",
       "    <tr>\n",
       "      <th>9153223652061547337</th>\n",
       "      <td>21.0</td>\n",
       "      <td>1.0</td>\n",
       "    </tr>\n",
       "    <tr>\n",
       "      <th>9154136634114006157</th>\n",
       "      <td>25.0</td>\n",
       "      <td>NaN</td>\n",
       "    </tr>\n",
       "    <tr>\n",
       "      <th>9154664499305866400</th>\n",
       "      <td>1.0</td>\n",
       "      <td>NaN</td>\n",
       "    </tr>\n",
       "    <tr>\n",
       "      <th>9154775487190522588</th>\n",
       "      <td>316.0</td>\n",
       "      <td>3.0</td>\n",
       "    </tr>\n",
       "    <tr>\n",
       "      <th>9155670768093893260</th>\n",
       "      <td>38.0</td>\n",
       "      <td>NaN</td>\n",
       "    </tr>\n",
       "    <tr>\n",
       "      <th>9157288739979218785</th>\n",
       "      <td>133.0</td>\n",
       "      <td>1.0</td>\n",
       "    </tr>\n",
       "    <tr>\n",
       "      <th>9160637652882860537</th>\n",
       "      <td>20.0</td>\n",
       "      <td>1.0</td>\n",
       "    </tr>\n",
       "    <tr>\n",
       "      <th>9168246112425745081</th>\n",
       "      <td>1.0</td>\n",
       "      <td>NaN</td>\n",
       "    </tr>\n",
       "    <tr>\n",
       "      <th>9179627165232605980</th>\n",
       "      <td>21.0</td>\n",
       "      <td>1.0</td>\n",
       "    </tr>\n",
       "    <tr>\n",
       "      <th>9184481742656729674</th>\n",
       "      <td>80.0</td>\n",
       "      <td>NaN</td>\n",
       "    </tr>\n",
       "    <tr>\n",
       "      <th>9192056858610007539</th>\n",
       "      <td>400.0</td>\n",
       "      <td>15.0</td>\n",
       "    </tr>\n",
       "    <tr>\n",
       "      <th>9197386968174653176</th>\n",
       "      <td>4.0</td>\n",
       "      <td>NaN</td>\n",
       "    </tr>\n",
       "    <tr>\n",
       "      <th>9208708814891093062</th>\n",
       "      <td>12.0</td>\n",
       "      <td>2.0</td>\n",
       "    </tr>\n",
       "    <tr>\n",
       "      <th>9209662116421982783</th>\n",
       "      <td>79.0</td>\n",
       "      <td>1.0</td>\n",
       "    </tr>\n",
       "    <tr>\n",
       "      <th>9220684402716277904</th>\n",
       "      <td>10.0</td>\n",
       "      <td>NaN</td>\n",
       "    </tr>\n",
       "    <tr>\n",
       "      <th>9222396336956121633</th>\n",
       "      <td>31.0</td>\n",
       "      <td>1.0</td>\n",
       "    </tr>\n",
       "  </tbody>\n",
       "</table>\n",
       "<p>2055 rows × 2 columns</p>\n",
       "</div>"
      ],
      "text/plain": [
       "is_trade                   0     1\n",
       "item_brand_id                     \n",
       "-1                     463.0   9.0\n",
       " 1519408548701639        2.0   NaN\n",
       " 2258579918686057       84.0   NaN\n",
       " 3319198235217144      347.0   9.0\n",
       " 3718718487310364       45.0   NaN\n",
       " 4083991695698405      256.0  20.0\n",
       " 9283961194704687       47.0   NaN\n",
       " 10179799365659567       9.0   NaN\n",
       " 12889248311141240       2.0   NaN\n",
       " 20146860753528028       2.0   NaN\n",
       " 20994512933250522     534.0   4.0\n",
       " 24686883552113049      10.0   NaN\n",
       " 25728712499527633       2.0   NaN\n",
       " 33199318976360609       2.0   NaN\n",
       " 34279629232910055       5.0   NaN\n",
       " 38444166278535506      14.0   NaN\n",
       " 48560508375696200       1.0   NaN\n",
       " 50094641739829925      39.0   NaN\n",
       " 60085468723317312      37.0   1.0\n",
       " 60741632119970923      19.0   1.0\n",
       " 63507203778758599    1289.0  88.0\n",
       " 72082210741361909     119.0   4.0\n",
       " 89950627625980961       6.0   NaN\n",
       " 93802507035433851       2.0   NaN\n",
       " 128437203215538941      1.0   NaN\n",
       " 132473676516508137    125.0   2.0\n",
       " 136334200187609148      1.0   NaN\n",
       " 142762304458833439     24.0   NaN\n",
       " 154240117998755021      8.0   1.0\n",
       " 161155666911242476      6.0   NaN\n",
       "...                      ...   ...\n",
       " 9101592800176059445    16.0   NaN\n",
       " 9101848386338438402     5.0   NaN\n",
       " 9105823345952927411     1.0   NaN\n",
       " 9106548870107910138    34.0   NaN\n",
       " 9114228973189111732     7.0   NaN\n",
       " 9123723691436546506   271.0   1.0\n",
       " 9124813535392707761    56.0   2.0\n",
       " 9128349072395737126   379.0   NaN\n",
       " 9132883203614799821    28.0   1.0\n",
       " 9134623115795675134     1.0   NaN\n",
       " 9135480045424404456    15.0   1.0\n",
       " 9135746034926852914    12.0   NaN\n",
       " 9143916258066354406    25.0   NaN\n",
       " 9147738454065357208     2.0   NaN\n",
       " 9153223652061547337    21.0   1.0\n",
       " 9154136634114006157    25.0   NaN\n",
       " 9154664499305866400     1.0   NaN\n",
       " 9154775487190522588   316.0   3.0\n",
       " 9155670768093893260    38.0   NaN\n",
       " 9157288739979218785   133.0   1.0\n",
       " 9160637652882860537    20.0   1.0\n",
       " 9168246112425745081     1.0   NaN\n",
       " 9179627165232605980    21.0   1.0\n",
       " 9184481742656729674    80.0   NaN\n",
       " 9192056858610007539   400.0  15.0\n",
       " 9197386968174653176     4.0   NaN\n",
       " 9208708814891093062    12.0   2.0\n",
       " 9209662116421982783    79.0   1.0\n",
       " 9220684402716277904    10.0   NaN\n",
       " 9222396336956121633    31.0   1.0\n",
       "\n",
       "[2055 rows x 2 columns]"
      ]
     },
     "execution_count": 79,
     "metadata": {},
     "output_type": "execute_result"
    }
   ],
   "source": [
    "ads.pivot_table(index=\"item_brand_id\",columns=\"is_trade\",values = \"instance_id\",aggfunc=\"count\")"
   ]
  },
  {
   "cell_type": "code",
   "execution_count": 80,
   "metadata": {
    "collapsed": false
   },
   "outputs": [
    {
     "data": {
      "text/plain": [
       "(2055,)"
      ]
     },
     "execution_count": 80,
     "metadata": {},
     "output_type": "execute_result"
    }
   ],
   "source": [
    "ads[\"item_brand_id\"].unique().shape"
   ]
  },
  {
   "cell_type": "code",
   "execution_count": 81,
   "metadata": {
    "collapsed": false,
    "scrolled": true
   },
   "outputs": [
    {
     "data": {
      "text/plain": [
       "7838285046767229711    69728\n",
       "7066302540842412840    13823\n",
       "5051039799137810159    13042\n",
       "448955875785543916     10114\n",
       "739382823914881928      6539\n",
       "6793286343174833903     5280\n",
       "1902568530584691432     4605\n",
       "4609398715869550725     4235\n",
       "6597576831450166037     4216\n",
       "8188723660812005813     3738\n",
       "5818352635473521241     3730\n",
       "3801992748557162347     3474\n",
       "7024713306861377790     3452\n",
       "7166307405309656478     3195\n",
       "3765442984647241130     3178\n",
       "1212158767298395095     3096\n",
       "1842327023449366624     3033\n",
       "5368019250815240955     2989\n",
       "6553461951829665552     2763\n",
       "3884267719846612071     2678\n",
       "3697251094784296011     2641\n",
       "7393038778026345793     2606\n",
       "4940851772115583463     2491\n",
       "2441922225904422164     2455\n",
       "3321064285232298680     2388\n",
       "665010924190078800      2375\n",
       "8036402958319042519     2369\n",
       "6874110308416919683     2347\n",
       "4219436286513843074     2339\n",
       "2707400123518269628     2288\n",
       "                       ...  \n",
       "3095754226004529341        1\n",
       "5454033227514511696        1\n",
       "4688766976726863845        1\n",
       "235459053353583513         1\n",
       "6064808109373642084        1\n",
       "7991867220900340721        1\n",
       "4279627876730571066        1\n",
       "8061459091862288833        1\n",
       "7927126768601045525        1\n",
       "6078791800131392662        1\n",
       "3826455834406003646        1\n",
       "6042349938082523110        1\n",
       "4397257872244335346        1\n",
       "6711571381191498994        1\n",
       "7091383767660014758        1\n",
       "9079227999256126582        1\n",
       "1291502036219803400        1\n",
       "7331360968071710521        1\n",
       "7906646087543004026        1\n",
       "1184195227039843295        1\n",
       "2610179031068642585        1\n",
       "4413068519504185980        1\n",
       "6145077858704446614        1\n",
       "3852648456118423419        1\n",
       "5719274637828952704        1\n",
       "649011438197962804         1\n",
       "7652129664586667369        1\n",
       "5896303189034677982        1\n",
       "2967152924522580025        1\n",
       "7836517907846999124        1\n",
       "Name: item_brand_id, Length: 2055, dtype: int64"
      ]
     },
     "execution_count": 81,
     "metadata": {},
     "output_type": "execute_result"
    }
   ],
   "source": [
    "ads[\"item_brand_id\"].value_counts()"
   ]
  },
  {
   "cell_type": "markdown",
   "metadata": {},
   "source": [
    "##### 城市编码"
   ]
  },
  {
   "cell_type": "code",
   "execution_count": 82,
   "metadata": {
    "collapsed": false,
    "scrolled": true
   },
   "outputs": [
    {
     "data": {
      "text/plain": [
       "array([3948283326616421003,  548352491538518780, 3776439227963994256,\n",
       "       1019055478500227370, 7534238860363577544, 7322157373578955368,\n",
       "       8762827044490678569, 6154585379646116922, 5918626470536001929,\n",
       "       8034210119001863030,  196257267849351217, 4556484397418645693,\n",
       "       8939023195347666945, 4644954126004286009, 3122721854741763495,\n",
       "       6652984710464900997, 6738283504825746594,  739849083029856578,\n",
       "       8201343797229916526, 2171543029187596030, 2174699138227015967,\n",
       "       6027631083130214337, 8480550192700287318, 8072963182326625214,\n",
       "       6620239887342530822,  481482873950391103, 4918413420989329604,\n",
       "       4374800994578205793, 3819392654129628501, 5161571070109172606,\n",
       "       9070707733479115872, 5978421288935197064, 7219323489207530724,\n",
       "       2022231041883668124, 2606104910636876898, 4083296682961047771,\n",
       "       8519578687848277273,  333440506879701736, 4228028106931716766,\n",
       "       8240548652619864253, 1659868702501373320, 5326000431362991708,\n",
       "       6015153214652003909, 1548565541085191105, 4899814843172066235,\n",
       "       4350273094117089600, 2007021308771876996, 8221750265705823825,\n",
       "       7997974227049795263, 3392874986167843711, 8774880668563049760,\n",
       "       2532567935548697032, 4259583541340594441, 2336396634847254369,\n",
       "       9151270500179171459, 9088192369782437159, 5781917929618748407,\n",
       "       2898261356495209345, 3508092439405455063, 8237816787986283553,\n",
       "       5988548075011636636, 2577951605337750872, 6772615624523978733,\n",
       "       4696414479261711366, 5211112922919195873, 2245236340473056111,\n",
       "        470140807240234049, 6353263476186488993, 6219110439660858399,\n",
       "       6973610335696064794, 1651749364812671046, 7433943245423082092,\n",
       "        983006732149699580,  514694032262818403, 1904187424400452352,\n",
       "       2708227716133260388,  266534138255813526, 3211191583327403811,\n",
       "       1409192320340625053, 7599123333627852867, 8213194587913143640,\n",
       "       3910415904247667078, 7296767819688411871, 5241131667453229016,\n",
       "       5808941911350447816, 3660951731540780082, 6022410898911278879,\n",
       "       4385375707470959263, 1608360359484386240,                  -1,\n",
       "       6785093493002189161, 1114691270281148507, 8933803011128731487,\n",
       "       5170960014354231267, 2441675549383057796, 3979267608276914880,\n",
       "       8747526603856329147,  445518607167094136, 4814326104676768998,\n",
       "       6122583695544856419, 3250914831627876149, 6784669248596349924,\n",
       "       5727554123450503368, 3382300273275090241, 7051154795364517673,\n",
       "       2441251304977218559, 4700646804028305048,  209109918333456044,\n",
       "       2833529017875751130, 5838099002455053655, 8969611739750220759,\n",
       "        977185943282967113, 7968875866014064608, 6419484551622907671,\n",
       "       4933623154101120732, 3198713714849193383, 5884877103856494393,\n",
       "       4897150163344753705, 1661833213317550436, 3716208830402148560,\n",
       "       7566476095478034400,  982582487743860343, 2477724295733585586,\n",
       "       4571260814718825928, 8835551476805511776, 7604343517846788325,\n",
       "       8084791051540705017, 8059836771696705787])"
      ]
     },
     "execution_count": 82,
     "metadata": {},
     "output_type": "execute_result"
    }
   ],
   "source": [
    "ads[\"item_city_id\"].unique()"
   ]
  },
  {
   "cell_type": "code",
   "execution_count": 86,
   "metadata": {
    "collapsed": false,
    "scrolled": true
   },
   "outputs": [
    {
     "data": {
      "text/plain": [
       "<matplotlib.axes._subplots.AxesSubplot at 0x7f6ca29b6d68>"
      ]
     },
     "execution_count": 86,
     "metadata": {},
     "output_type": "execute_result"
    },
    {
     "data": {
      "image/png": "[encoded data removed]",
      "text/plain": [
       "<matplotlib.figure.Figure at 0x7f6c9c283828>"
      ]
     },
     "metadata": {},
     "output_type": "display_data"
    }
   ],
   "source": [
    "ads[\"item_city_id\"].value_counts().head(20).plot(\"barh\")"
   ]
  },
  {
   "cell_type": "markdown",
   "metadata": {},
   "source": [
    "##### 价格"
   ]
  },
  {
   "cell_type": "code",
   "execution_count": 88,
   "metadata": {
    "collapsed": false
   },
   "outputs": [
    {
     "data": {
      "text/plain": [
       "7     209263\n",
       "8     115573\n",
       "6      89037\n",
       "5      41051\n",
       "4      14594\n",
       "9       4035\n",
       "3       3587\n",
       "10       456\n",
       "2        347\n",
       "1         85\n",
       "11        21\n",
       "0         12\n",
       "17         1\n",
       "16         1\n",
       "Name: item_price_level, dtype: int64"
      ]
     },
     "execution_count": 88,
     "metadata": {},
     "output_type": "execute_result"
    }
   ],
   "source": [
    "ads[\"item_price_level\"].value_counts()"
   ]
  },
  {
   "cell_type": "code",
   "execution_count": 106,
   "metadata": {
    "collapsed": false
   },
   "outputs": [
    {
     "data": {
      "text/plain": [
       "<matplotlib.axes._subplots.AxesSubplot at 0x7f6ca69c95c0>"
      ]
     },
     "execution_count": 106,
     "metadata": {},
     "output_type": "execute_result"
    },
    {
     "data": {
      "image/png": "[encoded data removed]",
      "text/plain": [
       "<matplotlib.figure.Figure at 0x7f6c9dc03f28>"
      ]
     },
     "metadata": {},
     "output_type": "display_data"
    }
   ],
   "source": [
    "fig,(ax0,ax1,ax2) = plt.subplots(figsize=(12,3),nrows=1,ncols=3)\n",
    "sns.countplot(x=\"item_price_level\",data=ads,ax=ax0)\n",
    "sns.countplot(x=\"item_price_level\",data=ads[ads[\"is_trade\"]==1],ax=ax1)\n",
    "sns.countplot(x=\"item_price_level\",data=ads[ads[\"is_trade\"]==0],ax=ax2)"
   ]
  },
  {
   "cell_type": "markdown",
   "metadata": {},
   "source": [
    "##### item_sales_level"
   ]
  },
  {
   "cell_type": "code",
   "execution_count": 105,
   "metadata": {
    "collapsed": false
   },
   "outputs": [
    {
     "data": {
      "text/plain": [
       "<matplotlib.axes._subplots.AxesSubplot at 0x7f6c844e0518>"
      ]
     },
     "execution_count": 105,
     "metadata": {},
     "output_type": "execute_result"
    },
    {
     "data": {
      "image/png": "[encoded data removed]",
      "text/plain": [
       "<matplotlib.figure.Figure at 0x7f6c9ccc84e0>"
      ]
     },
     "metadata": {},
     "output_type": "display_data"
    }
   ],
   "source": [
    "fig,(ax0,ax1,ax2) = plt.subplots(figsize=(12,3),nrows=1,ncols=3)\n",
    "sns.countplot(x=\"item_sales_level\",data=ads,ax=ax0)\n",
    "sns.countplot(x=\"item_sales_level\",data=ads[ads[\"is_trade\"]==1],ax=ax1)\n",
    "sns.countplot(x=\"item_sales_level\",data=ads[ads[\"is_trade\"]==0],ax=ax2)"
   ]
  },
  {
   "cell_type": "markdown",
   "metadata": {},
   "source": [
    "#### 被展示"
   ]
  },
  {
   "cell_type": "code",
   "execution_count": 104,
   "metadata": {
    "collapsed": false
   },
   "outputs": [
    {
     "data": {
      "text/plain": [
       "<matplotlib.axes._subplots.AxesSubplot at 0x7f6c9d4ed518>"
      ]
     },
     "execution_count": 104,
     "metadata": {},
     "output_type": "execute_result"
    },
    {
     "data": {
      "image/png": "[encoded data removed]",
      "text/plain": [
       "<matplotlib.figure.Figure at 0x7f6c9dc12438>"
      ]
     },
     "metadata": {},
     "output_type": "display_data"
    }
   ],
   "source": [
    "fig,(ax0,ax1,ax2) = plt.subplots(figsize=(12,3),nrows=1,ncols=3)\n",
    "sns.countplot(x=\"item_collected_level\",data=ads,ax=ax0)\n",
    "sns.countplot(x=\"item_collected_level\",data=ads[ads[\"is_trade\"]==1],ax=ax1)\n",
    "sns.countplot(x=\"item_collected_level\",data=ads[ads[\"is_trade\"]==0],ax=ax2)"
   ]
  },
  {
   "cell_type": "markdown",
   "metadata": {},
   "source": [
    "#### 被展示"
   ]
  },
  {
   "cell_type": "code",
   "execution_count": 103,
   "metadata": {
    "collapsed": false
   },
   "outputs": [
    {
     "data": {
      "text/plain": [
       "<matplotlib.axes._subplots.AxesSubplot at 0x7f6ca42e8a20>"
      ]
     },
     "execution_count": 103,
     "metadata": {},
     "output_type": "execute_result"
    },
    {
     "data": {
      "image/png": "[encoded data removed]",
      "text/plain": [
       "<matplotlib.figure.Figure at 0x7f6ca3432630>"
      ]
     },
     "metadata": {},
     "output_type": "display_data"
    }
   ],
   "source": [
    "fig,(ax0,ax1,ax2) = plt.subplots(figsize=(12,3),nrows=1,ncols=3)\n",
    "sns.countplot(x=\"item_pv_level\",data=ads,ax=ax0)\n",
    "sns.countplot(x=\"item_pv_level\",data=ads[ads[\"is_trade\"]==1],ax=ax1)\n",
    "sns.countplot(x=\"item_pv_level\",data=ads[ads[\"is_trade\"]==0],ax=ax2)"
   ]
  },
  {
   "cell_type": "markdown",
   "metadata": {},
   "source": [
    "# 用户基本信息"
   ]
  },
  {
   "cell_type": "code",
   "execution_count": 153,
   "metadata": {
    "collapsed": false
   },
   "outputs": [
    {
     "data": {
      "text/html": [
       "<div>\n",
       "<style>\n",
       "    .dataframe thead tr:only-child th {\n",
       "        text-align: right;\n",
       "    }\n",
       "\n",
       "    .dataframe thead th {\n",
       "        text-align: left;\n",
       "    }\n",
       "\n",
       "    .dataframe tbody tr th {\n",
       "        vertical-align: top;\n",
       "    }\n",
       "</style>\n",
       "<table border=\"1\" class=\"dataframe\">\n",
       "  <thead>\n",
       "    <tr style=\"text-align: right;\">\n",
       "      <th></th>\n",
       "      <th>instance_id</th>\n",
       "      <th>user_id</th>\n",
       "      <th>user_gender_id</th>\n",
       "      <th>user_age_level</th>\n",
       "      <th>user_occupation_id</th>\n",
       "      <th>user_star_level</th>\n",
       "      <th>is_trade</th>\n",
       "    </tr>\n",
       "  </thead>\n",
       "  <tbody>\n",
       "    <tr>\n",
       "      <th>0</th>\n",
       "      <td>108641074714126964</td>\n",
       "      <td>4505772604969228686</td>\n",
       "      <td>1</td>\n",
       "      <td>1003</td>\n",
       "      <td>2005</td>\n",
       "      <td>3003</td>\n",
       "      <td>0</td>\n",
       "    </tr>\n",
       "    <tr>\n",
       "      <th>1</th>\n",
       "      <td>5754713551599725161</td>\n",
       "      <td>2692638157208937547</td>\n",
       "      <td>0</td>\n",
       "      <td>1002</td>\n",
       "      <td>2005</td>\n",
       "      <td>3006</td>\n",
       "      <td>0</td>\n",
       "    </tr>\n",
       "    <tr>\n",
       "      <th>2</th>\n",
       "      <td>842679481291040981</td>\n",
       "      <td>5247924392014515924</td>\n",
       "      <td>0</td>\n",
       "      <td>1003</td>\n",
       "      <td>2005</td>\n",
       "      <td>3004</td>\n",
       "      <td>0</td>\n",
       "    </tr>\n",
       "    <tr>\n",
       "      <th>3</th>\n",
       "      <td>937088850059189027</td>\n",
       "      <td>2681414445369714628</td>\n",
       "      <td>1</td>\n",
       "      <td>1004</td>\n",
       "      <td>2005</td>\n",
       "      <td>3006</td>\n",
       "      <td>0</td>\n",
       "    </tr>\n",
       "    <tr>\n",
       "      <th>4</th>\n",
       "      <td>7975697065017708072</td>\n",
       "      <td>2729475788342039013</td>\n",
       "      <td>0</td>\n",
       "      <td>1002</td>\n",
       "      <td>2005</td>\n",
       "      <td>3001</td>\n",
       "      <td>0</td>\n",
       "    </tr>\n",
       "  </tbody>\n",
       "</table>\n",
       "</div>"
      ],
      "text/plain": [
       "           instance_id              user_id  user_gender_id  user_age_level  \\\n",
       "0   108641074714126964  4505772604969228686               1            1003   \n",
       "1  5754713551599725161  2692638157208937547               0            1002   \n",
       "2   842679481291040981  5247924392014515924               0            1003   \n",
       "3   937088850059189027  2681414445369714628               1            1004   \n",
       "4  7975697065017708072  2729475788342039013               0            1002   \n",
       "\n",
       "   user_occupation_id  user_star_level  is_trade  \n",
       "0                2005             3003         0  \n",
       "1                2005             3006         0  \n",
       "2                2005             3004         0  \n",
       "3                2005             3006         0  \n",
       "4                2005             3001         0  "
      ]
     },
     "execution_count": 153,
     "metadata": {},
     "output_type": "execute_result"
    }
   ],
   "source": [
    "user = train[[\"instance_id\",\"user_id\",\"user_gender_id\",\"user_age_level\",\"user_occupation_id\",\"user_star_level\",\"is_trade\"]]\n",
    "user.head()"
   ]
  },
  {
   "cell_type": "code",
   "execution_count": 154,
   "metadata": {
    "collapsed": true
   },
   "outputs": [],
   "source": [
    "user.to_pickle(\"../数据/user_0.pickle\")"
   ]
  },
  {
   "cell_type": "code",
   "execution_count": 159,
   "metadata": {
    "collapsed": false
   },
   "outputs": [],
   "source": [
    "user_ins_cnt = user.pivot_table(values=\"instance_id\",index=\"user_id\",aggfunc=\"count\")\n",
    "user_ins_cnt.columns =[\"user_ins_cnt\"]\n",
    "user = pd.merge(user,user_ins_cnt.reset_index(),left_on=\"user_id\",right_on=\"user_id\",how=\"left\").drop_duplicates()"
   ]
  },
  {
   "cell_type": "code",
   "execution_count": 160,
   "metadata": {
    "collapsed": false
   },
   "outputs": [
    {
     "data": {
      "text/plain": [
       "<matplotlib.axes._subplots.AxesSubplot at 0x7f6c6beb0828>"
      ]
     },
     "execution_count": 160,
     "metadata": {},
     "output_type": "execute_result"
    },
    {
     "data": {
      "image/png": "[encoded data removed]",
      "text/plain": [
       "<matplotlib.figure.Figure at 0x7f6c653ef1d0>"
      ]
     },
     "metadata": {},
     "output_type": "display_data"
    }
   ],
   "source": [
    "sns.distplot(user[user[\"is_trade\"]==1][\"user_ins_cnt\"],label=\"is_trade = 1\",hist=False)\n",
    "sns.distplot(user[user[\"is_trade\"]==0][\"user_ins_cnt\"],label=\"is_trade = 0\",hist=False)"
   ]
  },
  {
   "cell_type": "code",
   "execution_count": 161,
   "metadata": {
    "collapsed": false
   },
   "outputs": [
    {
     "data": {
      "text/plain": [
       "<matplotlib.collections.PathCollection at 0x7f6c5c0c5978>"
      ]
     },
     "execution_count": 161,
     "metadata": {},
     "output_type": "execute_result"
    },
    {
     "data": {
      "image/png": "[encoded data removed]",
      "text/plain": [
       "<matplotlib.figure.Figure at 0x7f6c6be847b8>"
      ]
     },
     "metadata": {},
     "output_type": "display_data"
    }
   ],
   "source": [
    "plt.scatter(x=user['is_trade'], y=user[\"user_ins_cnt\"], c='r')"
   ]
  },
  {
   "cell_type": "code",
   "execution_count": 141,
   "metadata": {
    "collapsed": true
   },
   "outputs": [],
   "source": [
    "def countPlot(df,cols):\n",
    "    fig,(ax0,ax1,ax2) = plt.subplots(figsize=(12,3),nrows=1,ncols=3)\n",
    "    sns.countplot(x=cols,data=df,ax=ax0)\n",
    "    sns.countplot(x=cols,data=df[df[\"is_trade\"]==1],ax=ax1)\n",
    "    sns.countplot(x=cols,data=df[df[\"is_trade\"]==0],ax=ax2)"
   ]
  },
  {
   "cell_type": "code",
   "execution_count": 142,
   "metadata": {
    "collapsed": false
   },
   "outputs": [
    {
     "data": {
      "image/png": "[encoded data removed]",
      "text/plain": [
       "<matplotlib.figure.Figure at 0x7f6c7d1b0e48>"
      ]
     },
     "metadata": {},
     "output_type": "display_data"
    }
   ],
   "source": [
    "countPlot(user,\"user_age_level\")"
   ]
  },
  {
   "cell_type": "code",
   "execution_count": 143,
   "metadata": {
    "collapsed": false
   },
   "outputs": [
    {
     "data": {
      "image/png": "[encoded data removed]",
      "text/plain": [
       "<matplotlib.figure.Figure at 0x7f6ca118d6a0>"
      ]
     },
     "metadata": {},
     "output_type": "display_data"
    }
   ],
   "source": [
    "countPlot(user,\"user_star_level\")"
   ]
  },
  {
   "cell_type": "code",
   "execution_count": 144,
   "metadata": {
    "collapsed": false
   },
   "outputs": [
    {
     "data": {
      "image/png": "[encoded data removed]",
      "text/plain": [
       "<matplotlib.figure.Figure at 0x7f6c769e7978>"
      ]
     },
     "metadata": {},
     "output_type": "display_data"
    }
   ],
   "source": [
    "countPlot(user,\"user_occupation_id\")"
   ]
  },
  {
   "cell_type": "markdown",
   "metadata": {},
   "source": [
    "# 店铺"
   ]
  },
  {
   "cell_type": "code",
   "execution_count": 151,
   "metadata": {
    "collapsed": false
   },
   "outputs": [],
   "source": [
    "shops = train[[\"instance_id\",\"shop_review_num_level\",\"shop_review_positive_rate\",\"shop_star_level\",\"shop_score_service\",\"shop_score_delivery\",\"shop_score_description\",\n",
    "      \"is_trade\"]]\n"
   ]
  },
  {
   "cell_type": "code",
   "execution_count": 162,
   "metadata": {
    "collapsed": false
   },
   "outputs": [
    {
     "data": {
      "image/png": "[encoded data removed]",
      "text/plain": [
       "<matplotlib.figure.Figure at 0x7f6c5ec9e668>"
      ]
     },
     "metadata": {},
     "output_type": "display_data"
    }
   ],
   "source": [
    "countPlot(shops,\"shop_review_num_level\")"
   ]
  },
  {
   "cell_type": "code",
   "execution_count": 166,
   "metadata": {
    "collapsed": false
   },
   "outputs": [
    {
     "data": {
      "text/plain": [
       "<matplotlib.axes._subplots.AxesSubplot at 0x7f6c751bd438>"
      ]
     },
     "execution_count": 166,
     "metadata": {},
     "output_type": "execute_result"
    },
    {
     "data": {
      "image/png": "[encoded data removed]",
      "text/plain": [
       "<matplotlib.figure.Figure at 0x7f6c74ad6dd8>"
      ]
     },
     "metadata": {},
     "output_type": "display_data"
    }
   ],
   "source": [
    "sns.distplot(shops[\"shop_review_positive_rate\"],kde=False)"
   ]
  },
  {
   "cell_type": "code",
   "execution_count": 168,
   "metadata": {
    "collapsed": false
   },
   "outputs": [
    {
     "data": {
      "text/html": [
       "<div>\n",
       "<style>\n",
       "    .dataframe thead tr:only-child th {\n",
       "        text-align: right;\n",
       "    }\n",
       "\n",
       "    .dataframe thead th {\n",
       "        text-align: left;\n",
       "    }\n",
       "\n",
       "    .dataframe tbody tr th {\n",
       "        vertical-align: top;\n",
       "    }\n",
       "</style>\n",
       "<table border=\"1\" class=\"dataframe\">\n",
       "  <thead>\n",
       "    <tr style=\"text-align: right;\">\n",
       "      <th></th>\n",
       "      <th>shop_review_positive_rate</th>\n",
       "      <th>is_trade</th>\n",
       "    </tr>\n",
       "  </thead>\n",
       "  <tbody>\n",
       "    <tr>\n",
       "      <th>0</th>\n",
       "      <td>1.000000</td>\n",
       "      <td>0</td>\n",
       "    </tr>\n",
       "    <tr>\n",
       "      <th>6</th>\n",
       "      <td>0.985427</td>\n",
       "      <td>0</td>\n",
       "    </tr>\n",
       "    <tr>\n",
       "      <th>14</th>\n",
       "      <td>0.985427</td>\n",
       "      <td>1</td>\n",
       "    </tr>\n",
       "    <tr>\n",
       "      <th>29</th>\n",
       "      <td>0.980592</td>\n",
       "      <td>0</td>\n",
       "    </tr>\n",
       "    <tr>\n",
       "      <th>36</th>\n",
       "      <td>0.967752</td>\n",
       "      <td>0</td>\n",
       "    </tr>\n",
       "    <tr>\n",
       "      <th>40</th>\n",
       "      <td>0.997040</td>\n",
       "      <td>0</td>\n",
       "    </tr>\n",
       "    <tr>\n",
       "      <th>52</th>\n",
       "      <td>0.997040</td>\n",
       "      <td>1</td>\n",
       "    </tr>\n",
       "    <tr>\n",
       "      <th>1892</th>\n",
       "      <td>0.994259</td>\n",
       "      <td>0</td>\n",
       "    </tr>\n",
       "    <tr>\n",
       "      <th>1894</th>\n",
       "      <td>0.976328</td>\n",
       "      <td>0</td>\n",
       "    </tr>\n",
       "    <tr>\n",
       "      <th>1915</th>\n",
       "      <td>0.985776</td>\n",
       "      <td>0</td>\n",
       "    </tr>\n",
       "    <tr>\n",
       "      <th>1980</th>\n",
       "      <td>1.000000</td>\n",
       "      <td>1</td>\n",
       "    </tr>\n",
       "    <tr>\n",
       "      <th>2114</th>\n",
       "      <td>0.978312</td>\n",
       "      <td>0</td>\n",
       "    </tr>\n",
       "    <tr>\n",
       "      <th>2126</th>\n",
       "      <td>0.978312</td>\n",
       "      <td>1</td>\n",
       "    </tr>\n",
       "    <tr>\n",
       "      <th>2150</th>\n",
       "      <td>0.994106</td>\n",
       "      <td>0</td>\n",
       "    </tr>\n",
       "    <tr>\n",
       "      <th>2153</th>\n",
       "      <td>0.984990</td>\n",
       "      <td>0</td>\n",
       "    </tr>\n",
       "    <tr>\n",
       "      <th>2174</th>\n",
       "      <td>0.984990</td>\n",
       "      <td>1</td>\n",
       "    </tr>\n",
       "    <tr>\n",
       "      <th>2213</th>\n",
       "      <td>0.999035</td>\n",
       "      <td>0</td>\n",
       "    </tr>\n",
       "    <tr>\n",
       "      <th>2215</th>\n",
       "      <td>0.985294</td>\n",
       "      <td>0</td>\n",
       "    </tr>\n",
       "    <tr>\n",
       "      <th>2252</th>\n",
       "      <td>0.986287</td>\n",
       "      <td>0</td>\n",
       "    </tr>\n",
       "    <tr>\n",
       "      <th>2272</th>\n",
       "      <td>0.996640</td>\n",
       "      <td>0</td>\n",
       "    </tr>\n",
       "    <tr>\n",
       "      <th>2288</th>\n",
       "      <td>0.990272</td>\n",
       "      <td>0</td>\n",
       "    </tr>\n",
       "    <tr>\n",
       "      <th>2306</th>\n",
       "      <td>0.986637</td>\n",
       "      <td>0</td>\n",
       "    </tr>\n",
       "    <tr>\n",
       "      <th>2307</th>\n",
       "      <td>0.985449</td>\n",
       "      <td>0</td>\n",
       "    </tr>\n",
       "    <tr>\n",
       "      <th>2335</th>\n",
       "      <td>0.982581</td>\n",
       "      <td>0</td>\n",
       "    </tr>\n",
       "    <tr>\n",
       "      <th>2353</th>\n",
       "      <td>0.983518</td>\n",
       "      <td>0</td>\n",
       "    </tr>\n",
       "    <tr>\n",
       "      <th>2367</th>\n",
       "      <td>0.983518</td>\n",
       "      <td>1</td>\n",
       "    </tr>\n",
       "    <tr>\n",
       "      <th>4086</th>\n",
       "      <td>0.991641</td>\n",
       "      <td>0</td>\n",
       "    </tr>\n",
       "    <tr>\n",
       "      <th>4184</th>\n",
       "      <td>0.993647</td>\n",
       "      <td>0</td>\n",
       "    </tr>\n",
       "    <tr>\n",
       "      <th>4186</th>\n",
       "      <td>0.990757</td>\n",
       "      <td>0</td>\n",
       "    </tr>\n",
       "    <tr>\n",
       "      <th>4193</th>\n",
       "      <td>0.990757</td>\n",
       "      <td>1</td>\n",
       "    </tr>\n",
       "    <tr>\n",
       "      <th>...</th>\n",
       "      <td>...</td>\n",
       "      <td>...</td>\n",
       "    </tr>\n",
       "    <tr>\n",
       "      <th>477834</th>\n",
       "      <td>0.993826</td>\n",
       "      <td>0</td>\n",
       "    </tr>\n",
       "    <tr>\n",
       "      <th>477838</th>\n",
       "      <td>0.992903</td>\n",
       "      <td>0</td>\n",
       "    </tr>\n",
       "    <tr>\n",
       "      <th>477846</th>\n",
       "      <td>0.986895</td>\n",
       "      <td>0</td>\n",
       "    </tr>\n",
       "    <tr>\n",
       "      <th>477864</th>\n",
       "      <td>0.986895</td>\n",
       "      <td>1</td>\n",
       "    </tr>\n",
       "    <tr>\n",
       "      <th>477916</th>\n",
       "      <td>0.958217</td>\n",
       "      <td>0</td>\n",
       "    </tr>\n",
       "    <tr>\n",
       "      <th>477921</th>\n",
       "      <td>0.994436</td>\n",
       "      <td>0</td>\n",
       "    </tr>\n",
       "    <tr>\n",
       "      <th>477922</th>\n",
       "      <td>0.974924</td>\n",
       "      <td>0</td>\n",
       "    </tr>\n",
       "    <tr>\n",
       "      <th>477927</th>\n",
       "      <td>0.993060</td>\n",
       "      <td>0</td>\n",
       "    </tr>\n",
       "    <tr>\n",
       "      <th>477930</th>\n",
       "      <td>0.958913</td>\n",
       "      <td>0</td>\n",
       "    </tr>\n",
       "    <tr>\n",
       "      <th>477936</th>\n",
       "      <td>0.991275</td>\n",
       "      <td>0</td>\n",
       "    </tr>\n",
       "    <tr>\n",
       "      <th>477938</th>\n",
       "      <td>0.988107</td>\n",
       "      <td>0</td>\n",
       "    </tr>\n",
       "    <tr>\n",
       "      <th>477971</th>\n",
       "      <td>0.991568</td>\n",
       "      <td>0</td>\n",
       "    </tr>\n",
       "    <tr>\n",
       "      <th>478028</th>\n",
       "      <td>0.988890</td>\n",
       "      <td>0</td>\n",
       "    </tr>\n",
       "    <tr>\n",
       "      <th>478034</th>\n",
       "      <td>0.993056</td>\n",
       "      <td>0</td>\n",
       "    </tr>\n",
       "    <tr>\n",
       "      <th>478037</th>\n",
       "      <td>0.992073</td>\n",
       "      <td>0</td>\n",
       "    </tr>\n",
       "    <tr>\n",
       "      <th>478045</th>\n",
       "      <td>0.990409</td>\n",
       "      <td>0</td>\n",
       "    </tr>\n",
       "    <tr>\n",
       "      <th>478046</th>\n",
       "      <td>0.990409</td>\n",
       "      <td>1</td>\n",
       "    </tr>\n",
       "    <tr>\n",
       "      <th>478056</th>\n",
       "      <td>0.976519</td>\n",
       "      <td>0</td>\n",
       "    </tr>\n",
       "    <tr>\n",
       "      <th>478070</th>\n",
       "      <td>0.990392</td>\n",
       "      <td>0</td>\n",
       "    </tr>\n",
       "    <tr>\n",
       "      <th>478077</th>\n",
       "      <td>0.989097</td>\n",
       "      <td>0</td>\n",
       "    </tr>\n",
       "    <tr>\n",
       "      <th>478079</th>\n",
       "      <td>0.982325</td>\n",
       "      <td>0</td>\n",
       "    </tr>\n",
       "    <tr>\n",
       "      <th>478086</th>\n",
       "      <td>0.989730</td>\n",
       "      <td>0</td>\n",
       "    </tr>\n",
       "    <tr>\n",
       "      <th>478112</th>\n",
       "      <td>0.996195</td>\n",
       "      <td>0</td>\n",
       "    </tr>\n",
       "    <tr>\n",
       "      <th>478113</th>\n",
       "      <td>0.996806</td>\n",
       "      <td>0</td>\n",
       "    </tr>\n",
       "    <tr>\n",
       "      <th>478114</th>\n",
       "      <td>0.989632</td>\n",
       "      <td>0</td>\n",
       "    </tr>\n",
       "    <tr>\n",
       "      <th>478116</th>\n",
       "      <td>0.998704</td>\n",
       "      <td>0</td>\n",
       "    </tr>\n",
       "    <tr>\n",
       "      <th>478119</th>\n",
       "      <td>0.974884</td>\n",
       "      <td>0</td>\n",
       "    </tr>\n",
       "    <tr>\n",
       "      <th>478131</th>\n",
       "      <td>0.993662</td>\n",
       "      <td>0</td>\n",
       "    </tr>\n",
       "    <tr>\n",
       "      <th>478132</th>\n",
       "      <td>0.993662</td>\n",
       "      <td>1</td>\n",
       "    </tr>\n",
       "    <tr>\n",
       "      <th>478137</th>\n",
       "      <td>0.991431</td>\n",
       "      <td>0</td>\n",
       "    </tr>\n",
       "  </tbody>\n",
       "</table>\n",
       "<p>14100 rows × 2 columns</p>\n",
       "</div>"
      ],
      "text/plain": [
       "        shop_review_positive_rate  is_trade\n",
       "0                        1.000000         0\n",
       "6                        0.985427         0\n",
       "14                       0.985427         1\n",
       "29                       0.980592         0\n",
       "36                       0.967752         0\n",
       "40                       0.997040         0\n",
       "52                       0.997040         1\n",
       "1892                     0.994259         0\n",
       "1894                     0.976328         0\n",
       "1915                     0.985776         0\n",
       "1980                     1.000000         1\n",
       "2114                     0.978312         0\n",
       "2126                     0.978312         1\n",
       "2150                     0.994106         0\n",
       "2153                     0.984990         0\n",
       "2174                     0.984990         1\n",
       "2213                     0.999035         0\n",
       "2215                     0.985294         0\n",
       "2252                     0.986287         0\n",
       "2272                     0.996640         0\n",
       "2288                     0.990272         0\n",
       "2306                     0.986637         0\n",
       "2307                     0.985449         0\n",
       "2335                     0.982581         0\n",
       "2353                     0.983518         0\n",
       "2367                     0.983518         1\n",
       "4086                     0.991641         0\n",
       "4184                     0.993647         0\n",
       "4186                     0.990757         0\n",
       "4193                     0.990757         1\n",
       "...                           ...       ...\n",
       "477834                   0.993826         0\n",
       "477838                   0.992903         0\n",
       "477846                   0.986895         0\n",
       "477864                   0.986895         1\n",
       "477916                   0.958217         0\n",
       "477921                   0.994436         0\n",
       "477922                   0.974924         0\n",
       "477927                   0.993060         0\n",
       "477930                   0.958913         0\n",
       "477936                   0.991275         0\n",
       "477938                   0.988107         0\n",
       "477971                   0.991568         0\n",
       "478028                   0.988890         0\n",
       "478034                   0.993056         0\n",
       "478037                   0.992073         0\n",
       "478045                   0.990409         0\n",
       "478046                   0.990409         1\n",
       "478056                   0.976519         0\n",
       "478070                   0.990392         0\n",
       "478077                   0.989097         0\n",
       "478079                   0.982325         0\n",
       "478086                   0.989730         0\n",
       "478112                   0.996195         0\n",
       "478113                   0.996806         0\n",
       "478114                   0.989632         0\n",
       "478116                   0.998704         0\n",
       "478119                   0.974884         0\n",
       "478131                   0.993662         0\n",
       "478132                   0.993662         1\n",
       "478137                   0.991431         0\n",
       "\n",
       "[14100 rows x 2 columns]"
      ]
     },
     "execution_count": 168,
     "metadata": {},
     "output_type": "execute_result"
    }
   ],
   "source": [
    "a = shops[[\"shop_review_positive_rate\",\"is_trade\"]].drop_duplicates()\n",
    "sns.distplot(a[a[\"is_trade\"]==1][\"shop_revi\"])\n",
    "sns.distplot(a[a[\"is_trade\"]==0])"
   ]
  },
  {
   "cell_type": "code",
   "execution_count": null,
   "metadata": {
    "collapsed": true
   },
   "outputs": [],
   "source": []
  }
 ],
 "metadata": {
  "anaconda-cloud": {},
  "kernelspec": {
   "display_name": "Python 3",
   "language": "python",
   "name": "python3"
  },
  "language_info": {
   "codemirror_mode": {
    "name": "ipython",
    "version": 3
   },
   "file_extension": ".py",
   "mimetype": "text/x-python",
   "name": "python",
   "nbconvert_exporter": "python",
   "pygments_lexer": "ipython3",
   "version": "3.6.0"
  }
 },
 "nbformat": 4,
 "nbformat_minor": 2
}
