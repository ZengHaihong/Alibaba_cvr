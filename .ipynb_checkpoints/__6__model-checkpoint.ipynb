{
 "cells": [
  {
   "cell_type": "code",
   "execution_count": 1,
   "metadata": {
    "collapsed": false
   },
   "outputs": [],
   "source": [
    "import pandas as pd\n",
    "import numpy as np\n",
    "import os\n",
    "import sklearn\n",
    "from sklearn.linear_model import LogisticRegression\n",
    "import lightgbm as lgb"
   ]
  },
  {
   "cell_type": "code",
   "execution_count": 2,
   "metadata": {
    "collapsed": true
   },
   "outputs": [],
   "source": [
    "def logloss(act, preds):\n",
    "    epsilon = 1e-15\n",
    "    preds = sp.maximum(epsilon, preds)\n",
    "    preds = sp.minimum(1 - epsilon, preds)\n",
    "    ll = sum(act * sp.log(preds) + sp.subtract(1, act) * sp.log(sp.subtract(1, preds)))\n",
    "    ll = ll * -1.0 / len(act)\n",
    "    return ll"
   ]
  },
  {
   "cell_type": "code",
   "execution_count": 3,
   "metadata": {
    "collapsed": true
   },
   "outputs": [],
   "source": [
    "drop_cols = ['hourClick_min',\n",
    "             'hourClick_median',\n",
    "             'category_0_sum_count',\n",
    "             'is_train',\n",
    "             'item_price_level_16',\n",
    "             'item_price_level_17',\n",
    "             'item_pv_level_1',\n",
    "             'shop_review_num_level_0',\n",
    "             'shop_review_num_level_1',\n",
    "             'shop_star_level_4999',\n",
    "             'category_0_7908382889764677758']\n",
    "train = pd.read_pickle(\"../数据/merge_data/_5_merge_data_train.pickle\")\n",
    "train = train.set_index(\"instance_id\")\n",
    "val = pd.read_pickle(\"../数据/merge_data/_5_merge_data_val.pickle\")\n",
    "val = val.set_index(\"instance_id\")\n",
    "test = pd.read_pickle(\"../数据/merge_data/_5_merge_data_test.pickle\")\n",
    "test = test.set_index(\"instance_id\")\n",
    "train = train.drop(drop_cols,axis=1)\n",
    "test = test.drop(drop_cols,axis=1)\n",
    "val = val.drop(drop_cols,axis=1)"
   ]
  },
  {
   "cell_type": "code",
   "execution_count": 4,
   "metadata": {
    "collapsed": false
   },
   "outputs": [
    {
     "data": {
      "text/plain": [
       "(203093, 374)"
      ]
     },
     "execution_count": 4,
     "metadata": {},
     "output_type": "execute_result"
    }
   ],
   "source": [
    "train.shape"
   ]
  },
  {
   "cell_type": "code",
   "execution_count": 5,
   "metadata": {
    "collapsed": false
   },
   "outputs": [],
   "source": [
    "X_tr = train.drop([\"is_trade\"],axis=1)\n",
    "y_tr = train[\"is_trade\"]\n",
    "X_val = val.drop([\"is_trade\"],axis=1)\n",
    "y_val = val[\"is_trade\"]\n",
    "\n",
    "del train\n",
    "del val"
   ]
  },
  {
   "cell_type": "code",
   "execution_count": 8,
   "metadata": {
    "collapsed": false
   },
   "outputs": [],
   "source": [
    "model = lgb.LGBMClassifier(boosting_type='gbdt', num_leaves=80, max_depth=7, learning_rate=0.01, n_estimators=10000,\n",
    "                           max_bin=425, subsample_for_bin=50000, objective='binary', min_split_gain=0,\n",
    "                           min_child_weight=5, min_child_samples=10, subsample=1, subsample_freq=1,\n",
    "                           colsample_bytree=1, reg_alpha=3, reg_lambda=5, seed=1000, nthread=-1, silent=True)\n",
    "# model = lgb.LGBMClassifier(boosting_type='gbdt', num_leaves=6, min_data_in_leaf = 500,max_depth=3, learning_rate=0.01, n_estimators=10000,\n",
    "#                            max_bin=425, subsample_for_bin=50000, objective='binary', min_split_gain=0,\n",
    "#                            min_child_weight=5, min_child_samples=10, subsample=1, subsample_freq=1,\n",
    "#                            colsample_bytree=1, reg_alpha=3, reg_lambda=5, seed=1000, nthread=-1, silent=True\n",
    "#                             ,is_unbalance =True,bagging_fraction = 0.7)"
   ]
  },
  {
   "cell_type": "code",
   "execution_count": null,
   "metadata": {
    "collapsed": false,
    "scrolled": true
   },
   "outputs": [
    {
     "name": "stdout",
     "output_type": "stream",
     "text": [
      "[1]\ttraining's binary_logloss: 0.683913\tvalid_1's binary_logloss: 0.683894\n",
      "Training until validation scores don't improve for 100 rounds.\n",
      "[2]\ttraining's binary_logloss: 0.674862\tvalid_1's binary_logloss: 0.674823\n",
      "[3]\ttraining's binary_logloss: 0.665989\tvalid_1's binary_logloss: 0.665931\n",
      "[4]\ttraining's binary_logloss: 0.657288\tvalid_1's binary_logloss: 0.65721\n",
      "[5]\ttraining's binary_logloss: 0.648755\tvalid_1's binary_logloss: 0.648658\n",
      "[6]\ttraining's binary_logloss: 0.640385\tvalid_1's binary_logloss: 0.640268\n",
      "[7]\ttraining's binary_logloss: 0.632173\tvalid_1's binary_logloss: 0.632036\n",
      "[8]\ttraining's binary_logloss: 0.624116\tvalid_1's binary_logloss: 0.623959\n",
      "[9]\ttraining's binary_logloss: 0.616209\tvalid_1's binary_logloss: 0.616031\n",
      "[10]\ttraining's binary_logloss: 0.608448\tvalid_1's binary_logloss: 0.608249\n",
      "[11]\ttraining's binary_logloss: 0.60083\tvalid_1's binary_logloss: 0.600612\n",
      "[12]\ttraining's binary_logloss: 0.59335\tvalid_1's binary_logloss: 0.593115\n",
      "[13]\ttraining's binary_logloss: 0.586005\tvalid_1's binary_logloss: 0.58575\n",
      "[14]\ttraining's binary_logloss: 0.578792\tvalid_1's binary_logloss: 0.578516\n",
      "[15]\ttraining's binary_logloss: 0.571708\tvalid_1's binary_logloss: 0.571412\n",
      "[16]\ttraining's binary_logloss: 0.564749\tvalid_1's binary_logloss: 0.564433\n",
      "[17]\ttraining's binary_logloss: 0.557912\tvalid_1's binary_logloss: 0.557577\n",
      "[18]\ttraining's binary_logloss: 0.551194\tvalid_1's binary_logloss: 0.550842\n",
      "[19]\ttraining's binary_logloss: 0.544593\tvalid_1's binary_logloss: 0.544221\n",
      "[20]\ttraining's binary_logloss: 0.538105\tvalid_1's binary_logloss: 0.537712\n",
      "[21]\ttraining's binary_logloss: 0.531729\tvalid_1's binary_logloss: 0.531317\n",
      "[22]\ttraining's binary_logloss: 0.52546\tvalid_1's binary_logloss: 0.525028\n",
      "[23]\ttraining's binary_logloss: 0.519298\tvalid_1's binary_logloss: 0.518847\n",
      "[24]\ttraining's binary_logloss: 0.513239\tvalid_1's binary_logloss: 0.512768\n",
      "[25]\ttraining's binary_logloss: 0.507281\tvalid_1's binary_logloss: 0.50679\n",
      "[26]\ttraining's binary_logloss: 0.501421\tvalid_1's binary_logloss: 0.500911\n",
      "[27]\ttraining's binary_logloss: 0.495659\tvalid_1's binary_logloss: 0.49513\n",
      "[28]\ttraining's binary_logloss: 0.489991\tvalid_1's binary_logloss: 0.489442\n",
      "[29]\ttraining's binary_logloss: 0.484415\tvalid_1's binary_logloss: 0.483848\n",
      "[30]\ttraining's binary_logloss: 0.47893\tvalid_1's binary_logloss: 0.478343\n",
      "[31]\ttraining's binary_logloss: 0.473533\tvalid_1's binary_logloss: 0.472928\n",
      "[32]\ttraining's binary_logloss: 0.468223\tvalid_1's binary_logloss: 0.467598\n",
      "[33]\ttraining's binary_logloss: 0.462997\tvalid_1's binary_logloss: 0.462355\n",
      "[34]\ttraining's binary_logloss: 0.457855\tvalid_1's binary_logloss: 0.457195\n",
      "[35]\ttraining's binary_logloss: 0.452794\tvalid_1's binary_logloss: 0.452115\n",
      "[36]\ttraining's binary_logloss: 0.447812\tvalid_1's binary_logloss: 0.447114\n",
      "[37]\ttraining's binary_logloss: 0.442908\tvalid_1's binary_logloss: 0.442192\n",
      "[38]\ttraining's binary_logloss: 0.438081\tvalid_1's binary_logloss: 0.437345\n",
      "[39]\ttraining's binary_logloss: 0.433328\tvalid_1's binary_logloss: 0.432575\n",
      "[40]\ttraining's binary_logloss: 0.428649\tvalid_1's binary_logloss: 0.427878\n",
      "[41]\ttraining's binary_logloss: 0.424041\tvalid_1's binary_logloss: 0.423251\n",
      "[42]\ttraining's binary_logloss: 0.419504\tvalid_1's binary_logloss: 0.418696\n",
      "[43]\ttraining's binary_logloss: 0.415037\tvalid_1's binary_logloss: 0.414209\n",
      "[44]\ttraining's binary_logloss: 0.410636\tvalid_1's binary_logloss: 0.409792\n",
      "[45]\ttraining's binary_logloss: 0.406303\tvalid_1's binary_logloss: 0.405439\n",
      "[46]\ttraining's binary_logloss: 0.402034\tvalid_1's binary_logloss: 0.401154\n",
      "[47]\ttraining's binary_logloss: 0.397829\tvalid_1's binary_logloss: 0.396932\n",
      "[48]\ttraining's binary_logloss: 0.393687\tvalid_1's binary_logloss: 0.392772\n",
      "[49]\ttraining's binary_logloss: 0.389607\tvalid_1's binary_logloss: 0.388673\n",
      "[50]\ttraining's binary_logloss: 0.385587\tvalid_1's binary_logloss: 0.384636\n",
      "[51]\ttraining's binary_logloss: 0.381626\tvalid_1's binary_logloss: 0.380657\n",
      "[52]\ttraining's binary_logloss: 0.377723\tvalid_1's binary_logloss: 0.376737\n",
      "[53]\ttraining's binary_logloss: 0.373877\tvalid_1's binary_logloss: 0.372873\n",
      "[54]\ttraining's binary_logloss: 0.370088\tvalid_1's binary_logloss: 0.369067\n",
      "[55]\ttraining's binary_logloss: 0.366353\tvalid_1's binary_logloss: 0.365316\n",
      "[56]\ttraining's binary_logloss: 0.362673\tvalid_1's binary_logloss: 0.361619\n",
      "[57]\ttraining's binary_logloss: 0.359045\tvalid_1's binary_logloss: 0.357973\n",
      "[58]\ttraining's binary_logloss: 0.35547\tvalid_1's binary_logloss: 0.354381\n",
      "[59]\ttraining's binary_logloss: 0.351946\tvalid_1's binary_logloss: 0.350839\n",
      "[60]\ttraining's binary_logloss: 0.348472\tvalid_1's binary_logloss: 0.347348\n",
      "[61]\ttraining's binary_logloss: 0.345048\tvalid_1's binary_logloss: 0.343906\n",
      "[62]\ttraining's binary_logloss: 0.341672\tvalid_1's binary_logloss: 0.340514\n",
      "[63]\ttraining's binary_logloss: 0.338344\tvalid_1's binary_logloss: 0.337168\n",
      "[64]\ttraining's binary_logloss: 0.335063\tvalid_1's binary_logloss: 0.33387\n",
      "[65]\ttraining's binary_logloss: 0.331828\tvalid_1's binary_logloss: 0.330619\n",
      "[66]\ttraining's binary_logloss: 0.328638\tvalid_1's binary_logloss: 0.327413\n",
      "[67]\ttraining's binary_logloss: 0.325493\tvalid_1's binary_logloss: 0.32425\n",
      "[68]\ttraining's binary_logloss: 0.322392\tvalid_1's binary_logloss: 0.321132\n",
      "[69]\ttraining's binary_logloss: 0.319334\tvalid_1's binary_logloss: 0.318057\n",
      "[70]\ttraining's binary_logloss: 0.316318\tvalid_1's binary_logloss: 0.315024\n",
      "[71]\ttraining's binary_logloss: 0.313344\tvalid_1's binary_logloss: 0.312034\n",
      "[72]\ttraining's binary_logloss: 0.310412\tvalid_1's binary_logloss: 0.309085\n",
      "[73]\ttraining's binary_logloss: 0.307519\tvalid_1's binary_logloss: 0.306175\n",
      "[74]\ttraining's binary_logloss: 0.304666\tvalid_1's binary_logloss: 0.303306\n",
      "[75]\ttraining's binary_logloss: 0.301852\tvalid_1's binary_logloss: 0.300474\n",
      "[76]\ttraining's binary_logloss: 0.299076\tvalid_1's binary_logloss: 0.297683\n",
      "[77]\ttraining's binary_logloss: 0.296339\tvalid_1's binary_logloss: 0.294928\n",
      "[78]\ttraining's binary_logloss: 0.293638\tvalid_1's binary_logloss: 0.292211\n",
      "[79]\ttraining's binary_logloss: 0.290974\tvalid_1's binary_logloss: 0.289532\n",
      "[80]\ttraining's binary_logloss: 0.288346\tvalid_1's binary_logloss: 0.286887\n",
      "[81]\ttraining's binary_logloss: 0.285753\tvalid_1's binary_logloss: 0.284279\n",
      "[82]\ttraining's binary_logloss: 0.283196\tvalid_1's binary_logloss: 0.281707\n",
      "[83]\ttraining's binary_logloss: 0.280672\tvalid_1's binary_logloss: 0.279167\n",
      "[84]\ttraining's binary_logloss: 0.278183\tvalid_1's binary_logloss: 0.27666\n",
      "[85]\ttraining's binary_logloss: 0.275726\tvalid_1's binary_logloss: 0.274189\n",
      "[86]\ttraining's binary_logloss: 0.273303\tvalid_1's binary_logloss: 0.271749\n",
      "[87]\ttraining's binary_logloss: 0.270912\tvalid_1's binary_logloss: 0.269342\n",
      "[88]\ttraining's binary_logloss: 0.268552\tvalid_1's binary_logloss: 0.266968\n",
      "[89]\ttraining's binary_logloss: 0.266224\tvalid_1's binary_logloss: 0.264623\n",
      "[90]\ttraining's binary_logloss: 0.263927\tvalid_1's binary_logloss: 0.262309\n",
      "[91]\ttraining's binary_logloss: 0.26166\tvalid_1's binary_logloss: 0.260026\n",
      "[92]\ttraining's binary_logloss: 0.259423\tvalid_1's binary_logloss: 0.257774\n",
      "[93]\ttraining's binary_logloss: 0.257215\tvalid_1's binary_logloss: 0.255552\n",
      "[94]\ttraining's binary_logloss: 0.255036\tvalid_1's binary_logloss: 0.253359\n",
      "[95]\ttraining's binary_logloss: 0.252886\tvalid_1's binary_logloss: 0.251196\n",
      "[96]\ttraining's binary_logloss: 0.250764\tvalid_1's binary_logloss: 0.249058\n",
      "[97]\ttraining's binary_logloss: 0.24867\tvalid_1's binary_logloss: 0.246948\n",
      "[98]\ttraining's binary_logloss: 0.246603\tvalid_1's binary_logloss: 0.244866\n",
      "[99]\ttraining's binary_logloss: 0.244563\tvalid_1's binary_logloss: 0.24281\n",
      "[100]\ttraining's binary_logloss: 0.242549\tvalid_1's binary_logloss: 0.24078\n",
      "[101]\ttraining's binary_logloss: 0.240562\tvalid_1's binary_logloss: 0.238777\n",
      "[102]\ttraining's binary_logloss: 0.2386\tvalid_1's binary_logloss: 0.236801\n",
      "[103]\ttraining's binary_logloss: 0.236664\tvalid_1's binary_logloss: 0.23485\n",
      "[104]\ttraining's binary_logloss: 0.234752\tvalid_1's binary_logloss: 0.232922\n",
      "[105]\ttraining's binary_logloss: 0.232866\tvalid_1's binary_logloss: 0.23102\n",
      "[106]\ttraining's binary_logloss: 0.231003\tvalid_1's binary_logloss: 0.229144\n",
      "[107]\ttraining's binary_logloss: 0.229165\tvalid_1's binary_logloss: 0.227289\n",
      "[108]\ttraining's binary_logloss: 0.22735\tvalid_1's binary_logloss: 0.225459\n",
      "[109]\ttraining's binary_logloss: 0.225559\tvalid_1's binary_logloss: 0.223653\n",
      "[110]\ttraining's binary_logloss: 0.22379\tvalid_1's binary_logloss: 0.221869\n",
      "[111]\ttraining's binary_logloss: 0.222044\tvalid_1's binary_logloss: 0.220108\n",
      "[112]\ttraining's binary_logloss: 0.220321\tvalid_1's binary_logloss: 0.218371\n",
      "[113]\ttraining's binary_logloss: 0.21862\tvalid_1's binary_logloss: 0.216654\n",
      "[114]\ttraining's binary_logloss: 0.21694\tvalid_1's binary_logloss: 0.21496\n",
      "[115]\ttraining's binary_logloss: 0.215281\tvalid_1's binary_logloss: 0.213286\n",
      "[116]\ttraining's binary_logloss: 0.213644\tvalid_1's binary_logloss: 0.211635\n",
      "[117]\ttraining's binary_logloss: 0.212028\tvalid_1's binary_logloss: 0.210004\n",
      "[118]\ttraining's binary_logloss: 0.210432\tvalid_1's binary_logloss: 0.208392\n",
      "[119]\ttraining's binary_logloss: 0.208856\tvalid_1's binary_logloss: 0.206802\n",
      "[120]\ttraining's binary_logloss: 0.2073\tvalid_1's binary_logloss: 0.205233\n",
      "[121]\ttraining's binary_logloss: 0.205764\tvalid_1's binary_logloss: 0.203682\n",
      "[122]\ttraining's binary_logloss: 0.204248\tvalid_1's binary_logloss: 0.202151\n",
      "[123]\ttraining's binary_logloss: 0.20275\tvalid_1's binary_logloss: 0.20064\n",
      "[124]\ttraining's binary_logloss: 0.201272\tvalid_1's binary_logloss: 0.199144\n",
      "[125]\ttraining's binary_logloss: 0.199812\tvalid_1's binary_logloss: 0.197671\n",
      "[126]\ttraining's binary_logloss: 0.198371\tvalid_1's binary_logloss: 0.196215\n",
      "[127]\ttraining's binary_logloss: 0.196947\tvalid_1's binary_logloss: 0.194778\n",
      "[128]\ttraining's binary_logloss: 0.195542\tvalid_1's binary_logloss: 0.193356\n",
      "[129]\ttraining's binary_logloss: 0.194154\tvalid_1's binary_logloss: 0.191955\n",
      "[130]\ttraining's binary_logloss: 0.192784\tvalid_1's binary_logloss: 0.190571\n",
      "[131]\ttraining's binary_logloss: 0.19143\tvalid_1's binary_logloss: 0.1892\n",
      "[132]\ttraining's binary_logloss: 0.190094\tvalid_1's binary_logloss: 0.187852\n",
      "[133]\ttraining's binary_logloss: 0.188775\tvalid_1's binary_logloss: 0.186518\n",
      "[134]\ttraining's binary_logloss: 0.187472\tvalid_1's binary_logloss: 0.185199\n",
      "[135]\ttraining's binary_logloss: 0.186185\tvalid_1's binary_logloss: 0.183899\n",
      "[136]\ttraining's binary_logloss: 0.184915\tvalid_1's binary_logloss: 0.182615\n",
      "[137]\ttraining's binary_logloss: 0.18366\tvalid_1's binary_logloss: 0.181344\n",
      "[138]\ttraining's binary_logloss: 0.182421\tvalid_1's binary_logloss: 0.180091\n",
      "[139]\ttraining's binary_logloss: 0.181198\tvalid_1's binary_logloss: 0.178856\n",
      "[140]\ttraining's binary_logloss: 0.17999\tvalid_1's binary_logloss: 0.177631\n",
      "[141]\ttraining's binary_logloss: 0.178797\tvalid_1's binary_logloss: 0.176424\n",
      "[142]\ttraining's binary_logloss: 0.177618\tvalid_1's binary_logloss: 0.175233\n",
      "[143]\ttraining's binary_logloss: 0.176455\tvalid_1's binary_logloss: 0.174053\n",
      "[144]\ttraining's binary_logloss: 0.175305\tvalid_1's binary_logloss: 0.172891\n",
      "[145]\ttraining's binary_logloss: 0.17417\tvalid_1's binary_logloss: 0.171739\n",
      "[146]\ttraining's binary_logloss: 0.17305\tvalid_1's binary_logloss: 0.170605\n",
      "[147]\ttraining's binary_logloss: 0.171943\tvalid_1's binary_logloss: 0.169483\n",
      "[148]\ttraining's binary_logloss: 0.17085\tvalid_1's binary_logloss: 0.168377\n",
      "[149]\ttraining's binary_logloss: 0.16977\tvalid_1's binary_logloss: 0.167285\n",
      "[150]\ttraining's binary_logloss: 0.168704\tvalid_1's binary_logloss: 0.166203\n",
      "[151]\ttraining's binary_logloss: 0.167651\tvalid_1's binary_logloss: 0.165137\n",
      "[152]\ttraining's binary_logloss: 0.166611\tvalid_1's binary_logloss: 0.164082\n",
      "[153]\ttraining's binary_logloss: 0.165585\tvalid_1's binary_logloss: 0.163042\n",
      "[154]\ttraining's binary_logloss: 0.16457\tvalid_1's binary_logloss: 0.162011\n",
      "[155]\ttraining's binary_logloss: 0.163569\tvalid_1's binary_logloss: 0.160996\n",
      "[156]\ttraining's binary_logloss: 0.162579\tvalid_1's binary_logloss: 0.159996\n",
      "[157]\ttraining's binary_logloss: 0.161602\tvalid_1's binary_logloss: 0.159002\n",
      "[158]\ttraining's binary_logloss: 0.160637\tvalid_1's binary_logloss: 0.158023\n",
      "[159]\ttraining's binary_logloss: 0.159684\tvalid_1's binary_logloss: 0.157057\n"
     ]
    }
   ],
   "source": [
    "model.fit(X_tr, y_tr, eval_metric='logloss',eval_set=[(X_tr, y_tr), (X_val, y_val)],early_stopping_rounds=100)"
   ]
  },
  {
   "cell_type": "code",
   "execution_count": null,
   "metadata": {
    "collapsed": false
   },
   "outputs": [],
   "source": [
    "y_pred = model.predict(X_val)"
   ]
  },
  {
   "cell_type": "code",
   "execution_count": null,
   "metadata": {
    "collapsed": false
   },
   "outputs": [],
   "source": [
    "pd.Series(y_pred).value_counts()"
   ]
  },
  {
   "cell_type": "code",
   "execution_count": null,
   "metadata": {
    "collapsed": false
   },
   "outputs": [],
   "source": [
    "proba = model.predict_proba(test)"
   ]
  },
  {
   "cell_type": "code",
   "execution_count": null,
   "metadata": {
    "collapsed": false
   },
   "outputs": [],
   "source": [
    "result_v1 = pd.DataFrame(test.index)\n",
    "result_v1[\"predicted_score\"] = proba[:,-1]"
   ]
  },
  {
   "cell_type": "code",
   "execution_count": null,
   "metadata": {
    "collapsed": false
   },
   "outputs": [],
   "source": [
    "result_v1.to_csv(\"../数据/model/_6_result_v1_04082335.txt\",encoding=\"utf-8\",sep=\" \",index=False)"
   ]
  },
  {
   "cell_type": "code",
   "execution_count": null,
   "metadata": {
    "collapsed": false
   },
   "outputs": [],
   "source": [
    "test = pd.read_csv(\"../数据/raw_path/round1_ijcai_18_test_a_20180301.txt\",sep=\" \")"
   ]
  },
  {
   "cell_type": "code",
   "execution_count": null,
   "metadata": {
    "collapsed": false
   },
   "outputs": [],
   "source": [
    "test.shape"
   ]
  },
  {
   "cell_type": "code",
   "execution_count": null,
   "metadata": {
    "collapsed": true
   },
   "outputs": [],
   "source": []
  }
 ],
 "metadata": {
  "anaconda-cloud": {},
  "kernelspec": {
   "display_name": "Python [Root]",
   "language": "python",
   "name": "Python [Root]"
  },
  "language_info": {
   "codemirror_mode": {
    "name": "ipython",
    "version": 3
   },
   "file_extension": ".py",
   "mimetype": "text/x-python",
   "name": "python",
   "nbconvert_exporter": "python",
   "pygments_lexer": "ipython3",
   "version": "3.5.2"
  }
 },
 "nbformat": 4,
 "nbformat_minor": 2
}
