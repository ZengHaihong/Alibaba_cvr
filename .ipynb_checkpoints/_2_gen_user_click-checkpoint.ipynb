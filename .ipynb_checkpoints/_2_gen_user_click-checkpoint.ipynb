{
 "cells": [
  {
   "cell_type": "markdown",
   "metadata": {},
   "source": [
    "## Build user click Feature\n",
    "---\n",
    "阿里妈妈提供了用户点击的广告日志给我们，我们先将广告的展示时间当做是用户点击此广告的时间\n",
    "https://github.com/shenweichen/Tencent_Social_Ads2017_Mobile_App_pCVR/blob/master/code/_2_1_gen_user_click_features.py\n",
    "---\n",
    "本节代码主要生成以下的特征：\n"
   ]
  },
  {
   "cell_type": "code",
   "execution_count": 1,
   "metadata": {
    "collapsed": false
   },
   "outputs": [],
   "source": [
    "import pandas as pd\n",
    "import numpy as np\n",
    "import os\n",
    "import time\n",
    "import matplotlib.pyplot as plt\n",
    "from scipy.stats import chi2_contingency #方差检验\n",
    "import seaborn as sns\n",
    "import copy \n",
    "%matplotlib inline\n",
    "plt.style.use(\"ggplot\")"
   ]
  },
  {
   "cell_type": "code",
   "execution_count": 2,
   "metadata": {
    "collapsed": true
   },
   "outputs": [],
   "source": [
    "train = pd.read_pickle(\"../数据/preprocess_path/train_1.pickle\")\n",
    "test = pd.read_pickle(\"../数据/preprocess_path/test_1.pickle\")"
   ]
  },
  {
   "cell_type": "code",
   "execution_count": 12,
   "metadata": {
    "collapsed": false
   },
   "outputs": [
    {
     "data": {
      "text/plain": [
       "Timestamp('2018-09-17 00:00:01')"
      ]
     },
     "execution_count": 12,
     "metadata": {},
     "output_type": "execute_result"
    }
   ],
   "source": [
    "pd.DatetimeIndex(train[\"context_timestamp\"]).shift(-16,freq=\"H\").min()"
   ]
  },
  {
   "cell_type": "code",
   "execution_count": 3,
   "metadata": {
    "collapsed": false
   },
   "outputs": [],
   "source": [
    "def parse_time(df,time_col):\n",
    "    '''\n",
    "    功能：\n",
    "    -----\n",
    "    将时间进行解析，并提取各层次的时间\n",
    "    '''\n",
    "    data = copy.deepcopy(df) #复制\n",
    "    data[time_col] = pd.to_datetime(data[time_col],unit=\"s\")\n",
    "    data[\"date\"] = data[time_col].dt.date  #日期\n",
    "    data[\"month\"] = data[time_col].dt.month #月份\n",
    "    data[\"day\"] = data[time_col].dt.day   #一个月的第几日\n",
    "    data[\"weekday\"] = data[time_col].dt.weekday_name  #曜日\n",
    "    data[\"hour\"] = data[time_col].dt.hour  #时间\n",
    "    data[\"minute\"] = data[time_col].dt.minute #分钟\n",
    "    return data"
   ]
  },
  {
   "cell_type": "code",
   "execution_count": 13,
   "metadata": {
    "collapsed": true
   },
   "outputs": [],
   "source": [
    "def preprocessing_data(readpath,savepath,update=False):\n",
    "    '''\n",
    "    初步清洗数据\n",
    "    data:需要清洗的数据\n",
    "    readpath:读取文件\n",
    "    savepath:清洗完的数据存储路径\n",
    "    update:是否要重新清洗，update = True表示重新清洗数据\n",
    "    '''\n",
    "    if os.path.exists(savepath):\n",
    "        print(\"{0}存在！\".format(savepath))\n",
    "        if update:\n",
    "            print(\"重新清洗数据\")\n",
    "            df = pd.read_csv(readpath,sep=\" \") #读取\n",
    "            category = df[\"item_category_list\"].str.split(\";\",expand=True) #分解类目属性\n",
    "            category.columns = [\"category_0\",\"category_1\",\"category_2\"] #重命名\n",
    "            df = pd.concat([df,category],axis=1) #关联\n",
    "            df[\"context_timestamp\"] = pd.to_datetime(df[\"context_timestamp\"],unit=\"s\") #解析时间格式\n",
    "            df[\"context_timestamp\"] = pd.DatetimeIndex(df[\"context_timestamp\"]).shift(-16,freq=\"H\")#平移16个小时     \n",
    "            df[\"context_timestamp\"] = pd.to_datetime(df[\"context_timestamp\"],unit=\"s\") #解析时间格式\n",
    "            df = parse_time(df,\"context_timestamp\") #解析出天、小时\n",
    "            df.to_pickle(savepath) #存储文件\n",
    "            print(\"保存在文件路径{0}\".format(savepath)) #\n",
    "        else:\n",
    "            print(\"不重新清洗数据\")\n",
    "    else:\n",
    "        df = pd.read_csv(readpath,sep=\" \") #读取\n",
    "        category = df[\"item_category_list\"].str.split(\";\",expand=True) #分解类目属性\n",
    "        category.columns = [\"category_0\",\"category_1\",\"category_2\"] #重命名\n",
    "        df = pd.concat([df,category],axis=1) #关联\n",
    "        df[\"context_timestamp\"] = pd.to_datetime(df[\"context_timestamp\"],unit=\"s\") #解析时间格式\n",
    "        df[\"context_timestamp\"] = pd.DatetimeIndex(df[\"context_timestamp\"]).shift(-16,freq=\"H\")#平移16个小时 \n",
    "        df[\"context_timestamp\"] = pd.to_datetime(df[\"context_timestamp\"],unit=\"s\") #解析时间格式\n",
    "        df = parse_time(df,\"context_timestamp\") #解析出天、小时\n",
    "        df.to_pickle(savepath) #存储文件\n",
    "        print(\"保存在文件路径{0}\".format(savepath)) #"
   ]
  },
  {
   "cell_type": "code",
   "execution_count": 14,
   "metadata": {
    "collapsed": false
   },
   "outputs": [
    {
     "name": "stdout",
     "output_type": "stream",
     "text": [
      "../数据/preprocess_path/train_1.pickle存在！\n",
      "重新清洗数据\n",
      "保存在文件路径../数据/preprocess_path/train_1.pickle\n"
     ]
    }
   ],
   "source": [
    "preprocessing_data(\"../数据/raw_path/round1_ijcai_18_train_20180301.txt\",\"../数据/preprocess_path/train_1.pickle\",True)"
   ]
  },
  {
   "cell_type": "code",
   "execution_count": 15,
   "metadata": {
    "collapsed": false
   },
   "outputs": [
    {
     "name": "stdout",
     "output_type": "stream",
     "text": [
      "../数据/preprocess_path/test_1.pickle存在！\n",
      "重新清洗数据\n",
      "保存在文件路径../数据/preprocess_path/test_1.pickle\n"
     ]
    }
   ],
   "source": [
    "preprocessing_data(\"../数据/raw_path/round1_ijcai_18_test_a_20180301.txt\",\"../数据/preprocess_path/test_1.pickle\",True)"
   ]
  },
  {
   "cell_type": "code",
   "execution_count": 16,
   "metadata": {
    "collapsed": false
   },
   "outputs": [
    {
     "data": {
      "text/plain": [
       "(Timestamp('2018-09-24 00:00:02'), Timestamp('2018-09-24 23:59:25'))"
      ]
     },
     "execution_count": 16,
     "metadata": {},
     "output_type": "execute_result"
    }
   ],
   "source": [
    "test = pd.read_pickle(\"../数据/preprocess_path/test_1.pickle\")\n",
    "test[\"context_timestamp\"].min(),test[\"context_timestamp\"].max()"
   ]
  },
  {
   "cell_type": "code",
   "execution_count": 18,
   "metadata": {
    "collapsed": false
   },
   "outputs": [
    {
     "data": {
      "text/plain": [
       "array([24])"
      ]
     },
     "execution_count": 18,
     "metadata": {},
     "output_type": "execute_result"
    }
   ],
   "source": [
    "test[\"day\"].unique()"
   ]
  },
  {
   "cell_type": "code",
   "execution_count": 20,
   "metadata": {
    "collapsed": false
   },
   "outputs": [
    {
     "data": {
      "text/plain": [
       "(Timestamp('2018-09-17 00:00:01'), Timestamp('2018-09-23 23:59:47'))"
      ]
     },
     "execution_count": 20,
     "metadata": {},
     "output_type": "execute_result"
    }
   ],
   "source": [
    "train = pd.read_pickle(\"../数据/preprocess_path/train_1.pickle\")\n",
    "train[\"context_timestamp\"].min(),train[\"context_timestamp\"].max()"
   ]
  },
  {
   "cell_type": "code",
   "execution_count": 22,
   "metadata": {
    "collapsed": false
   },
   "outputs": [
    {
     "data": {
      "text/plain": [
       "array([17, 20, 18, 19, 21, 22, 23])"
      ]
     },
     "execution_count": 22,
     "metadata": {},
     "output_type": "execute_result"
    }
   ],
   "source": [
    "train[\"day\"].unique()"
   ]
  },
  {
   "cell_type": "markdown",
   "metadata": {},
   "source": [
    "## 1.创建用户点击广告的特征"
   ]
  },
  {
   "cell_type": "markdown",
   "metadata": {},
   "source": [
    "#### 1.1 统计用户点击行为的基本统计值"
   ]
  },
  {
   "cell_type": "markdown",
   "metadata": {},
   "source": [
    "#### 我们转换时间格式可以看到，我们现有的广告时间都是在2018-09-17 到 2018-09-24"
   ]
  },
  {
   "cell_type": "code",
   "execution_count": 23,
   "metadata": {
    "collapsed": false
   },
   "outputs": [],
   "source": [
    "def getMask(data,startDate,endDate):\n",
    "    '''\n",
    "    生成筛选时间窗口的条件\n",
    "    '''\n",
    "    df = copy.deepcopy(data) \n",
    "    startDate = pd.to_datetime(startDate) #开始日期\n",
    "    endDate = pd.to_datetime(endDate) + pd.Timedelta(\"1 days\") #结束日期\n",
    "    mask = (df[\"context_timestamp\"] >= startDate) & (df[\"context_timestamp\"]<= endDate) #筛选时间日期\n",
    "    return mask"
   ]
  },
  {
   "cell_type": "code",
   "execution_count": 25,
   "metadata": {
    "collapsed": false
   },
   "outputs": [],
   "source": [
    "def gen_Click_stats():\n",
    "    '''\n",
    "    生成用户点击统计量\n",
    "    1.总点击数\n",
    "    2.日平均点击量、最大、最小、中位数\n",
    "    3.最后一天点击次数\n",
    "    4.点击广告的时间间隔的最大值、最小值、平均值、中位数\n",
    "    '''\n",
    "    if os.path.exists(\"../数据/temp_path/_2_get_click_stats.pickle\"):\n",
    "        print(\"../数据/temp_path/_2_get_click_stats.pickle 已经存在！！！\")\n",
    "    else:\n",
    "        train = pd.read_pickle(\"../数据/preprocess_path/train_1.pickle\") #训练集\n",
    "        train = train.drop([\"is_trade\"],axis=1)\n",
    "        test = pd.read_pickle(\"../数据/preprocess_path/test_1.pickle\") #测试集\n",
    "        df = train.append(test,ignore_index = True) #合并数据\n",
    "        adClick = df.groupby([\"user_id\"])[\"context_timestamp\"].count() #统计点击次数\n",
    "\n",
    "        #统计天点击量\n",
    "        dayClick = df.pivot_table(index=\"user_id\",columns=\"date\",values=\"context_timestamp\",aggfunc=\"count\")\n",
    "        dayClick = dayClick.fillna(0)\n",
    "        dayClick_currence = dayClick.iloc[:,-1]\n",
    "        dayClick_mean = dayClick.mean(axis=1) #日均点击量\n",
    "        dayClick_max = dayClick.max(axis=1) #日最大点击量\n",
    "        dayClick_min = dayClick.min(axis=1) #日最小点击量\n",
    "        dayClick_median = dayClick.median(axis=1) #日中位数点击量\n",
    "\n",
    "        #以小时的维度点击\n",
    "        df[\"date_hour\"] = df[\"date\"].map(str) +\"_\" + df[\"hour\"].map(str)\n",
    "        hourClick = df.pivot_table(index=\"user_id\",columns=\"date_hour\",values=\"context_timestamp\",aggfunc=\"count\")\n",
    "        hourClick = hourClick.fillna(0)\n",
    "        hourClick_mean = hourClick.mean(axis=1) #小时均点击量\n",
    "        hourClick_max = hourClick.max(axis=1) #小时最大点击量\n",
    "        hourClick_min = hourClick.min(axis=1) #小时最小点击量\n",
    "        hourClick_median = hourClick.median(axis=1) #小时中位数点击量\n",
    "\n",
    "        #以分钟的维度点击\n",
    "        df[\"date_hour_minute\"] = df[\"date\"].map(str) +\"_\" + df[\"hour\"].map(str) + \"_\" + df[\"minute\"].map(str)\n",
    "        minuteClick = df.groupby([\"user_id\",\"date_hour_minute\"])[[\"context_timestamp\"]].count().reset_index()\n",
    "        minuteClick_mean = minuteClick.groupby(\"user_id\")[\"context_timestamp\"].mean() #分钟均点击量\n",
    "        minuteClick_max = minuteClick.groupby(\"user_id\")[\"context_timestamp\"].max() #分钟最大点击量\n",
    "        minuteClick_min = minuteClick.groupby(\"user_id\")[\"context_timestamp\"].min() #分钟最小点击量\n",
    "        minuteClick_median = minuteClick.groupby(\"user_id\")[\"context_timestamp\"].median() #分钟中位数点击量\n",
    "\n",
    "        df = df.sort_values(by=\"context_timestamp\") #时间排序\n",
    "        #计算点击频率\n",
    "        df[\"lastClick\"] = df.groupby([\"user_id\"])[[\"context_timestamp\"]].shift(1) #点击上一次\n",
    "        df[\"clickDist\"] = (df[\"context_timestamp\"] - df[\"lastClick\"])\n",
    "        df.iloc[:,-1] = df.iloc[:,-1].map(lambda x:x.total_seconds()) #点击频率\n",
    "\n",
    "        #计算时间间隔,得到最大值、最小值、平均值和中卫值\n",
    "        dist_max = df.groupby(\"user_id\")[[\"clickDist\"]].max()\n",
    "        dist_max = df.groupby(\"user_id\")[[\"clickDist\"]].min()\n",
    "        dist_mean = df.groupby(\"user_id\")[[\"clickDist\"]].mean()\n",
    "        dist_median = df.groupby(\"user_id\")[[\"clickDist\"]].median()\n",
    "        dist_std = df.groupby(\"user_id\")[\"clickDist\"].agg(np.std)\n",
    "        dist_std = dist_std.reset_index()\n",
    "        dist_std.columns = [\"user_id\",\"std\"]\n",
    "        dist_std = dist_std.set_index(\"user_id\")\n",
    "\n",
    "        #合并\n",
    "        var_ls = [adClick,dayClick_currence,\n",
    "                  dayClick_mean,dayClick_max,dayClick_min,dayClick_median,\n",
    "                 hourClick_mean,hourClick_max,hourClick_min,hourClick_median,\n",
    "                  minuteClick_mean,minuteClick_max,minuteClick_min,minuteClick_median,\n",
    "                 dist_max,dist_max,dist_mean,dist_median,dist_std]\n",
    "        var_name_ls = [\"adClick\",\"dayClick_currence\",\n",
    "                       \"dayClick_mean\",\"dayClick_max\",\"dayClick_min\",\"dayClick_median\",\n",
    "                       \"hourClick_mean\",\"hourClick_max\",\"hourClick_min\",\"hourClick_median\",\n",
    "                       \"minuteClick_mean\",\"minuteClick_max\",\"minuteClick_min\",\"minuteClick_median\",\n",
    "                        \"dist_max\",\"dist_min\",\"dist_mean\",\"dist_median\",\"dist_std\"]\n",
    "\n",
    "        clickData = df[[\"user_id\"]].drop_duplicates()\n",
    "\n",
    "        #合并所有的变量\n",
    "        for var,name in zip(var_ls,var_name_ls):\n",
    "            var = var.reset_index()\n",
    "            var.columns = [\"user_id\",name]\n",
    "            clickData = pd.merge(clickData,var,how=\"left\",left_on=\"user_id\",right_on=\"user_id\")\n",
    "\n",
    "        clickData = clickData.fillna(0) #填充0\n",
    "        clickData_path = \"../数据/temp_path/_2_get_click_stats.pickle\"\n",
    "        clickData.to_pickle(clickData_path)\n",
    "        print(\"保存在.... \",clickData_path)"
   ]
  },
  {
   "cell_type": "code",
   "execution_count": 26,
   "metadata": {
    "collapsed": false
   },
   "outputs": [
    {
     "name": "stdout",
     "output_type": "stream",
     "text": [
      "保存在....  ../数据/temp_path/_2_get_click_stats.pickle\n",
      "CPU times: user 16 s, sys: 628 ms, total: 16.6 s\n",
      "Wall time: 16.8 s\n"
     ]
    }
   ],
   "source": [
    "%%time\n",
    "gen_Click_stats()"
   ]
  },
  {
   "cell_type": "code",
   "execution_count": 27,
   "metadata": {
    "collapsed": false
   },
   "outputs": [],
   "source": [
    "def gen_first_time_to_last_margin():\n",
    "    '''\n",
    "    功能：\n",
    "    -----\n",
    "    1.获取最初一次和最后一次的行为时间差\n",
    "    2.获取当前点击时间和最初点击时间的时间差\n",
    "    3.获取当前点击时间和最后一次点击时间的时间差\n",
    "    '''\n",
    "    if os.path.exists(\"../数据/temp_path/_2_first_time_to_last_margin.pickle\"):\n",
    "        print(\"../数据/temp_path/_2_first_time_to_last_margin.pickle 已经存在\")\n",
    "    else:\n",
    "        #算第一次有有行为到最后一次有行为的时间距离\n",
    "        train = pd.read_pickle(\"../数据/preprocess_path/train_1.pickle\") #训练集\n",
    "        train = train.drop([\"is_trade\"],axis=1)\n",
    "        test = pd.read_pickle(\"../数据/preprocess_path/test_1.pickle\") #测试集\n",
    "        df = train.append(test,ignore_index = True) #合并数据\n",
    "        temp = df[[\"user_id\",\"context_timestamp\"]].drop_duplicates()\n",
    "        earlist = temp.groupby(\"user_id\")['context_timestamp'].min().reset_index()  #最早日期\n",
    "        latest = temp.groupby(\"user_id\")['context_timestamp'].max().reset_index()    #最迟日期\n",
    "        earlist = earlist.rename(columns={\"context_timestamp\":\"earlist_date\"})  #重命名\n",
    "        latest = latest.rename(columns={\"context_timestamp\":\"latest_date\"})#重命名\n",
    "        temp = pd.merge(temp,earlist,how=\"left\") \n",
    "        temp = pd.merge(temp,latest,how=\"left\")\n",
    "        temp[\"first_2_last_dist\"] = (temp[\"latest_date\"] - temp[\"earlist_date\"]) #计算第一次和最后一次点击差\n",
    "\n",
    "        #计算当前点击时间与第一次点击时间、最后一次点击时间的时间差\n",
    "        temp[\"first_2_last_dist\"] = temp[\"first_2_last_dist\"].map(lambda x:x.total_seconds())\n",
    "        temp[\"now_2_first_dist\"] = (temp[\"context_timestamp\"] - temp[\"earlist_date\"])\n",
    "        temp[\"now_2_first_dist\"] = temp[\"now_2_first_dist\"].map(lambda x:x.total_seconds()) \n",
    "        temp[\"now_2_last_dist\"] = (temp[\"latest_date\"] - temp[\"context_timestamp\"])\n",
    "        temp[\"now_2_last_dist\"] = temp[\"now_2_last_dist\"].map(lambda x:x.total_seconds()) \n",
    "        temp = temp.fillna(0)\n",
    "        temp = temp[[\"user_id\",\"context_timestamp\",\"first_2_last_dist\",\"now_2_first_dist\",\"now_2_last_dist\"]]\n",
    "        path = \"../数据/temp_path/_2_first_time_to_last_margin.pickle\"\n",
    "        temp.to_pickle(path)\n",
    "        print(path)"
   ]
  },
  {
   "cell_type": "code",
   "execution_count": 28,
   "metadata": {
    "collapsed": false
   },
   "outputs": [
    {
     "name": "stdout",
     "output_type": "stream",
     "text": [
      "../数据/temp_path/_2_first_time_to_last_margin.pickle\n",
      "CPU times: user 26.7 s, sys: 156 ms, total: 26.8 s\n",
      "Wall time: 26.8 s\n"
     ]
    }
   ],
   "source": [
    "%%time\n",
    "gen_first_time_to_last_margin()"
   ]
  },
  {
   "cell_type": "code",
   "execution_count": 29,
   "metadata": {
    "collapsed": false
   },
   "outputs": [],
   "source": [
    "def get_last_2(x):\n",
    "    try:\n",
    "        a = x.iloc[-2]\n",
    "    except:\n",
    "        a = np.nan\n",
    "    return a\n",
    "\n",
    "def get_last_3(x):\n",
    "    try:\n",
    "        a = x.iloc[-3]\n",
    "    except:\n",
    "        a = np.nan\n",
    "    return a\n",
    "\n",
    "def get_last_4(x):\n",
    "    try:\n",
    "        a = x.iloc[-4]\n",
    "    except:\n",
    "        a = np.nan\n",
    "    return a\n",
    "\n",
    "def gen_last_1_2_dist():\n",
    "    '''\n",
    "    计算倒数第一次点击与倒数第二次点击的时间差\n",
    "    '''\n",
    "    if os.path.exists(\"../数据/temp_path/_2_last_1_2_dist.pickle\"):\n",
    "        print(\"../数据/temp_path/_2_last_1_2_dist.pickle 已经存在\")\n",
    "    else:\n",
    "        train = pd.read_pickle(\"../数据/preprocess_path/train_1.pickle\") #训练集\n",
    "        train = train.drop([\"is_trade\"],axis=1)\n",
    "        test = pd.read_pickle(\"../数据/preprocess_path/test_1.pickle\") #测试集\n",
    "        df = train.append(test,ignore_index = True) #合并数据\n",
    "\n",
    "        #最后一次点击\n",
    "        temp = df[[\"user_id\",\"context_timestamp\"]].drop_duplicates() \n",
    "        temp = temp.sort_values(by=[\"context_timestamp\"])\n",
    "        lastClick_time = df.groupby([\"user_id\"])[\"context_timestamp\"].max() #最后一次点击\n",
    "        last2Click_time = df.groupby([\"user_id\"])[\"context_timestamp\"].agg(get_last_2) #倒数第二次点击\n",
    "        last3Click_time = df.groupby([\"user_id\"])[\"context_timestamp\"].agg(get_last_3) #倒数第三次点击\n",
    "\n",
    "        var_name_ls = [\"lastClick_time\",\"last2Click_time\",\"last3Click_time\"]\n",
    "        var_ls = [lastClick_time,last2Click_time,last3Click_time]\n",
    "\n",
    "        #合并\n",
    "        for var,name in zip(var_ls,var_name_ls):\n",
    "            var = var.reset_index()\n",
    "            var.columns = [\"user_id\",name]\n",
    "            temp = pd.merge(temp,var,how=\"left\")\n",
    "\n",
    "        #最后一次与倒数第二次\n",
    "        temp[\"last_click_1_2_dist\"] = temp[\"lastClick_time\"] - temp[\"last2Click_time\"]\n",
    "        temp[\"last_click_1_2_dist\"] = temp[\"last_click_1_2_dist\"].map(lambda x:x.total_seconds())\n",
    "\n",
    "        #倒数第二次与倒数第三次\n",
    "        temp[\"last_click_2_3_dist\"] = temp[\"last2Click_time\"] - temp[\"last3Click_time\"]\n",
    "        temp[\"last_click_2_3_dist\"] = temp[\"last_click_2_3_dist\"].map(lambda x:x.total_seconds())\n",
    "\n",
    "        #最后一次与倒数第3次\n",
    "        temp[\"last_click_1_3_dist\"] = temp[\"lastClick_time\"] - temp[\"last3Click_time\"]\n",
    "        temp[\"last_click_1_3_dist\"] = temp[\"last_click_1_3_dist\"].map(lambda x:x.total_seconds())\n",
    "\n",
    "        temp = temp.drop([\"context_timestamp\",\"lastClick_time\",\"last2Click_time\",\"last3Click_time\"],axis=1)\n",
    "        temp = temp.fillna(0)\n",
    "\n",
    "        path = \"../数据/temp_path/_2_last_1_2_dist.pickle\"\n",
    "        print(\"保存在... \",path)\n",
    "        temp.to_pickle(path)\n"
   ]
  },
  {
   "cell_type": "code",
   "execution_count": 30,
   "metadata": {
    "collapsed": false
   },
   "outputs": [
    {
     "name": "stdout",
     "output_type": "stream",
     "text": [
      "保存在...  ../数据/temp_path/_2_last_1_2_dist.pickle\n",
      "CPU times: user 41.6 s, sys: 60 ms, total: 41.7 s\n",
      "Wall time: 41.5 s\n"
     ]
    }
   ],
   "source": [
    "%%time\n",
    "gen_last_1_2_dist()"
   ]
  },
  {
   "cell_type": "code",
   "execution_count": 31,
   "metadata": {
    "collapsed": true
   },
   "outputs": [],
   "source": [
    "def slideWindows(n=3,start=17,end=24):\n",
    "    '''\n",
    "    统计滑动窗口,默认是3天活动窗口\n",
    "    '''\n",
    "    #读取train、test\n",
    "    train = pd.read_pickle(\"../数据/preprocess_path/train_1.pickle\") #训练集\n",
    "    train = train.drop([\"is_trade\"],axis=1)\n",
    "    test = pd.read_pickle(\"../数据/preprocess_path/test_1.pickle\") #测试集\n",
    "    df = train.append(test,ignore_index = True) #合并数据\n",
    "\n",
    "    slide_fea = df[[\"user_id\"]].drop_duplicates() #获取关联匹配的id\n",
    "    for i in range(start,end-n+2): #滑动窗口\n",
    "        temp = df[(df[\"day\"]>=i)&(df[\"day\"]<i+n)] #获取3天的活动窗口\n",
    "        stats = temp.groupby(\"user_id\",as_index=False)[\"context_timestamp\"].count() #点击次数\n",
    "        stats.columns = [\"user_id\",\"click_cnt\"]\n",
    "        new_columns = [col if col==\"user_id\" else '{0}_{1}_{2}'.format(i,i+n-1,col) for col in stats.columns]\n",
    "        stats.columns = new_columns#关联\n",
    "        slide_fea = pd.merge(slide_fea,stats,how=\"left\",left_on=\"user_id\",right_on=\"user_id\")\n",
    "    slide_fea  = slide_fea.drop_duplicates().fillna(0) #填充为0\n",
    "    path = \"../数据/temp_path/_2_slide_windows_stats.pickle\"\n",
    "    slide_fea.to_pickle(path) #保存\n",
    "    print(\"保存在\",path)"
   ]
  },
  {
   "cell_type": "code",
   "execution_count": 32,
   "metadata": {
    "collapsed": false
   },
   "outputs": [
    {
     "name": "stdout",
     "output_type": "stream",
     "text": [
      "保存在 ../数据/temp_path/_2_slide_windows_stats.pickle\n",
      "CPU times: user 2.22 s, sys: 104 ms, total: 2.32 s\n",
      "Wall time: 2.38 s\n"
     ]
    }
   ],
   "source": [
    "%%time\n",
    "slideWindows()"
   ]
  },
  {
   "cell_type": "markdown",
   "metadata": {
    "collapsed": false
   },
   "source": [
    "#### 1.2 用户ID结合各类型的ID的点击行为"
   ]
  },
  {
   "cell_type": "code",
   "execution_count": 35,
   "metadata": {
    "collapsed": false
   },
   "outputs": [],
   "source": [
    "def gen_user_day_click_count():\n",
    "    '''\n",
    "    以天为时间粒度，生成用户每天的点击行为    \n",
    "    拼接组键['user_id','date',feature]\n",
    "    '''\n",
    "    train = pd.read_pickle(\"../数据/preprocess_path/train_1.pickle\") #训练集\n",
    "    train = train.drop([\"is_trade\"],axis=1)\n",
    "    test = pd.read_pickle(\"../数据/preprocess_path/test_1.pickle\") #测试集\n",
    "    df = train.append(test,ignore_index = True) #合并数据\n",
    "    ads_feature = ['item_id','item_category_list','item_property_list'\n",
    "                   ,'item_brand_id','item_city_id',\"category_0\",\"category_1\",\"category_2\"]\n",
    "    context_feature = ['shop_id','context_page_id'] #上下文\n",
    "    stats_feature = ads_feature+context_feature\n",
    "    \n",
    "    #统计每一个用户每一天点击每一个feature的次数\n",
    "    for feature in stats_feature:\n",
    "        temp_path = \"../数据/temp_path/_2_user_date_click_{0}\".format(feature)\n",
    "        user_feature_click_day = df.groupby(['user_id','date',feature]).size().reset_index().rename(columns={0:'user_'+feature+'_click_day'})\n",
    "        user_feature_click_day.to_pickle(temp_path)\n",
    "        print(\"保存在{0}\".format(temp_path))"
   ]
  },
  {
   "cell_type": "code",
   "execution_count": 36,
   "metadata": {
    "collapsed": false
   },
   "outputs": [
    {
     "name": "stdout",
     "output_type": "stream",
     "text": [
      "保存在../数据/temp_path/_2_user_date_click_item_id\n",
      "保存在../数据/temp_path/_2_user_date_click_item_category_list\n",
      "保存在../数据/temp_path/_2_user_date_click_item_property_list\n",
      "保存在../数据/temp_path/_2_user_date_click_item_brand_id\n",
      "保存在../数据/temp_path/_2_user_date_click_item_city_id\n",
      "保存在../数据/temp_path/_2_user_date_click_category_0\n",
      "保存在../数据/temp_path/_2_user_date_click_category_1\n",
      "保存在../数据/temp_path/_2_user_date_click_category_2\n",
      "保存在../数据/temp_path/_2_user_date_click_shop_id\n",
      "保存在../数据/temp_path/_2_user_date_click_context_page_id\n",
      "CPU times: user 4.7 s, sys: 276 ms, total: 4.98 s\n",
      "Wall time: 5.51 s\n"
     ]
    }
   ],
   "source": [
    "%%time\n",
    "gen_user_day_click_count()"
   ]
  },
  {
   "cell_type": "code",
   "execution_count": 37,
   "metadata": {
    "collapsed": false
   },
   "outputs": [],
   "source": [
    "def gen_user_date_hour_click_count():\n",
    "    '''\n",
    "    以小时为时间粒度，生成用户每天每小时的点击行为    \n",
    "    拼接组键['user_id','date',\"hour\",feature_id]\n",
    "    '''\n",
    "    train = pd.read_pickle(\"../数据/preprocess_path/train_1.pickle\") #训练集\n",
    "    train = train.drop([\"is_trade\"],axis=1)\n",
    "    test = pd.read_pickle(\"../数据/preprocess_path/test_1.pickle\") #测试集\n",
    "    df = train.append(test,ignore_index = True) #合并数据\n",
    "    \n",
    "    ads_feature = ['item_id','item_category_list','item_property_list'\n",
    "                   ,'item_brand_id','item_city_id',\"category_0\",\"category_1\",\"category_2\"]\n",
    "    context_feature = ['shop_id','context_page_id'] #上下文\n",
    "    stats_feature = ads_feature+context_feature\n",
    "    #统计每一个用户每一天每小时点击每一个feature的次数\n",
    "    for feature in stats_feature:\n",
    "        temp_path = \"../数据/temp_path/_2_user_date_hour_click_{0}\".format(feature)\n",
    "        user_feature_click_date_hour = df.groupby(['user_id','date',\"hour\",feature]).size().reset_index().rename(columns={0:'user_'+feature+'_click_date_hour'})\n",
    "        user_feature_click_date_hour.to_pickle(temp_path)\n",
    "        print(\"保存在{0}\".format(temp_path))"
   ]
  },
  {
   "cell_type": "code",
   "execution_count": 38,
   "metadata": {
    "collapsed": false
   },
   "outputs": [
    {
     "name": "stdout",
     "output_type": "stream",
     "text": [
      "保存在../数据/temp_path/_2_user_date_hour_click_item_id\n",
      "保存在../数据/temp_path/_2_user_date_hour_click_item_category_list\n",
      "保存在../数据/temp_path/_2_user_date_hour_click_item_property_list\n",
      "保存在../数据/temp_path/_2_user_date_hour_click_item_brand_id\n",
      "保存在../数据/temp_path/_2_user_date_hour_click_item_city_id\n",
      "保存在../数据/temp_path/_2_user_date_hour_click_category_0\n",
      "保存在../数据/temp_path/_2_user_date_hour_click_category_1\n",
      "保存在../数据/temp_path/_2_user_date_hour_click_category_2\n",
      "保存在../数据/temp_path/_2_user_date_hour_click_shop_id\n",
      "保存在../数据/temp_path/_2_user_date_hour_click_context_page_id\n"
     ]
    }
   ],
   "source": [
    "gen_user_date_hour_click_count()"
   ]
  },
  {
   "cell_type": "code",
   "execution_count": 39,
   "metadata": {
    "collapsed": false
   },
   "outputs": [],
   "source": [
    "def gen_click_stats(data,col):\n",
    "    '''\n",
    "    通过函数gen_user_day_click_count 和 gen_user_date_hour_click_count我们得到了\n",
    "    每个用户以不同的时间粒度（天、小时）对不同的id进行提取点击特征。\n",
    "    如：user_item_id_day,user_item_id_date_hour\n",
    "    现在对这些点击特征提取统计特征\n",
    "    '''\n",
    "    df = copy.deepcopy(data) #拷贝对象\n",
    "    clicks_user_day = pd.DataFrame(data.groupby(['user_id', col])['context_timestamp'].count(), ) \n",
    "    clicks_user_day.rename(columns={'context_timestamp': col+'_m'}, inplace=True)\n",
    "    clicks_user_day.reset_index(inplace=True)\n",
    "    #提取统计特征\n",
    "    clicks_user_day_mean = pd.DataFrame(clicks_user_day.groupby(['user_id'])[col+'_m'].mean()).rename(columns={col+'_m':col+'_mean'}).reset_index()\n",
    "    clicks_user_day_max = pd.DataFrame(clicks_user_day.groupby(['user_id'])[col+'_m'].max()).rename(columns={col+'_m':col+'_max'}).reset_index()\n",
    "    clicks_user_day_min = pd.DataFrame(clicks_user_day.groupby(['user_id'])[col+'_m'].min()).rename(columns={col+'_m':col+'_min'}).reset_index()\n",
    "    stats_columns = [col+'_max',col+'_mean',col+'_min']\n",
    "    \n",
    "    click_stats = df[[\"user_id\"]].drop_duplicates()\n",
    "    click_stats = pd.merge(click_stats,clicks_user_day_mean,how='left',left_on='user_id',right_on=\"user_id\") #关联平均值\n",
    "    click_stats = pd.merge(click_stats, clicks_user_day_max, how='left', left_on='user_id',right_on=\"user_id\") #关联最大值\n",
    "    click_stats = pd.merge(click_stats, clicks_user_day_min, how='left', left_on='user_id',right_on=\"user_id\") #关联最小值\n",
    "    return click_stats"
   ]
  },
  {
   "cell_type": "code",
   "execution_count": 40,
   "metadata": {
    "collapsed": false
   },
   "outputs": [],
   "source": [
    "def gen_date_and_hour_click_stats():\n",
    "    '''\n",
    "    调用函数gen_click_stats，生成每个用户以天为粒度和小时为粒度对不同的id的点击次数的统计\n",
    "    '''\n",
    "    train = pd.read_pickle(\"../数据/preprocess_path/train_1.pickle\") #训练集\n",
    "    train = train.drop([\"is_trade\"],axis=1)\n",
    "    test = pd.read_pickle(\"../数据/preprocess_path/test_1.pickle\") #测试集\n",
    "    df = train.append(test,ignore_index = True) #合并数据\n",
    "\n",
    "    ads_feature = ['item_id','item_category_list','item_property_list'\n",
    "                   ,'item_brand_id','item_city_id',\"category_0\",\"category_1\",\"category_2\"]\n",
    "    context_feature = ['shop_id','context_page_id'] #上下文\n",
    "    stats_feature = ads_feature+context_feature\n",
    "    \n",
    "    #以天为时间粒度的统计变量\n",
    "    for i in stats_feature:\n",
    "        click_stats_save_path = \"../数据/temp_path/_2_user_date_click_stats_{0}.pickle\".format(i) #结果存储路径\n",
    "        temp_day_path = \"../数据/temp_path/_2_user_date_click_{0}\".format(i) \n",
    "        print(\"正在读取.....\",temp_day_path)\n",
    "        temp_day_df = pd.read_pickle(temp_day_path) #读取数据\n",
    "        temp_day_df = pd.merge(df,temp_day_df,how=\"left\",left_on=[\"user_id\",\"date\",i],right_on=[\"user_id\",\"date\",i]) #关联原来表\n",
    "        click_stats = gen_click_stats(temp_day_df,'user_'+i+'_click_day')  #获取点击次数的统计值\n",
    "        click_stats.to_pickle(click_stats_save_path) #保存路径\n",
    "        print(\"正在保存.....\",click_stats_save_path) \n",
    "        \n",
    "    #以小时为时间粒度的统计变量\n",
    "    for i in stats_feature:\n",
    "        click_stats_save_path = \"../数据/temp_path/_2_user_date_hour_click_stats_{0}.pickle\".format(i) #结果存储路径\n",
    "        temp_day_path = \"../数据/temp_path/_2_user_date_hour_click_{0}\".format(i) \n",
    "        print(\"正在读取.....\",temp_day_path)\n",
    "        temp_day_df = pd.read_pickle(temp_day_path) #读取数据\n",
    "        temp_day_df = pd.merge(df,temp_day_df,how=\"left\",left_on=[\"user_id\",\"date\",\"hour\",i],right_on=[\"user_id\",\"date\",\"hour\",i]) #关联原来表\n",
    "        click_stats = gen_click_stats(temp_day_df,'user_'+i+'_click_date_hour')  #获取点击次数的统计值\n",
    "        click_stats.to_pickle(click_stats_save_path) #保存路径\n",
    "        print(\"正在保存.....\",click_stats_save_path)\n",
    "        "
   ]
  },
  {
   "cell_type": "code",
   "execution_count": 41,
   "metadata": {
    "collapsed": false
   },
   "outputs": [
    {
     "name": "stdout",
     "output_type": "stream",
     "text": [
      "正在读取..... ../数据/temp_path/_2_user_date_click_item_id\n",
      "正在保存..... ../数据/temp_path/_2_user_date_click_stats_item_id.pickle\n",
      "正在读取..... ../数据/temp_path/_2_user_date_click_item_category_list\n",
      "正在保存..... ../数据/temp_path/_2_user_date_click_stats_item_category_list.pickle\n",
      "正在读取..... ../数据/temp_path/_2_user_date_click_item_property_list\n",
      "正在保存..... ../数据/temp_path/_2_user_date_click_stats_item_property_list.pickle\n",
      "正在读取..... ../数据/temp_path/_2_user_date_click_item_brand_id\n",
      "正在保存..... ../数据/temp_path/_2_user_date_click_stats_item_brand_id.pickle\n",
      "正在读取..... ../数据/temp_path/_2_user_date_click_item_city_id\n",
      "正在保存..... ../数据/temp_path/_2_user_date_click_stats_item_city_id.pickle\n",
      "正在读取..... ../数据/temp_path/_2_user_date_click_category_0\n",
      "正在保存..... ../数据/temp_path/_2_user_date_click_stats_category_0.pickle\n",
      "正在读取..... ../数据/temp_path/_2_user_date_click_category_1\n",
      "正在保存..... ../数据/temp_path/_2_user_date_click_stats_category_1.pickle\n",
      "正在读取..... ../数据/temp_path/_2_user_date_click_category_2\n",
      "正在保存..... ../数据/temp_path/_2_user_date_click_stats_category_2.pickle\n",
      "正在读取..... ../数据/temp_path/_2_user_date_click_shop_id\n",
      "正在保存..... ../数据/temp_path/_2_user_date_click_stats_shop_id.pickle\n",
      "正在读取..... ../数据/temp_path/_2_user_date_click_context_page_id\n",
      "正在保存..... ../数据/temp_path/_2_user_date_click_stats_context_page_id.pickle\n",
      "正在读取..... ../数据/temp_path/_2_user_date_hour_click_item_id\n",
      "正在保存..... ../数据/temp_path/_2_user_date_hour_click_stats_item_id.pickle\n",
      "正在读取..... ../数据/temp_path/_2_user_date_hour_click_item_category_list\n",
      "正在保存..... ../数据/temp_path/_2_user_date_hour_click_stats_item_category_list.pickle\n",
      "正在读取..... ../数据/temp_path/_2_user_date_hour_click_item_property_list\n",
      "正在保存..... ../数据/temp_path/_2_user_date_hour_click_stats_item_property_list.pickle\n",
      "正在读取..... ../数据/temp_path/_2_user_date_hour_click_item_brand_id\n",
      "正在保存..... ../数据/temp_path/_2_user_date_hour_click_stats_item_brand_id.pickle\n",
      "正在读取..... ../数据/temp_path/_2_user_date_hour_click_item_city_id\n",
      "正在保存..... ../数据/temp_path/_2_user_date_hour_click_stats_item_city_id.pickle\n",
      "正在读取..... ../数据/temp_path/_2_user_date_hour_click_category_0\n",
      "正在保存..... ../数据/temp_path/_2_user_date_hour_click_stats_category_0.pickle\n",
      "正在读取..... ../数据/temp_path/_2_user_date_hour_click_category_1\n",
      "正在保存..... ../数据/temp_path/_2_user_date_hour_click_stats_category_1.pickle\n",
      "正在读取..... ../数据/temp_path/_2_user_date_hour_click_category_2\n",
      "正在保存..... ../数据/temp_path/_2_user_date_hour_click_stats_category_2.pickle\n",
      "正在读取..... ../数据/temp_path/_2_user_date_hour_click_shop_id\n",
      "正在保存..... ../数据/temp_path/_2_user_date_hour_click_stats_shop_id.pickle\n",
      "正在读取..... ../数据/temp_path/_2_user_date_hour_click_context_page_id\n",
      "正在保存..... ../数据/temp_path/_2_user_date_hour_click_stats_context_page_id.pickle\n",
      "CPU times: user 26.5 s, sys: 1.63 s, total: 28.1 s\n",
      "Wall time: 32.7 s\n"
     ]
    }
   ],
   "source": [
    "%%time\n",
    "gen_date_and_hour_click_stats()"
   ]
  },
  {
   "cell_type": "code",
   "execution_count": 85,
   "metadata": {
    "collapsed": false
   },
   "outputs": [
    {
     "name": "stdout",
     "output_type": "stream",
     "text": [
      "../数据/temp_path/_2_get_click_stats.pickle 已经存在！！！\n",
      "../数据/temp_path/_2_first_time_to_last_margin.pickle 已经存在\n",
      "../数据/temp_path/_2_last_1_2_dist.pickle 已经存在\n",
      "保存在 ../数据/temp_path/_2_slide_windows_stats.pickle\n",
      "保存在../数据/temp_path/_2_user_date_click_item_id\n",
      "保存在../数据/temp_path/_2_user_date_click_item_category_list\n",
      "保存在../数据/temp_path/_2_user_date_click_item_property_list\n",
      "保存在../数据/temp_path/_2_user_date_click_item_brand_id\n",
      "保存在../数据/temp_path/_2_user_date_click_item_city_id\n",
      "保存在../数据/temp_path/_2_user_date_click_category_0\n",
      "保存在../数据/temp_path/_2_user_date_click_category_1\n",
      "保存在../数据/temp_path/_2_user_date_click_category_2\n",
      "保存在../数据/temp_path/_2_user_date_click_shop_id\n",
      "保存在../数据/temp_path/_2_user_date_click_context_page_id\n",
      "保存在../数据/temp_path/_2_user_date_hour_click_item_id\n",
      "保存在../数据/temp_path/_2_user_date_hour_click_item_category_list\n",
      "保存在../数据/temp_path/_2_user_date_hour_click_item_property_list\n",
      "保存在../数据/temp_path/_2_user_date_hour_click_item_brand_id\n",
      "保存在../数据/temp_path/_2_user_date_hour_click_item_city_id\n",
      "保存在../数据/temp_path/_2_user_date_hour_click_category_0\n",
      "保存在../数据/temp_path/_2_user_date_hour_click_category_1\n",
      "保存在../数据/temp_path/_2_user_date_hour_click_category_2\n",
      "保存在../数据/temp_path/_2_user_date_hour_click_shop_id\n",
      "保存在../数据/temp_path/_2_user_date_hour_click_context_page_id\n",
      "正在读取..... ../数据/temp_path/_2_user_date_click_item_id\n",
      "正在保存..... ../数据/temp_path/_2_user_date_click_stats_item_id.pickle\n",
      "正在读取..... ../数据/temp_path/_2_user_date_click_item_category_list\n",
      "正在保存..... ../数据/temp_path/_2_user_date_click_stats_item_category_list.pickle\n",
      "正在读取..... ../数据/temp_path/_2_user_date_click_item_property_list\n",
      "正在保存..... ../数据/temp_path/_2_user_date_click_stats_item_property_list.pickle\n",
      "正在读取..... ../数据/temp_path/_2_user_date_click_item_brand_id\n",
      "正在保存..... ../数据/temp_path/_2_user_date_click_stats_item_brand_id.pickle\n",
      "正在读取..... ../数据/temp_path/_2_user_date_click_item_city_id\n",
      "正在保存..... ../数据/temp_path/_2_user_date_click_stats_item_city_id.pickle\n",
      "正在读取..... ../数据/temp_path/_2_user_date_click_category_0\n",
      "正在保存..... ../数据/temp_path/_2_user_date_click_stats_category_0.pickle\n",
      "正在读取..... ../数据/temp_path/_2_user_date_click_category_1\n",
      "正在保存..... ../数据/temp_path/_2_user_date_click_stats_category_1.pickle\n",
      "正在读取..... ../数据/temp_path/_2_user_date_click_category_2\n",
      "正在保存..... ../数据/temp_path/_2_user_date_click_stats_category_2.pickle\n",
      "正在读取..... ../数据/temp_path/_2_user_date_click_shop_id\n",
      "正在保存..... ../数据/temp_path/_2_user_date_click_stats_shop_id.pickle\n",
      "正在读取..... ../数据/temp_path/_2_user_date_click_context_page_id\n",
      "正在保存..... ../数据/temp_path/_2_user_date_click_stats_context_page_id.pickle\n",
      "正在读取..... ../数据/temp_path/_2_user_date_hour_click_item_id\n",
      "正在保存..... ../数据/temp_path/_2_user_date_hour_click_stats_item_id.pickle\n",
      "正在读取..... ../数据/temp_path/_2_user_date_hour_click_item_category_list\n",
      "正在保存..... ../数据/temp_path/_2_user_date_hour_click_stats_item_category_list.pickle\n",
      "正在读取..... ../数据/temp_path/_2_user_date_hour_click_item_property_list\n",
      "正在保存..... ../数据/temp_path/_2_user_date_hour_click_stats_item_property_list.pickle\n",
      "正在读取..... ../数据/temp_path/_2_user_date_hour_click_item_brand_id\n",
      "正在保存..... ../数据/temp_path/_2_user_date_hour_click_stats_item_brand_id.pickle\n",
      "正在读取..... ../数据/temp_path/_2_user_date_hour_click_item_city_id\n",
      "正在保存..... ../数据/temp_path/_2_user_date_hour_click_stats_item_city_id.pickle\n",
      "正在读取..... ../数据/temp_path/_2_user_date_hour_click_category_0\n",
      "正在保存..... ../数据/temp_path/_2_user_date_hour_click_stats_category_0.pickle\n",
      "正在读取..... ../数据/temp_path/_2_user_date_hour_click_category_1\n",
      "正在保存..... ../数据/temp_path/_2_user_date_hour_click_stats_category_1.pickle\n",
      "正在读取..... ../数据/temp_path/_2_user_date_hour_click_category_2\n",
      "正在保存..... ../数据/temp_path/_2_user_date_hour_click_stats_category_2.pickle\n",
      "正在读取..... ../数据/temp_path/_2_user_date_hour_click_shop_id\n",
      "正在保存..... ../数据/temp_path/_2_user_date_hour_click_stats_shop_id.pickle\n",
      "正在读取..... ../数据/temp_path/_2_user_date_hour_click_context_page_id\n",
      "正在保存..... ../数据/temp_path/_2_user_date_hour_click_stats_context_page_id.pickle\n",
      "一共花费了67.86558151245117秒\n"
     ]
    }
   ],
   "source": [
    "if __name__ == \"__main__\":\n",
    "    t1 = time.time()\n",
    "    gen_Click_stats() #获取点击数行为\n",
    "    gen_first_time_to_last_margin() #获取时间间隔\n",
    "    gen_last_1_2_dist() #倒数第几次的点击行为时间间隔差\n",
    "    slideWindows() #滑动时间窗口\n",
    "    gen_user_day_click_count() #统计每个用户每天点击行为\n",
    "    gen_user_date_hour_click_count() #统计每个用户每个小时的点击行为\n",
    "    gen_date_and_hour_click_stats() #统计每天点击行为和每天每小时点击行为\n",
    "    t2 = time.time()\n",
    "    print(\"一共花费了{0}秒\".format(t2-t1))"
   ]
  },
  {
   "cell_type": "code",
   "execution_count": null,
   "metadata": {
    "collapsed": true
   },
   "outputs": [],
   "source": []
  }
 ],
 "metadata": {
  "anaconda-cloud": {},
  "kernelspec": {
   "display_name": "Python 3",
   "language": "python",
   "name": "python3"
  },
  "language_info": {
   "codemirror_mode": {
    "name": "ipython",
    "version": 3
   },
   "file_extension": ".py",
   "mimetype": "text/x-python",
   "name": "python",
   "nbconvert_exporter": "python",
   "pygments_lexer": "ipython3",
   "version": "3.6.0"
  }
 },
 "nbformat": 4,
 "nbformat_minor": 2
}
