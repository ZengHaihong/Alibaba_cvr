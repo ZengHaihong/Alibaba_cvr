{
 "cells": [
  {
   "cell_type": "code",
   "execution_count": 1,
   "metadata": {
    "collapsed": false
   },
   "outputs": [],
   "source": [
    "import pandas as pd\n",
    "import numpy as np\n",
    "import os\n",
    "import matplotlib.pyplot as plt\n",
    "from scipy.stats import chi2_contingency #方差检验\n",
    "import seaborn as sns\n",
    "import copy \n",
    "%matplotlib inline\n",
    "plt.style.use(\"ggplot\")"
   ]
  },
  {
   "cell_type": "code",
   "execution_count": 2,
   "metadata": {
    "collapsed": true
   },
   "outputs": [],
   "source": [
    "train = pd.read_pickle(\"../数据/preprocess_path/train_1.pickle\")"
   ]
  },
  {
   "cell_type": "code",
   "execution_count": 3,
   "metadata": {
    "collapsed": true
   },
   "outputs": [],
   "source": [
    "test = pd.read_pickle(\"../数据/preprocess_path/test_1.pickle\")"
   ]
  },
  {
   "cell_type": "code",
   "execution_count": 4,
   "metadata": {
    "collapsed": false
   },
   "outputs": [
    {
     "data": {
      "text/plain": [
       "(Timestamp('2018-09-17 00:00:01'), Timestamp('2018-09-23 23:59:47'))"
      ]
     },
     "execution_count": 4,
     "metadata": {},
     "output_type": "execute_result"
    }
   ],
   "source": [
    "train[\"context_timestamp\"].min(),train[\"context_timestamp\"].max()"
   ]
  },
  {
   "cell_type": "code",
   "execution_count": 5,
   "metadata": {
    "collapsed": false
   },
   "outputs": [
    {
     "data": {
      "text/plain": [
       "(Timestamp('2018-09-24 00:00:02'), Timestamp('2018-09-24 23:59:25'))"
      ]
     },
     "execution_count": 5,
     "metadata": {},
     "output_type": "execute_result"
    }
   ],
   "source": [
    "test[\"context_timestamp\"].min(),test[\"context_timestamp\"].max()"
   ]
  },
  {
   "cell_type": "code",
   "execution_count": 6,
   "metadata": {
    "collapsed": false
   },
   "outputs": [
    {
     "data": {
      "text/plain": [
       "(18371, 35)"
      ]
     },
     "execution_count": 6,
     "metadata": {},
     "output_type": "execute_result"
    }
   ],
   "source": [
    "test.shape"
   ]
  },
  {
   "cell_type": "code",
   "execution_count": 9,
   "metadata": {
    "collapsed": false
   },
   "outputs": [
    {
     "data": {
      "text/plain": [
       "(478138, 36)"
      ]
     },
     "execution_count": 9,
     "metadata": {},
     "output_type": "execute_result"
    }
   ],
   "source": [
    "train.shape"
   ]
  },
  {
   "cell_type": "code",
   "execution_count": 7,
   "metadata": {
    "collapsed": false
   },
   "outputs": [],
   "source": [
    "def gen_ID_global_sum_count(last_day=25,Id_feature =[\"item_id\",\"item_category_list\",\"category_0\",\"category_1\"\n",
    "                                                          ,\"category_2\",\"item_property_list\",\"item_brand_id\"\n",
    "                                                         ,\"item_city_id\",\"user_id\",\"user_gender_id\"\n",
    "                                                         ,\"user_occupation_id\",\"shop_id\"]):\n",
    "    '''\n",
    "    根据ID计算某天以前的历史统计和\n",
    "    要不要加上测试集test\n",
    "    '''\n",
    "    train = pd.read_pickle(\"../数据/preprocess_path/train_1.pickle\") #训练集\n",
    "    train = train.drop([\"is_trade\"],axis=1)\n",
    "    test = pd.read_pickle(\"../数据/preprocess_path/test_1.pickle\") #测试集\n",
    "    df = train.append(test,ignore_index = True) #合并数据\n",
    "    \n",
    "    df = df[df[\"day\"]<=last_day]\n",
    "    for i in Id_feature:\n",
    "        path = \"../数据/temp_path/_3_ID_global_sum_cnt_{0}.pickle\".format(i)\n",
    "        feature_count_sum = pd.DataFrame(df.groupby(i).size()).reset_index().rename(columns={0:i+'_sum_count'})\n",
    "        feature_count_sum.to_pickle(path)\n",
    "        del feature_count_sum\n",
    "        print(\"保存... \",path) #保存\n",
    "    "
   ]
  },
  {
   "cell_type": "code",
   "execution_count": 8,
   "metadata": {
    "collapsed": false
   },
   "outputs": [
    {
     "name": "stdout",
     "output_type": "stream",
     "text": [
      "保存...  ../数据/temp_path/_3_ID_global_sum_cnt_item_id.pickle\n",
      "保存...  ../数据/temp_path/_3_ID_global_sum_cnt_item_category_list.pickle\n",
      "保存...  ../数据/temp_path/_3_ID_global_sum_cnt_category_0.pickle\n",
      "保存...  ../数据/temp_path/_3_ID_global_sum_cnt_category_1.pickle\n",
      "保存...  ../数据/temp_path/_3_ID_global_sum_cnt_category_2.pickle\n",
      "保存...  ../数据/temp_path/_3_ID_global_sum_cnt_item_property_list.pickle\n",
      "保存...  ../数据/temp_path/_3_ID_global_sum_cnt_item_brand_id.pickle\n",
      "保存...  ../数据/temp_path/_3_ID_global_sum_cnt_item_city_id.pickle\n",
      "保存...  ../数据/temp_path/_3_ID_global_sum_cnt_user_id.pickle\n",
      "保存...  ../数据/temp_path/_3_ID_global_sum_cnt_user_gender_id.pickle\n",
      "保存...  ../数据/temp_path/_3_ID_global_sum_cnt_user_occupation_id.pickle\n",
      "保存...  ../数据/temp_path/_3_ID_global_sum_cnt_shop_id.pickle\n"
     ]
    }
   ],
   "source": [
    "if __name__ =='__main__':\n",
    "    gen_ID_global_sum_count()"
   ]
  },
  {
   "cell_type": "code",
   "execution_count": null,
   "metadata": {
    "collapsed": true
   },
   "outputs": [],
   "source": []
  }
 ],
 "metadata": {
  "kernelspec": {
   "display_name": "Python 3",
   "language": "python",
   "name": "python3"
  },
  "language_info": {
   "codemirror_mode": {
    "name": "ipython",
    "version": 3
   },
   "file_extension": ".py",
   "mimetype": "text/x-python",
   "name": "python",
   "nbconvert_exporter": "python",
   "pygments_lexer": "ipython3",
   "version": "3.6.0"
  }
 },
 "nbformat": 4,
 "nbformat_minor": 2
}
