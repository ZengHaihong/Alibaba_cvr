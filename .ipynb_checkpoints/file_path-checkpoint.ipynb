{
 "cells": [
  {
   "cell_type": "code",
   "execution_count": 1,
   "metadata": {
    "collapsed": true
   },
   "outputs": [],
   "source": [
    "import os"
   ]
  },
  {
   "cell_type": "code",
   "execution_count": 2,
   "metadata": {
    "collapsed": true
   },
   "outputs": [],
   "source": [
    "def create_path(file_path):\n",
    "    '''\n",
    "    创建文件路径\n",
    "    '''\n",
    "    if os.path.exists(file_path):\n",
    "        print(\"{0}已经存在\".format(file_path))\n",
    "    else:\n",
    "        os.makedirs(file_path)\n",
    "        print(\"创建文件路径{0}\".format(file_path))"
   ]
  },
  {
   "cell_type": "code",
   "execution_count": 7,
   "metadata": {
    "collapsed": false
   },
   "outputs": [
    {
     "name": "stdout",
     "output_type": "stream",
     "text": [
      "../数据/raw_path/已经存在\n",
      "../数据/preprocess_path/已经存在\n",
      "创建文件路径../数据/temp_path/\n"
     ]
    }
   ],
   "source": [
    "if __name__ == \"__main__\":\n",
    "    create_path(\"../数据/raw_path/\") #创建原始数据存放的路径\n",
    "    create_path(\"../数据/preprocess_path/\") #第一部初步清洗文件\n",
    "    create_path(\"../数据/temp_path/\")"
   ]
  },
  {
   "cell_type": "code",
   "execution_count": null,
   "metadata": {
    "collapsed": true
   },
   "outputs": [],
   "source": []
  },
  {
   "cell_type": "code",
   "execution_count": null,
   "metadata": {
    "collapsed": true
   },
   "outputs": [],
   "source": []
  }
 ],
 "metadata": {
  "kernelspec": {
   "display_name": "Python 3",
   "language": "python",
   "name": "python3"
  },
  "language_info": {
   "codemirror_mode": {
    "name": "ipython",
    "version": 3
   },
   "file_extension": ".py",
   "mimetype": "text/x-python",
   "name": "python",
   "nbconvert_exporter": "python",
   "pygments_lexer": "ipython3",
   "version": "3.6.0"
  }
 },
 "nbformat": 4,
 "nbformat_minor": 2
}
